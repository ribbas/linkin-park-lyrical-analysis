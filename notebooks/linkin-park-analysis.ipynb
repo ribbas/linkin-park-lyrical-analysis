{
 "cells": [
  {
   "cell_type": "markdown",
   "metadata": {},
   "source": [
    "# Linkin Park Lyrical Analysis"
   ]
  },
  {
   "cell_type": "markdown",
   "metadata": {},
   "source": [
    "Summary of notebook Lorem ipsum dolor sit amet, consectetur adipisicing elit, sed do eiusmod\n",
    "tempor incididunt ut labore et dolore magna aliqua. Ut enim ad minim veniam,\n",
    "quis nostrud exercitation ullamco laboris nisi ut aliquip ex ea commodo\n",
    "consequat. Duis aute irure dolor in reprehenderit in voluptate velit esse\n",
    "cillum dolore eu fugiat nulla pariatur. Excepteur sint occaecat cupidatat non\n",
    "proident, sunt in culpa qui officia deserunt mollit anim id est laborum."
   ]
  },
  {
   "cell_type": "code",
   "execution_count": 1,
   "metadata": {},
   "outputs": [],
   "source": [
    "# import source scripts\n",
    "import context  # build context to modules in other packages\n",
    "from data.filemgmt import vectorize_docs\n",
    "from generate_df import DataframeGenerator, LINKIN_PARK_ALBUMS\n",
    "from generate_plot import rel_freq_plot, cos_sim_plot, doc_sent_plot, phrase_sent_plot\n",
    "\n",
    "import plotly.plotly as py\n",
    "import qgrid\n",
    "qgrid.nbinstall(overwrite=True)"
   ]
  },
  {
   "cell_type": "markdown",
   "metadata": {},
   "source": [
    "## Application Programming Interface (API)\n",
    "\n",
    "```vectorize_docs``` is a function that constructs an array of the lyrics generated for the artist and album specified. It generates either an ```Album``` or ```Artist``` object and flattens its outputs before returning.\n",
    "\n",
    "Here is an example output of \"Papercut\" by Linkin Park (which happens to be the second track in the generated data), from their debut album Hybrid Theory. The first 1000 characters of the lyrics are shown."
   ]
  },
  {
   "cell_type": "code",
   "execution_count": 2,
   "metadata": {},
   "outputs": [
    {
     "name": "stdout",
     "output_type": "stream",
     "text": [
      "Song name:\n",
      "Papercut (Hybrid Theory) \n",
      "\n",
      "Lyrics:\n",
      "Why does it feel like night today?\n",
      "Something in the air's not right today\n",
      "Why am I so uptight today?\n",
      "Paranoia's all I got left\n",
      "I don't know what stressed me first\n",
      "Or how the pressure was fed\n",
      "But I know just what it feels like\n",
      "To have a voice in the back of my head\n",
      "Like a face that I hold inside\n",
      "A face that awakes when I close my eyes\n",
      "A face watches every time I lie\n",
      "A face that laughs every time I fall\n",
      "(It watches everything)\n",
      "So I know now when it's time to sink or swim\n",
      "That the face inside is hearing me\n",
      "Right beneath my skin\n",
      "It's like I'm paranoid lookin' over my back\n",
      "It's like a whirlwind inside of my head\n",
      "It's like I can't stop what I'm hearing within\n",
      "It's like the face inside is right beneath my skin\n",
      "I know I've got a face in me\n",
      "Points out all my mistakes to me\n",
      "You've got a face on the inside too\n",
      "Your paranoia's probably worse\n",
      "I don't know what set me off first but I know what I can't stand\n",
      "Everybody acts like the fact of the matter is\n",
      "I can't add up to what you can but\n",
      "Everybody ha...\n"
     ]
    }
   ],
   "source": [
    "data, labels = vectorize_docs(\n",
    "    artist=\"linkin-park\",\n",
    "    albums=[\"hybrid-theory\"],\n",
    "    keep_album=True,\n",
    "    titlify=True,\n",
    ")\n",
    "\n",
    "print \"Song name:\\n\", labels[1], \"\\n\\nLyrics:\\n\", data[1][:1000] + \"...\""
   ]
  },
  {
   "cell_type": "markdown",
   "metadata": {},
   "source": [
    "The text is then normalized through several layers of cleaning.<br>\n",
    "\n",
    "Using a sample string, the filtering process can be demonstrated. Let's pick a really tough one:<br>\n",
    "\"Ain't nothing more that'll have you grinnin’ like a possum eatin’ a sweet tater than these 80 songs.\"<br>\n",
    "(Translation: \"There's nothing more that can make you happier than these 80 songs.\")"
   ]
  },
  {
   "cell_type": "markdown",
   "metadata": {},
   "source": [
    "The text goes through all the cleaning methods in the sequence described. The methods include:\n",
    "\n",
    "**Lowercase conversion**<br>\n",
    "**_Original:_** ```\"Ain't nothing more that'll have you grinnin’ like a possum eatin’ a sweet tater than these 80 songs.\"```<br>\n",
    "**_Cleaned:_** ```\"ain't nothing more that'll have you grinnin’ like a possum eatin’ a sweet tater than these 80 songs.\"```\n",
    "\n",
    "**Expansion of word contractions**<br>\n",
    "**_Original:_** ```\"ain't nothing more that'll have you grinnin’ like a possum eatin’ a sweet tater than these 80 songs.\"```<br>\n",
    "**_Cleaned:_** ```\"is not nothing more that will have you grinnin’ like a possum eatin’ a sweet tater than these 80 songs.\"```\n",
    "\n",
    "**Stripping punctuations (except parenthesis)**<br>\n",
    "**_Original:_** ```\"is not nothing more that will have you grinnin’ like a possum eatin’ a sweet tater than these 80 songs.\"```<br>\n",
    "**_Cleaned:_** ```\"is not nothing more that will have you grinnin like a possum eatin a sweet tater than these 80 songs\"```\n",
    "\n",
    "**Stripping numerical values**<br>\n",
    "**_Original:_** ```\"is not nothing more that will have you grinnin like a possum eatin a sweet tater than these 80 songs\"```<br>\n",
    "**_Cleaned:_** ```\"is not nothing more that will have you grinnin like a possum eatin a sweet tater than these songs\"```\n",
    "\n",
    "**Penn Treebank Parts of speech tagging**<br>\n",
    "**_Original:_** ```\"is not nothing more that will have you grinnin like a possum eatin a sweet tater than these songs\"```<br>\n",
    "**_Cleaned:_** ```[('is', 'VBZ'), ('not', 'RB'), ('nothing', 'NN'), ('more', 'JJR'), ('that', 'WDT'), ('will', 'MD'), ('have', 'VB'), ('you', 'PRP'), ('grinnin', 'VBP'), ('like', 'IN'), ('a', 'DT'), ('possum', 'NN'), ('eatin', 'VBZ'), ('a', 'DT'), ('sweet', 'JJ'), ('tater', 'NN'), ('than', 'IN'), ('these', 'DT'), ('songs', 'NNS')]```\n",
    "\n",
    "**Lemmatization**<br>\n",
    "**_Original:_** ```[('is', 'VBZ'), ('not', 'RB'), ('nothing', 'NN'), ('more', 'JJR'), ('that', 'WDT'), ('will', 'MD'), ('have', 'VB'), ('you', 'PRP'), ('grinnin', 'VBP'), ('like', 'IN'), ('a', 'DT'), ('possum', 'NN'), ('eatin', 'VBZ'), ('a', 'DT'), ('sweet', 'JJ'), ('tater', 'NN'), ('than', 'IN'), ('these', 'DT'), ('songs', 'NNS')]```<br>\n",
    "**_Cleaned:_** ```['be', 'not', 'nothing', 'more', 'that', 'will', 'have', 'you', 'grinnin', 'like', 'a', 'possum', 'eatin', 'a', 'sweet', 'tater', 'than', 'these', 'song']```\n",
    "\n",
    "\n",
    "**Special case filtering methods**\n",
    "* Stripping off dates\n",
    "* Grabbing strings in between paranthesis\n",
    "* Ignoring punctuation stripping for special words, i.e. C++ "
   ]
  },
  {
   "cell_type": "code",
   "execution_count": 3,
   "metadata": {},
   "outputs": [
    {
     "name": "stdout",
     "output_type": "stream",
     "text": [
      "[u'be', 'not', 'nothing', 'more', 'that', 'will', 'have', 'you', 'grinnin', 'like', 'a', 'possum', 'eatin', 'a', 'sweet', 'tater', 'than', 'these', u'song']\n"
     ]
    }
   ],
   "source": [
    "from data import textfilter\n",
    "\n",
    "print textfilter.normalize_text(u\"Ain't nothing more that'll have you grinnin’ like a possum eatin’ a sweet tater than these 80 songs.\")"
   ]
  },
  {
   "cell_type": "markdown",
   "metadata": {},
   "source": [
    "To normalize the sample song grabbed earlier:"
   ]
  },
  {
   "cell_type": "code",
   "execution_count": 4,
   "metadata": {},
   "outputs": [
    {
     "name": "stdout",
     "output_type": "stream",
     "text": [
      "why do it feel like night today something in the air not right today why be i so uptight today paranoia all i get leave i do not know what stress me first or how the pressure be feed but i know just what it feel like to have a voice in the back of my head like a face that i hold inside a face that awake when i close my eye a face watch every time i lie a face that laugh every time i fall it watch everything so i know now when it be time to sink or swim that the face inside be hear me right beneath my skin it be like i be paranoid lookin over my back it be like a whirlwind inside of my head it be like i cannot stop what i be hear within it be like the face inside be right beneath my skin i know i have get a face in me point out all my mistake to me you have get a face on the inside too your paranoia probably worse i do not know what set me off first but i know what i cannot stand everybody act like the fact of the matter be i cannot add up to what you can but everybody have a face that they hold inside a face that awake when i close my eye a face that watch every time they lie a face that laugh every time they fall it watch everything so you know that when it be time to sink or swim that the face inside be watch you too right inside your skin it be like i be paranoid lookin over my back it be like a whirlwind inside of my head it be like i cannot stop what i be hear within it be like the face inside be right beneath my skin it be like i be paranoid lookin over my back it be like a whirlwind inside of my head it be like i cannot stop what i be hear within it be like the face inside be right beneath my skin the face inside be right beneath your skin the face inside be right beneath your skin the face inside be right beneath your skin the go down i feel the light betray me the go down i feel the light betray me it be like i be paranoid lookin over my back it be like a whirlwind inside of my head it be like i cannot stop what i be hear within it be like the face inside be right beneath my skin it be like i be paranoid lookin over my back it be like a whirlwind inside of my head it be like i cannot stop what i be hear within it be like i cannot stop what i be hear within it be like i cannot stop what i be hear within it be like the face inside be right beneath my skin\n"
     ]
    }
   ],
   "source": [
    "print \" \".join(textfilter.normalize_text(data[1]))"
   ]
  },
  {
   "cell_type": "markdown",
   "metadata": {},
   "source": [
    "## Dataframes\n",
    "\n",
    "The following variables map to arrays of dataframes or individual dataframes of their corresponding textual analysis:\n",
    "\n",
    "* ```rel_freq```: Relative frequency analysis\n",
    "* ```cos_sim```: Cosine similarity analysis\n",
    "* ```cos_sim_all```: Cosine similarity analysis on songs across all albums\n",
    "* ```doc_sent```: Aggregated document sentiment analysis\n",
    "* ```phrase_sent```: Phrase sentiment analysis"
   ]
  },
  {
   "cell_type": "markdown",
   "metadata": {},
   "source": [
    "An array of Linkin Park album titles is used to generate the analyses on the individual albums"
   ]
  },
  {
   "cell_type": "code",
   "execution_count": 5,
   "metadata": {},
   "outputs": [
    {
     "name": "stdout",
     "output_type": "stream",
     "text": [
      "('hybrid-theory', 'meteora', 'minutes-to-midnight', 'a-thousand-suns', 'living-things', 'the-hunting-party', 'one-more-light')\n"
     ]
    }
   ],
   "source": [
    "print LINKIN_PARK_ALBUMS"
   ]
  },
  {
   "cell_type": "markdown",
   "metadata": {},
   "source": [
    "The dataframes are generated with the imported `generate_df` script."
   ]
  },
  {
   "cell_type": "code",
   "execution_count": 6,
   "metadata": {
    "scrolled": false
   },
   "outputs": [
    {
     "name": "stdout",
     "output_type": "stream",
     "text": [
      "rel_freq generated\n",
      "cos_sim generated\n",
      "cos_sim_all generated\n",
      "doc_sent generated\n",
      "phrase_sent generated\n"
     ]
    }
   ],
   "source": [
    "df = DataframeGenerator()\n",
    "df.init_dfs()"
   ]
  },
  {
   "cell_type": "markdown",
   "metadata": {},
   "source": [
    "## Plots\n",
    "\n",
    "The plots for the analyses were generated with ```matplotlib``` and ```seaborn```."
   ]
  },
  {
   "cell_type": "markdown",
   "metadata": {},
   "source": [
    "### Relative Frequency Analysis\n",
    "\n",
    "Vocabulary of n-gram range [2, 8] were generated using a count vectorizer, with the following configuration:\n",
    "\n",
    "    sklearn.feature_extraction.text.CountVectorizer(\n",
    "        tokenizer=data.textfilter.normalize_text,\n",
    "        max_features=2000,\n",
    "        ngram_range=(2, 8),\n",
    "        stop_words=\"english\",\n",
    "    )\n",
    "\n",
    "The vocabulary was sorted by its counts to create the dataframe."
   ]
  },
  {
   "cell_type": "code",
   "execution_count": 7,
   "metadata": {
    "scrolled": false
   },
   "outputs": [
    {
     "data": {
      "text/html": [
       "<script type=\"text/javascript\">\n",
       "if ($(\"#dg-css\").length == 0){\n",
       "    $(\"head\").append([\n",
       "        \"<link href='https://cdn.rawgit.com/quantopian/qgrid/73eaa7adf1762f66eaf4d30ed9cbf385a7e9d9fa/qgrid/qgridjs//lib/slick.grid.css' rel='stylesheet'>\",\n",
       "        \"<link href='https://cdn.rawgit.com/quantopian/qgrid/73eaa7adf1762f66eaf4d30ed9cbf385a7e9d9fa/qgrid/qgridjs//lib/slick-default-theme.css' rel='stylesheet'>\",\n",
       "        \"<link href='//cdnjs.cloudflare.com/ajax/libs/jqueryui/1.10.4/css/jquery-ui.min.css' rel='stylesheet'>\",\n",
       "        \"<link id='dg-css' href='https://cdn.rawgit.com/quantopian/qgrid/73eaa7adf1762f66eaf4d30ed9cbf385a7e9d9fa/qgrid/qgridjs//qgrid.css' rel='stylesheet'>\"\n",
       "    ]);\n",
       "}\n",
       "</script>\n",
       "<div class='q-grid-container'>\n",
       "<div id='7b59f605-7e8c-4ec3-bf33-00a23ffa96c0' class='q-grid'></div>\n",
       "</div>\n"
      ]
     },
     "metadata": {},
     "output_type": "display_data"
    },
    {
     "data": {
      "application/javascript": [
       "var path_dictionary = {\n",
       "    jquery_drag: \"https://cdn.rawgit.com/quantopian/qgrid/73eaa7adf1762f66eaf4d30ed9cbf385a7e9d9fa/qgrid/qgridjs//lib/jquery.event.drag-2.2\",\n",
       "    slick_core: \"https://cdn.rawgit.com/quantopian/qgrid/73eaa7adf1762f66eaf4d30ed9cbf385a7e9d9fa/qgrid/qgridjs//lib/slick.core.2.2\",\n",
       "    slick_data_view: \"https://cdn.rawgit.com/quantopian/qgrid/73eaa7adf1762f66eaf4d30ed9cbf385a7e9d9fa/qgrid/qgridjs//lib/slick.dataview.2.2\",\n",
       "    slick_check_box_column: \"https://cdn.rawgit.com/quantopian/qgrid/73eaa7adf1762f66eaf4d30ed9cbf385a7e9d9fa/qgrid/qgridjs//lib/slick.checkboxselectcolumn\",\n",
       "    slick_row_selection_model: \"https://cdn.rawgit.com/quantopian/qgrid/73eaa7adf1762f66eaf4d30ed9cbf385a7e9d9fa/qgrid/qgridjs//lib/slick.rowselectionmodel\",\n",
       "    slick_grid: \"https://cdn.rawgit.com/quantopian/qgrid/73eaa7adf1762f66eaf4d30ed9cbf385a7e9d9fa/qgrid/qgridjs//lib/slick.grid.2.2\",\n",
       "    data_grid: \"https://cdn.rawgit.com/quantopian/qgrid/73eaa7adf1762f66eaf4d30ed9cbf385a7e9d9fa/qgrid/qgridjs//qgrid\",\n",
       "    date_filter: \"https://cdn.rawgit.com/quantopian/qgrid/73eaa7adf1762f66eaf4d30ed9cbf385a7e9d9fa/qgrid/qgridjs//qgrid.datefilter\",\n",
       "    slider_filter: \"https://cdn.rawgit.com/quantopian/qgrid/73eaa7adf1762f66eaf4d30ed9cbf385a7e9d9fa/qgrid/qgridjs//qgrid.sliderfilter\",\n",
       "    text_filter: \"https://cdn.rawgit.com/quantopian/qgrid/73eaa7adf1762f66eaf4d30ed9cbf385a7e9d9fa/qgrid/qgridjs//qgrid.textfilter\",\n",
       "    filter_base:  \"https://cdn.rawgit.com/quantopian/qgrid/73eaa7adf1762f66eaf4d30ed9cbf385a7e9d9fa/qgrid/qgridjs//qgrid.filterbase\",\n",
       "    handlebars: \"https://cdnjs.cloudflare.com/ajax/libs/handlebars.js/2.0.0/handlebars.min\"\n",
       "};\n",
       "\n",
       "var existing_config = require.s.contexts._.config;\n",
       "if (!existing_config.paths['underscore']){\n",
       "    path_dictionary['underscore'] = \"https://cdnjs.cloudflare.com/ajax/libs/underscore.js/1.7.0/underscore-min\";\n",
       "}\n",
       "\n",
       "if (!existing_config.paths['moment']){\n",
       "    path_dictionary['moment'] = \"https://cdnjs.cloudflare.com/ajax/libs/moment.js/2.8.3/moment.min\";\n",
       "}\n",
       "\n",
       "if (!existing_config.paths['jqueryui']){\n",
       "    path_dictionary['jqueryui'] = \"https://ajax.googleapis.com/ajax/libs/jqueryui/1.11.1/jquery-ui.min\";\n",
       "}\n",
       "\n",
       "require.config({\n",
       "    paths: path_dictionary\n",
       "});\n",
       "\n",
       "if (typeof jQuery === 'function') {\n",
       "    define('jquery', function() { return jQuery; });\n",
       "}\n",
       "\n",
       "require([\n",
       "    'jquery',\n",
       "    'jquery_drag',\n",
       "    'slick_core',\n",
       "    'slick_data_view'\n",
       "],\n",
       "function($){\n",
       "    $('#7b59f605-7e8c-4ec3-bf33-00a23ffa96c0').closest('.rendered_html').removeClass('rendered_html');\n",
       "    require([\n",
       "      'slick_check_box_column',\n",
       "      'slick_row_selection_model',\n",
       "      'slick_grid'\n",
       "    ], function(){\n",
       "        require([\"data_grid\"], function(dgrid){\n",
       "            var grid = new dgrid.QGrid('#7b59f605-7e8c-4ec3-bf33-00a23ffa96c0', [{\"Index\":7,\"term\":\"run away\",\"freq\":0.14362},{\"Index\":16,\"term\":\"face inside\",\"freq\":0.05851},{\"Index\":14,\"term\":\"closer edge\",\"freq\":0.05319},{\"Index\":32,\"term\":\"beneath skin\",\"freq\":0.04787},{\"Index\":26,\"term\":\"learn want\",\"freq\":0.04255},{\"Index\":37,\"term\":\"bring thought\",\"freq\":0.03723},{\"Index\":4,\"term\":\"stop hear like\",\"freq\":0.03723},{\"Index\":25,\"term\":\"test push\",\"freq\":0.03191},{\"Index\":5,\"term\":\"right caught\",\"freq\":0.03191},{\"Index\":8,\"term\":\"confuse real\",\"freq\":0.03191}], [{\"field\": \"Index\", \"type\": \"Integer\"}, {\"field\": \"term\"}, {\"field\": \"freq\", \"type\": \"Float\"}]);\n",
       "            grid.initialize_slick_grid({\"autoEdit\": false, \"fullWidthRows\": true, \"rowHeight\": 28, \"enableColumnReorder\": false, \"defaultColumnWidth\": 150, \"editable\": false, \"forceFitColumns\": true, \"enableTextSelectionOnCells\": true, \"syncColumnCellResize\": true});\n",
       "        });\n",
       "    });\n",
       "});\n"
      ]
     },
     "metadata": {},
     "output_type": "display_data"
    }
   ],
   "source": [
    "qgrid.show_grid(df.rel_freq[0], export_mode=True)"
   ]
  },
  {
   "cell_type": "markdown",
   "metadata": {},
   "source": [
    "Barplots of the phrases against their relative frequencies were generated."
   ]
  },
  {
   "cell_type": "code",
   "execution_count": 8,
   "metadata": {
    "scrolled": false
   },
   "outputs": [
    {
     "name": "stdout",
     "output_type": "stream",
     "text": [
      "This is the format of your plot grid:\n",
      "[ (1,1) x1,y1 ]  [ (1,2) x2,y2 ]\n",
      "[ (2,1) x3,y3 ]  [ (2,2) x4,y4 ]\n",
      "[ (3,1) x5,y5 ]  [ (3,2) x6,y6 ]\n",
      "[ (4,1) x7,y7 ]  [ (4,2) x8,y8 ]\n",
      "\n"
     ]
    },
    {
     "data": {
      "text/html": [
       "<iframe id=\"igraph\" scrolling=\"no\" style=\"border:none;\" seamless=\"seamless\" src=\"https://plot.ly/~sabbirahm3d/21.embed\" height=\"2500px\" width=\"1000px\"></iframe>"
      ],
      "text/plain": [
       "<plotly.tools.PlotlyDisplay object>"
      ]
     },
     "execution_count": 8,
     "metadata": {},
     "output_type": "execute_result"
    }
   ],
   "source": [
    "fig = rel_freq_plot(df.rel_freq)\n",
    "\n",
    "py.iplot(fig, filename='rel_freq')"
   ]
  },
  {
   "cell_type": "markdown",
   "metadata": {},
   "source": [
    "### Cosine Similarity Analysis\n",
    "\n",
    "The Term Frequency Inverse Document Frequency (TF-IDF) of each songs per album were generated to analyze the cosine similarity between them. The following configuration was used:\n",
    "\n",
    "    sklearn.feature_extraction.text.TfidfVectorizer(\n",
    "        tokenizer=data.textfilter.normalize_text,\n",
    "        max_features=500,\n",
    "        ngram_range=(1, 5),\n",
    "    )\n"
   ]
  },
  {
   "cell_type": "code",
   "execution_count": 9,
   "metadata": {},
   "outputs": [
    {
     "data": {
      "text/html": [
       "<script type=\"text/javascript\">\n",
       "if ($(\"#dg-css\").length == 0){\n",
       "    $(\"head\").append([\n",
       "        \"<link href='https://cdn.rawgit.com/quantopian/qgrid/73eaa7adf1762f66eaf4d30ed9cbf385a7e9d9fa/qgrid/qgridjs//lib/slick.grid.css' rel='stylesheet'>\",\n",
       "        \"<link href='https://cdn.rawgit.com/quantopian/qgrid/73eaa7adf1762f66eaf4d30ed9cbf385a7e9d9fa/qgrid/qgridjs//lib/slick-default-theme.css' rel='stylesheet'>\",\n",
       "        \"<link href='//cdnjs.cloudflare.com/ajax/libs/jqueryui/1.10.4/css/jquery-ui.min.css' rel='stylesheet'>\",\n",
       "        \"<link id='dg-css' href='https://cdn.rawgit.com/quantopian/qgrid/73eaa7adf1762f66eaf4d30ed9cbf385a7e9d9fa/qgrid/qgridjs//qgrid.css' rel='stylesheet'>\"\n",
       "    ]);\n",
       "}\n",
       "</script>\n",
       "<div class='q-grid-container'>\n",
       "<div id='30bf18a3-158b-4d18-abfc-64e06ab7cee1' class='q-grid'></div>\n",
       "</div>\n"
      ]
     },
     "metadata": {},
     "output_type": "display_data"
    },
    {
     "data": {
      "application/javascript": [
       "var path_dictionary = {\n",
       "    jquery_drag: \"https://cdn.rawgit.com/quantopian/qgrid/73eaa7adf1762f66eaf4d30ed9cbf385a7e9d9fa/qgrid/qgridjs//lib/jquery.event.drag-2.2\",\n",
       "    slick_core: \"https://cdn.rawgit.com/quantopian/qgrid/73eaa7adf1762f66eaf4d30ed9cbf385a7e9d9fa/qgrid/qgridjs//lib/slick.core.2.2\",\n",
       "    slick_data_view: \"https://cdn.rawgit.com/quantopian/qgrid/73eaa7adf1762f66eaf4d30ed9cbf385a7e9d9fa/qgrid/qgridjs//lib/slick.dataview.2.2\",\n",
       "    slick_check_box_column: \"https://cdn.rawgit.com/quantopian/qgrid/73eaa7adf1762f66eaf4d30ed9cbf385a7e9d9fa/qgrid/qgridjs//lib/slick.checkboxselectcolumn\",\n",
       "    slick_row_selection_model: \"https://cdn.rawgit.com/quantopian/qgrid/73eaa7adf1762f66eaf4d30ed9cbf385a7e9d9fa/qgrid/qgridjs//lib/slick.rowselectionmodel\",\n",
       "    slick_grid: \"https://cdn.rawgit.com/quantopian/qgrid/73eaa7adf1762f66eaf4d30ed9cbf385a7e9d9fa/qgrid/qgridjs//lib/slick.grid.2.2\",\n",
       "    data_grid: \"https://cdn.rawgit.com/quantopian/qgrid/73eaa7adf1762f66eaf4d30ed9cbf385a7e9d9fa/qgrid/qgridjs//qgrid\",\n",
       "    date_filter: \"https://cdn.rawgit.com/quantopian/qgrid/73eaa7adf1762f66eaf4d30ed9cbf385a7e9d9fa/qgrid/qgridjs//qgrid.datefilter\",\n",
       "    slider_filter: \"https://cdn.rawgit.com/quantopian/qgrid/73eaa7adf1762f66eaf4d30ed9cbf385a7e9d9fa/qgrid/qgridjs//qgrid.sliderfilter\",\n",
       "    text_filter: \"https://cdn.rawgit.com/quantopian/qgrid/73eaa7adf1762f66eaf4d30ed9cbf385a7e9d9fa/qgrid/qgridjs//qgrid.textfilter\",\n",
       "    filter_base:  \"https://cdn.rawgit.com/quantopian/qgrid/73eaa7adf1762f66eaf4d30ed9cbf385a7e9d9fa/qgrid/qgridjs//qgrid.filterbase\",\n",
       "    handlebars: \"https://cdnjs.cloudflare.com/ajax/libs/handlebars.js/2.0.0/handlebars.min\"\n",
       "};\n",
       "\n",
       "var existing_config = require.s.contexts._.config;\n",
       "if (!existing_config.paths['underscore']){\n",
       "    path_dictionary['underscore'] = \"https://cdnjs.cloudflare.com/ajax/libs/underscore.js/1.7.0/underscore-min\";\n",
       "}\n",
       "\n",
       "if (!existing_config.paths['moment']){\n",
       "    path_dictionary['moment'] = \"https://cdnjs.cloudflare.com/ajax/libs/moment.js/2.8.3/moment.min\";\n",
       "}\n",
       "\n",
       "if (!existing_config.paths['jqueryui']){\n",
       "    path_dictionary['jqueryui'] = \"https://ajax.googleapis.com/ajax/libs/jqueryui/1.11.1/jquery-ui.min\";\n",
       "}\n",
       "\n",
       "require.config({\n",
       "    paths: path_dictionary\n",
       "});\n",
       "\n",
       "if (typeof jQuery === 'function') {\n",
       "    define('jquery', function() { return jQuery; });\n",
       "}\n",
       "\n",
       "require([\n",
       "    'jquery',\n",
       "    'jquery_drag',\n",
       "    'slick_core',\n",
       "    'slick_data_view'\n",
       "],\n",
       "function($){\n",
       "    $('#30bf18a3-158b-4d18-abfc-64e06ab7cee1').closest('.rendered_html').removeClass('rendered_html');\n",
       "    require([\n",
       "      'slick_check_box_column',\n",
       "      'slick_row_selection_model',\n",
       "      'slick_grid'\n",
       "    ], function(){\n",
       "        require([\"data_grid\"], function(dgrid){\n",
       "            var grid = new dgrid.QGrid('#30bf18a3-158b-4d18-abfc-64e06ab7cee1', [{\"Index\":\"Papercut\",\"Papercut\":1.0,\"In The End\":0.17957,\"Pushing Me Away\":0.13547,\"A Place For My Head\":0.12832,\"With You\":0.16983,\"Forgotten\":0.12555,\"By Myself\":0.23196,\"One Step Closer\":0.07792,\"Runaway\":0.04359,\"Points Of Authority\":0.07784,\"Crawling\":0.26651},{\"Index\":\"In The End\",\"Papercut\":0.17957,\"In The End\":1.0,\"Pushing Me Away\":0.24743,\"A Place For My Head\":0.21685,\"With You\":0.23151,\"Forgotten\":0.18583,\"By Myself\":0.32408,\"One Step Closer\":0.11291,\"Runaway\":0.06085,\"Points Of Authority\":0.1055,\"Crawling\":0.21905},{\"Index\":\"Pushing Me Away\",\"Papercut\":0.13547,\"In The End\":0.24743,\"Pushing Me Away\":1.0,\"A Place For My Head\":0.19558,\"With You\":0.29353,\"Forgotten\":0.17794,\"By Myself\":0.24521,\"One Step Closer\":0.10845,\"Runaway\":0.13902,\"Points Of Authority\":0.10634,\"Crawling\":0.2543},{\"Index\":\"A Place For My Head\",\"Papercut\":0.12832,\"In The End\":0.21685,\"Pushing Me Away\":0.19558,\"A Place For My Head\":1.0,\"With You\":0.19205,\"Forgotten\":0.18339,\"By Myself\":0.22615,\"One Step Closer\":0.12765,\"Runaway\":0.07591,\"Points Of Authority\":0.15838,\"Crawling\":0.16848},{\"Index\":\"With You\",\"Papercut\":0.16983,\"In The End\":0.23151,\"Pushing Me Away\":0.29353,\"A Place For My Head\":0.19205,\"With You\":1.0,\"Forgotten\":0.20974,\"By Myself\":0.25003,\"One Step Closer\":0.13063,\"Runaway\":0.06374,\"Points Of Authority\":0.1518,\"Crawling\":0.20276},{\"Index\":\"Forgotten\",\"Papercut\":0.12555,\"In The End\":0.18583,\"Pushing Me Away\":0.17794,\"A Place For My Head\":0.18339,\"With You\":0.20974,\"Forgotten\":1.0,\"By Myself\":0.17888,\"One Step Closer\":0.09415,\"Runaway\":0.06573,\"Points Of Authority\":0.12533,\"Crawling\":0.15047},{\"Index\":\"By Myself\",\"Papercut\":0.23196,\"In The End\":0.32408,\"Pushing Me Away\":0.24521,\"A Place For My Head\":0.22615,\"With You\":0.25003,\"Forgotten\":0.17888,\"By Myself\":1.0,\"One Step Closer\":0.17238,\"Runaway\":0.10226,\"Points Of Authority\":0.11495,\"Crawling\":0.35767},{\"Index\":\"One Step Closer\",\"Papercut\":0.07792,\"In The End\":0.11291,\"Pushing Me Away\":0.10845,\"A Place For My Head\":0.12765,\"With You\":0.13063,\"Forgotten\":0.09415,\"By Myself\":0.17238,\"One Step Closer\":1.0,\"Runaway\":0.04579,\"Points Of Authority\":0.06301,\"Crawling\":0.12631},{\"Index\":\"Runaway\",\"Papercut\":0.04359,\"In The End\":0.06085,\"Pushing Me Away\":0.13902,\"A Place For My Head\":0.07591,\"With You\":0.06374,\"Forgotten\":0.06573,\"By Myself\":0.10226,\"One Step Closer\":0.04579,\"Runaway\":1.0,\"Points Of Authority\":0.03696,\"Crawling\":0.07069},{\"Index\":\"Points Of Authority\",\"Papercut\":0.07784,\"In The End\":0.1055,\"Pushing Me Away\":0.10634,\"A Place For My Head\":0.15838,\"With You\":0.1518,\"Forgotten\":0.12533,\"By Myself\":0.11495,\"One Step Closer\":0.06301,\"Runaway\":0.03696,\"Points Of Authority\":1.0,\"Crawling\":0.11528},{\"Index\":\"Crawling\",\"Papercut\":0.26651,\"In The End\":0.21905,\"Pushing Me Away\":0.2543,\"A Place For My Head\":0.16848,\"With You\":0.20276,\"Forgotten\":0.15047,\"By Myself\":0.35767,\"One Step Closer\":0.12631,\"Runaway\":0.07069,\"Points Of Authority\":0.11528,\"Crawling\":1.0}], [{\"field\": \"Index\"}, {\"field\": \"Papercut\", \"type\": \"Float\"}, {\"field\": \"In The End\", \"type\": \"Float\"}, {\"field\": \"Pushing Me Away\", \"type\": \"Float\"}, {\"field\": \"A Place For My Head\", \"type\": \"Float\"}, {\"field\": \"With You\", \"type\": \"Float\"}, {\"field\": \"Forgotten\", \"type\": \"Float\"}, {\"field\": \"By Myself\", \"type\": \"Float\"}, {\"field\": \"One Step Closer\", \"type\": \"Float\"}, {\"field\": \"Runaway\", \"type\": \"Float\"}, {\"field\": \"Points Of Authority\", \"type\": \"Float\"}, {\"field\": \"Crawling\", \"type\": \"Float\"}]);\n",
       "            grid.initialize_slick_grid({\"autoEdit\": false, \"fullWidthRows\": true, \"rowHeight\": 28, \"enableColumnReorder\": false, \"defaultColumnWidth\": 150, \"editable\": false, \"forceFitColumns\": true, \"enableTextSelectionOnCells\": true, \"syncColumnCellResize\": true});\n",
       "        });\n",
       "    });\n",
       "});\n"
      ]
     },
     "metadata": {},
     "output_type": "display_data"
    }
   ],
   "source": [
    "qgrid.show_grid(df.cos_sim[0], export_mode=True)"
   ]
  },
  {
   "cell_type": "markdown",
   "metadata": {},
   "source": [
    "Heatmaps of the matrices were generated."
   ]
  },
  {
   "cell_type": "code",
   "execution_count": 10,
   "metadata": {
    "scrolled": false
   },
   "outputs": [
    {
     "name": "stdout",
     "output_type": "stream",
     "text": [
      "This is the format of your plot grid:\n",
      "[ (1,1) x1,y1 ]  [ (1,2) x2,y2 ]\n",
      "[ (2,1) x3,y3 ]  [ (2,2) x4,y4 ]\n",
      "[ (3,1) x5,y5 ]  [ (3,2) x6,y6 ]\n",
      "[ (4,1) x7,y7 ]  [ (4,2) x8,y8 ]\n",
      "\n"
     ]
    },
    {
     "data": {
      "text/html": [
       "<iframe id=\"igraph\" scrolling=\"no\" style=\"border:none;\" seamless=\"seamless\" src=\"https://plot.ly/~sabbirahm3d/23.embed\" height=\"2000px\" width=\"900px\"></iframe>"
      ],
      "text/plain": [
       "<plotly.tools.PlotlyDisplay object>"
      ]
     },
     "execution_count": 10,
     "metadata": {},
     "output_type": "execute_result"
    }
   ],
   "source": [
    "fig = cos_sim_plot(df.cos_sim)\n",
    "py.iplot(fig, filename='cos_sim')"
   ]
  },
  {
   "cell_type": "markdown",
   "metadata": {},
   "source": [
    "The cosine similarity between songs all across the albums were also computed, and `cos_sim_all` was generated with each songs against their top 5 similar songs."
   ]
  },
  {
   "cell_type": "code",
   "execution_count": 11,
   "metadata": {
    "scrolled": false
   },
   "outputs": [
    {
     "data": {
      "text/html": [
       "<script type=\"text/javascript\">\n",
       "if ($(\"#dg-css\").length == 0){\n",
       "    $(\"head\").append([\n",
       "        \"<link href='https://cdn.rawgit.com/quantopian/qgrid/73eaa7adf1762f66eaf4d30ed9cbf385a7e9d9fa/qgrid/qgridjs//lib/slick.grid.css' rel='stylesheet'>\",\n",
       "        \"<link href='https://cdn.rawgit.com/quantopian/qgrid/73eaa7adf1762f66eaf4d30ed9cbf385a7e9d9fa/qgrid/qgridjs//lib/slick-default-theme.css' rel='stylesheet'>\",\n",
       "        \"<link href='//cdnjs.cloudflare.com/ajax/libs/jqueryui/1.10.4/css/jquery-ui.min.css' rel='stylesheet'>\",\n",
       "        \"<link id='dg-css' href='https://cdn.rawgit.com/quantopian/qgrid/73eaa7adf1762f66eaf4d30ed9cbf385a7e9d9fa/qgrid/qgridjs//qgrid.css' rel='stylesheet'>\"\n",
       "    ]);\n",
       "}\n",
       "</script>\n",
       "<div class='q-grid-container'>\n",
       "<div id='53927406-5fdf-4222-b168-071fa2d9031f' class='q-grid'></div>\n",
       "</div>\n"
      ]
     },
     "metadata": {},
     "output_type": "display_data"
    },
    {
     "data": {
      "application/javascript": [
       "var path_dictionary = {\n",
       "    jquery_drag: \"https://cdn.rawgit.com/quantopian/qgrid/73eaa7adf1762f66eaf4d30ed9cbf385a7e9d9fa/qgrid/qgridjs//lib/jquery.event.drag-2.2\",\n",
       "    slick_core: \"https://cdn.rawgit.com/quantopian/qgrid/73eaa7adf1762f66eaf4d30ed9cbf385a7e9d9fa/qgrid/qgridjs//lib/slick.core.2.2\",\n",
       "    slick_data_view: \"https://cdn.rawgit.com/quantopian/qgrid/73eaa7adf1762f66eaf4d30ed9cbf385a7e9d9fa/qgrid/qgridjs//lib/slick.dataview.2.2\",\n",
       "    slick_check_box_column: \"https://cdn.rawgit.com/quantopian/qgrid/73eaa7adf1762f66eaf4d30ed9cbf385a7e9d9fa/qgrid/qgridjs//lib/slick.checkboxselectcolumn\",\n",
       "    slick_row_selection_model: \"https://cdn.rawgit.com/quantopian/qgrid/73eaa7adf1762f66eaf4d30ed9cbf385a7e9d9fa/qgrid/qgridjs//lib/slick.rowselectionmodel\",\n",
       "    slick_grid: \"https://cdn.rawgit.com/quantopian/qgrid/73eaa7adf1762f66eaf4d30ed9cbf385a7e9d9fa/qgrid/qgridjs//lib/slick.grid.2.2\",\n",
       "    data_grid: \"https://cdn.rawgit.com/quantopian/qgrid/73eaa7adf1762f66eaf4d30ed9cbf385a7e9d9fa/qgrid/qgridjs//qgrid\",\n",
       "    date_filter: \"https://cdn.rawgit.com/quantopian/qgrid/73eaa7adf1762f66eaf4d30ed9cbf385a7e9d9fa/qgrid/qgridjs//qgrid.datefilter\",\n",
       "    slider_filter: \"https://cdn.rawgit.com/quantopian/qgrid/73eaa7adf1762f66eaf4d30ed9cbf385a7e9d9fa/qgrid/qgridjs//qgrid.sliderfilter\",\n",
       "    text_filter: \"https://cdn.rawgit.com/quantopian/qgrid/73eaa7adf1762f66eaf4d30ed9cbf385a7e9d9fa/qgrid/qgridjs//qgrid.textfilter\",\n",
       "    filter_base:  \"https://cdn.rawgit.com/quantopian/qgrid/73eaa7adf1762f66eaf4d30ed9cbf385a7e9d9fa/qgrid/qgridjs//qgrid.filterbase\",\n",
       "    handlebars: \"https://cdnjs.cloudflare.com/ajax/libs/handlebars.js/2.0.0/handlebars.min\"\n",
       "};\n",
       "\n",
       "var existing_config = require.s.contexts._.config;\n",
       "if (!existing_config.paths['underscore']){\n",
       "    path_dictionary['underscore'] = \"https://cdnjs.cloudflare.com/ajax/libs/underscore.js/1.7.0/underscore-min\";\n",
       "}\n",
       "\n",
       "if (!existing_config.paths['moment']){\n",
       "    path_dictionary['moment'] = \"https://cdnjs.cloudflare.com/ajax/libs/moment.js/2.8.3/moment.min\";\n",
       "}\n",
       "\n",
       "if (!existing_config.paths['jqueryui']){\n",
       "    path_dictionary['jqueryui'] = \"https://ajax.googleapis.com/ajax/libs/jqueryui/1.11.1/jquery-ui.min\";\n",
       "}\n",
       "\n",
       "require.config({\n",
       "    paths: path_dictionary\n",
       "});\n",
       "\n",
       "if (typeof jQuery === 'function') {\n",
       "    define('jquery', function() { return jQuery; });\n",
       "}\n",
       "\n",
       "require([\n",
       "    'jquery',\n",
       "    'jquery_drag',\n",
       "    'slick_core',\n",
       "    'slick_data_view'\n",
       "],\n",
       "function($){\n",
       "    $('#53927406-5fdf-4222-b168-071fa2d9031f').closest('.rendered_html').removeClass('rendered_html');\n",
       "    require([\n",
       "      'slick_check_box_column',\n",
       "      'slick_row_selection_model',\n",
       "      'slick_grid'\n",
       "    ], function(){\n",
       "        require([\"data_grid\"], function(dgrid){\n",
       "            var grid = new dgrid.QGrid('#53927406-5fdf-4222-b168-071fa2d9031f', [{\"Index\":\"Hands Held High\",\"Top 1\":\"Until It Breaks\",\"Top 2\":\"Waiting For The End\",\"Top 3\":\"The Wastelands\",\"Top 4\":\"Nobodys Listening\",\"Top 5\":\"Final Masquerade\"},{\"Index\":\"Guilty All The Same\",\"Top 1\":\"Leave Out All The Rest\",\"Top 2\":\"Hit The Floor\",\"Top 3\":\"Until It Breaks\",\"Top 4\":\"Keys To The Kingdom\",\"Top 5\":\"The Wastelands\"},{\"Index\":\"Bleed It Out\",\"Top 1\":\"From The Inside\",\"Top 2\":\"In The End\",\"Top 3\":\"Keys To The Kingdom\",\"Top 4\":\"Until It Breaks\",\"Top 5\":\"Lost In The Echo\"},{\"Index\":\"Dont Stay\",\"Top 1\":\"Lost In The Echo\",\"Top 2\":\"Halfway Right\",\"Top 3\":\"Breaking The Habit\",\"Top 4\":\"Burning In The Skies\",\"Top 5\":\"Faint\"},{\"Index\":\"Empty Spaces\",\"Top 1\":\"Until It Breaks\",\"Top 2\":\"When They Come For Me\",\"Top 3\":\"Nobodys Listening\",\"Top 4\":\"Hands Held High\",\"Top 5\":\"Waiting For The End\"},{\"Index\":\"In My Remains\",\"Top 1\":\"Rebellion\",\"Top 2\":\"In Between\",\"Top 3\":\"Nobodys Listening\",\"Top 4\":\"Powerless\",\"Top 5\":\"Battle Symphony\"},{\"Index\":\"Keys To The Kingdom\",\"Top 1\":\"Until It Breaks\",\"Top 2\":\"Battle Symphony\",\"Top 3\":\"Given Up\",\"Top 4\":\"Forgotten\",\"Top 5\":\"No Roads Left\"},{\"Index\":\"Waiting For The End\",\"Top 1\":\"Until It Breaks\",\"Top 2\":\"Hands Held High\",\"Top 3\":\"In The End\",\"Top 4\":\"Nobodys Listening\",\"Top 5\":\"Final Masquerade\"},{\"Index\":\"Breaking The Habit\",\"Top 1\":\"Halfway Right\",\"Top 2\":\"Burning In The Skies\",\"Top 3\":\"Lost In The Echo\",\"Top 4\":\"Until It Breaks\",\"Top 5\":\"By Myself\"},{\"Index\":\"Numb\",\"Top 1\":\"By Myself\",\"Top 2\":\"Figure09\",\"Top 3\":\"Until It Breaks\",\"Top 4\":\"Lying From You\",\"Top 5\":\"Somewhere I Belong\"},{\"Index\":\"Good Goodbye\",\"Top 1\":\"Until It Breaks\",\"Top 2\":\"All For Nothing\",\"Top 3\":\"Lost In The Echo\",\"Top 4\":\"Nobodys Listening\",\"Top 5\":\"Hands Held High\"},{\"Index\":\"Victimized\",\"Top 1\":\"Until It Breaks\",\"Top 2\":\"The Wastelands\",\"Top 3\":\"Empty Spaces\",\"Top 4\":\"Hands Held High\",\"Top 5\":\"Waiting For The End\"},{\"Index\":\"The Wastelands\",\"Top 1\":\"Until It Breaks\",\"Top 2\":\"Mark The Graves\",\"Top 3\":\"Hands Held High\",\"Top 4\":\"Nobodys Listening\",\"Top 5\":\"Victimized\"},{\"Index\":\"Somewhere I Belong\",\"Top 1\":\"Lying From You\",\"Top 2\":\"By Myself\",\"Top 3\":\"Numb\",\"Top 4\":\"In Between\",\"Top 5\":\"Halfway Right\"},{\"Index\":\"The Messenger\",\"Top 1\":\"Sharp Edges\",\"Top 2\":\"War\",\"Top 3\":\"Powerless\",\"Top 4\":\"Leave Out All The Rest\",\"Top 5\":\"Blackout\"},{\"Index\":\"Wisdom Justice And Love\",\"Top 1\":\"The Catalyst\",\"Top 2\":\"The Wastelands\",\"Top 3\":\"Nobodys Listening\",\"Top 4\":\"Hands Held High\",\"Top 5\":\"Leave Out All The Rest\"},{\"Index\":\"Heavy\",\"Top 1\":\"By Myself\",\"Top 2\":\"Waiting For The End\",\"Top 3\":\"Lost In The Echo\",\"Top 4\":\"Powerless\",\"Top 5\":\"Nobody Can Save Me\"},{\"Index\":\"What Ive Done\",\"Top 1\":\"Figure09\",\"Top 2\":\"Waiting For The End\",\"Top 3\":\"Leave Out All The Rest\",\"Top 4\":\"By Myself\",\"Top 5\":\"Burning In The Skies\"},{\"Index\":\"Nobody Can Save Me\",\"Top 1\":\"Given Up\",\"Top 2\":\"Until It Breaks\",\"Top 3\":\"Halfway Right\",\"Top 4\":\"Lost In The Echo\",\"Top 5\":\"Leave Out All The Rest\"},{\"Index\":\"Talking To Myself\",\"Top 1\":\"Halfway Right\",\"Top 2\":\"Lost In The Echo\",\"Top 3\":\"Leave Out All The Rest\",\"Top 4\":\"By Myself\",\"Top 5\":\"Until It Breaks\"},{\"Index\":\"In Pieces\",\"Top 1\":\"Lies Greed Misery\",\"Top 2\":\"Faint\",\"Top 3\":\"Sorry For Now\",\"Top 4\":\"Until It Breaks\",\"Top 5\":\"Leave Out All The Rest\"},{\"Index\":\"Mark The Graves\",\"Top 1\":\"The Wastelands\",\"Top 2\":\"Forgotten\",\"Top 3\":\"Until It Breaks\",\"Top 4\":\"Final Masquerade\",\"Top 5\":\"Hands Held High\"},{\"Index\":\"Final Masquerade\",\"Top 1\":\"Hands Held High\",\"Top 2\":\"Waiting For The End\",\"Top 3\":\"Until It Breaks\",\"Top 4\":\"In The End\",\"Top 5\":\"Nobodys Listening\"},{\"Index\":\"Lost In The Echo\",\"Top 1\":\"Halfway Right\",\"Top 2\":\"Breaking The Habit\",\"Top 3\":\"Until It Breaks\",\"Top 4\":\"By Myself\",\"Top 5\":\"Burning In The Skies\"},{\"Index\":\"Nobodys Listening\",\"Top 1\":\"Until It Breaks\",\"Top 2\":\"Hands Held High\",\"Top 3\":\"Waiting For The End\",\"Top 4\":\"The Wastelands\",\"Top 5\":\"Forgotten\"},{\"Index\":\"Robot Boy\",\"Top 1\":\"Shadow Of The Day\",\"Top 2\":\"Until It Breaks\",\"Top 3\":\"Nobodys Listening\",\"Top 4\":\"Hands Held High\",\"Top 5\":\"Final Masquerade\"},{\"Index\":\"All For Nothing\",\"Top 1\":\"Until It Breaks\",\"Top 2\":\"Halfway Right\",\"Top 3\":\"Lost In The Echo\",\"Top 4\":\"Hit The Floor\",\"Top 5\":\"No More Sorrow\"},{\"Index\":\"The Requiem\",\"Top 1\":\"The Catalyst\",\"Top 2\":\"Hands Held High\",\"Top 3\":\"Until It Breaks\",\"Top 4\":\"Nobodys Listening\",\"Top 5\":\"Rebellion\"},{\"Index\":\"Halfway Right\",\"Top 1\":\"Breaking The Habit\",\"Top 2\":\"Lost In The Echo\",\"Top 3\":\"Burning In The Skies\",\"Top 4\":\"By Myself\",\"Top 5\":\"All For Nothing\"},{\"Index\":\"When They Come For Me\",\"Top 1\":\"Empty Spaces\",\"Top 2\":\"Until It Breaks\",\"Top 3\":\"Hands Held High\",\"Top 4\":\"Victimized\",\"Top 5\":\"Nobodys Listening\"},{\"Index\":\"Figure09\",\"Top 1\":\"Numb\",\"Top 2\":\"Lying From You\",\"Top 3\":\"Lost In The Echo\",\"Top 4\":\"All For Nothing\",\"Top 5\":\"Until It Breaks\"},{\"Index\":\"With You\",\"Top 1\":\"Forgotten\",\"Top 2\":\"Pushing Me Away\",\"Top 3\":\"Until It Breaks\",\"Top 4\":\"Keys To The Kingdom\",\"Top 5\":\"From The Inside\"},{\"Index\":\"Sharp Edges\",\"Top 1\":\"Until It Breaks\",\"Top 2\":\"Rebellion\",\"Top 3\":\"Lost In The Echo\",\"Top 4\":\"Leave Out All The Rest\",\"Top 5\":\"Waiting For The End\"},{\"Index\":\"Given Up\",\"Top 1\":\"Nobody Can Save Me\",\"Top 2\":\"Halfway Right\",\"Top 3\":\"Keys To The Kingdom\",\"Top 4\":\"Breaking The Habit\",\"Top 5\":\"A Place For My Head\"},{\"Index\":\"Runaway\",\"Top 1\":\"No Roads Left\",\"Top 2\":\"Hands Held High\",\"Top 3\":\"Nobody Can Save Me\",\"Top 4\":\"Pushing Me Away\",\"Top 5\":\"Until It Breaks\"},{\"Index\":\"Easier To Run\",\"Top 1\":\"Halfway Right\",\"Top 2\":\"Lost In The Echo\",\"Top 3\":\"By Myself\",\"Top 4\":\"Lying From You\",\"Top 5\":\"Battle Symphony\"},{\"Index\":\"Battle Symphony\",\"Top 1\":\"Until It Breaks\",\"Top 2\":\"Keys To The Kingdom\",\"Top 3\":\"Lost In The Echo\",\"Top 4\":\"Hands Held High\",\"Top 5\":\"By Myself\"},{\"Index\":\"In The End\",\"Top 1\":\"Until It Breaks\",\"Top 2\":\"Waiting For The End\",\"Top 3\":\"Lost In The Echo\",\"Top 4\":\"Breaking The Habit\",\"Top 5\":\"Powerless\"},{\"Index\":\"Rebellion\",\"Top 1\":\"One More Light\",\"Top 2\":\"Waiting For The End\",\"Top 3\":\"Burn It Down\",\"Top 4\":\"Sharp Edges\",\"Top 5\":\"In My Remains\"},{\"Index\":\"Roads Untraveled\",\"Top 1\":\"Until It Breaks\",\"Top 2\":\"Empty Spaces\",\"Top 3\":\"Waiting For The End\",\"Top 4\":\"Hit The Floor\",\"Top 5\":\"All For Nothing\"},{\"Index\":\"Skin To Bone\",\"Top 1\":\"Castle Of Glass\",\"Top 2\":\"Hands Held High\",\"Top 3\":\"The Wastelands\",\"Top 4\":\"Burn It Down\",\"Top 5\":\"Waiting For The End\"},{\"Index\":\"Wretches Kings\",\"Top 1\":\"Until It Breaks\",\"Top 2\":\"Nobodys Listening\",\"Top 3\":\"Hands Held High\",\"Top 4\":\"Waiting For The End\",\"Top 5\":\"Forgotten\"},{\"Index\":\"One Step Closer\",\"Top 1\":\"In Between\",\"Top 2\":\"All For Nothing\",\"Top 3\":\"Until It Breaks\",\"Top 4\":\"Empty Spaces\",\"Top 5\":\"By Myself\"},{\"Index\":\"Blackout\",\"Top 1\":\"Burn It Down\",\"Top 2\":\"Until It Breaks\",\"Top 3\":\"All For Nothing\",\"Top 4\":\"Hit The Floor\",\"Top 5\":\"Battle Symphony\"},{\"Index\":\"One More Light\",\"Top 1\":\"Rebellion\",\"Top 2\":\"Until It Breaks\",\"Top 3\":\"Leave Out All The Rest\",\"Top 4\":\"Waiting For The End\",\"Top 5\":\"Hit The Floor\"},{\"Index\":\"Burn It Down\",\"Top 1\":\"Blackout\",\"Top 2\":\"Hands Held High\",\"Top 3\":\"Until It Breaks\",\"Top 4\":\"Waiting For The End\",\"Top 5\":\"Forgotten\"},{\"Index\":\"The Catalyst\",\"Top 1\":\"The Requiem\",\"Top 2\":\"Wisdom Justice And Love\",\"Top 3\":\"Burn It Down\",\"Top 4\":\"Lost In The Echo\",\"Top 5\":\"Hands Held High\"},{\"Index\":\"Until Its Gone\",\"Top 1\":\"Breaking The Habit\",\"Top 2\":\"Hit The Floor\",\"Top 3\":\"Until It Breaks\",\"Top 4\":\"Lost In The Echo\",\"Top 5\":\"Waiting For The End\"},{\"Index\":\"Line In The Sand\",\"Top 1\":\"Until It Breaks\",\"Top 2\":\"All For Nothing\",\"Top 3\":\"No More Sorrow\",\"Top 4\":\"Nobodys Listening\",\"Top 5\":\"Hit The Floor\"},{\"Index\":\"Sorry For Now\",\"Top 1\":\"Ill Be Gone\",\"Top 2\":\"Faint\",\"Top 3\":\"In Pieces\",\"Top 4\":\"Empty Spaces\",\"Top 5\":\"Lost In The Echo\"},{\"Index\":\"From The Inside\",\"Top 1\":\"In The End\",\"Top 2\":\"By Myself\",\"Top 3\":\"Lost In The Echo\",\"Top 4\":\"Faint\",\"Top 5\":\"Until It Breaks\"},{\"Index\":\"Powerless\",\"Top 1\":\"Iridescent\",\"Top 2\":\"In The End\",\"Top 3\":\"Hit The Floor\",\"Top 4\":\"All For Nothing\",\"Top 5\":\"Until It Breaks\"},{\"Index\":\"Iridescent\",\"Top 1\":\"Powerless\",\"Top 2\":\"Lost In The Echo\",\"Top 3\":\"Hit The Floor\",\"Top 4\":\"Until It Breaks\",\"Top 5\":\"Robot Boy\"},{\"Index\":\"War\",\"Top 1\":\"No More Sorrow\",\"Top 2\":\"Lies Greed Misery\",\"Top 3\":\"In Pieces\",\"Top 4\":\"Until It Breaks\",\"Top 5\":\"Blackout\"},{\"Index\":\"Castle Of Glass\",\"Top 1\":\"Shadow Of The Day\",\"Top 2\":\"Hands Held High\",\"Top 3\":\"Victimized\",\"Top 4\":\"Until It Breaks\",\"Top 5\":\"Keys To The Kingdom\"},{\"Index\":\"Lies Greed Misery\",\"Top 1\":\"In Pieces\",\"Top 2\":\"Until It Breaks\",\"Top 3\":\"No More Sorrow\",\"Top 4\":\"All For Nothing\",\"Top 5\":\"Hands Held High\"},{\"Index\":\"Invisible\",\"Top 1\":\"Until It Breaks\",\"Top 2\":\"Halfway Right\",\"Top 3\":\"All For Nothing\",\"Top 4\":\"Waiting For The End\",\"Top 5\":\"By Myself\"},{\"Index\":\"Lying From You\",\"Top 1\":\"Somewhere I Belong\",\"Top 2\":\"Lost In The Echo\",\"Top 3\":\"Numb\",\"Top 4\":\"Faint\",\"Top 5\":\"Until It Breaks\"},{\"Index\":\"Valentines Day\",\"Top 1\":\"Hands Held High\",\"Top 2\":\"Empty Spaces\",\"Top 3\":\"Until It Breaks\",\"Top 4\":\"Given Up\",\"Top 5\":\"Waiting For The End\"},{\"Index\":\"Papercut\",\"Top 1\":\"Until It Breaks\",\"Top 2\":\"Waiting For The End\",\"Top 3\":\"By Myself\",\"Top 4\":\"Nobody Can Save Me\",\"Top 5\":\"Crawling\"},{\"Index\":\"No More Sorrow\",\"Top 1\":\"All For Nothing\",\"Top 2\":\"Leave Out All The Rest\",\"Top 3\":\"Until It Breaks\",\"Top 4\":\"Line In The Sand\",\"Top 5\":\"Lies Greed Misery\"},{\"Index\":\"Shadow Of The Day\",\"Top 1\":\"Robot Boy\",\"Top 2\":\"Castle Of Glass\",\"Top 3\":\"Hands Held High\",\"Top 4\":\"Nobodys Listening\",\"Top 5\":\"Until It Breaks\"},{\"Index\":\"Crawling\",\"Top 1\":\"By Myself\",\"Top 2\":\"No Roads Left\",\"Top 3\":\"Given Up\",\"Top 4\":\"Somewhere I Belong\",\"Top 5\":\"Keys To The Kingdom\"},{\"Index\":\"In Between\",\"Top 1\":\"Until It Breaks\",\"Top 2\":\"Empty Spaces\",\"Top 3\":\"Somewhere I Belong\",\"Top 4\":\"Lying From You\",\"Top 5\":\"One Step Closer\"},{\"Index\":\"Leave Out All The Rest\",\"Top 1\":\"Until It Breaks\",\"Top 2\":\"Lost In The Echo\",\"Top 3\":\"Numb\",\"Top 4\":\"Hit The Floor\",\"Top 5\":\"Given Up\"},{\"Index\":\"Points Of Authority\",\"Top 1\":\"Leave Out All The Rest\",\"Top 2\":\"Line In The Sand\",\"Top 3\":\"Hit The Floor\",\"Top 4\":\"Numb\",\"Top 5\":\"Until It Breaks\"},{\"Index\":\"By Myself\",\"Top 1\":\"Halfway Right\",\"Top 2\":\"Lost In The Echo\",\"Top 3\":\"No Roads Left\",\"Top 4\":\"Breaking The Habit\",\"Top 5\":\"Numb\"},{\"Index\":\"The Little Things Give You Away\",\"Top 1\":\"Robot Boy\",\"Top 2\":\"Until It Breaks\",\"Top 3\":\"Nobodys Listening\",\"Top 4\":\"Figure09\",\"Top 5\":\"Hands Held High\"},{\"Index\":\"Hit The Floor\",\"Top 1\":\"Until It Breaks\",\"Top 2\":\"All For Nothing\",\"Top 3\":\"By Myself\",\"Top 4\":\"Powerless\",\"Top 5\":\"Lost In The Echo\"},{\"Index\":\"Until It Breaks\",\"Top 1\":\"Nobodys Listening\",\"Top 2\":\"Hands Held High\",\"Top 3\":\"Waiting For The End\",\"Top 4\":\"Lost In The Echo\",\"Top 5\":\"All For Nothing\"},{\"Index\":\"Faint\",\"Top 1\":\"Lost In The Echo\",\"Top 2\":\"By Myself\",\"Top 3\":\"Lying From You\",\"Top 4\":\"Halfway Right\",\"Top 5\":\"Breaking The Habit\"},{\"Index\":\"Ill Be Gone\",\"Top 1\":\"Sorry For Now\",\"Top 2\":\"Empty Spaces\",\"Top 3\":\"Lost In The Echo\",\"Top 4\":\"By Myself\",\"Top 5\":\"Faint\"},{\"Index\":\"Forgotten\",\"Top 1\":\"Until It Breaks\",\"Top 2\":\"Nobodys Listening\",\"Top 3\":\"Hands Held High\",\"Top 4\":\"With You\",\"Top 5\":\"Lost In The Echo\"},{\"Index\":\"Pushing Me Away\",\"Top 1\":\"With You\",\"Top 2\":\"Breaking The Habit\",\"Top 3\":\"From The Inside\",\"Top 4\":\"In The End\",\"Top 5\":\"Until It Breaks\"},{\"Index\":\"Burning In The Skies\",\"Top 1\":\"Breaking The Habit\",\"Top 2\":\"Halfway Right\",\"Top 3\":\"Lost In The Echo\",\"Top 4\":\"Until It Breaks\",\"Top 5\":\"By Myself\"},{\"Index\":\"A Place For My Head\",\"Top 1\":\"Lying From You\",\"Top 2\":\"Hands Held High\",\"Top 3\":\"Until It Breaks\",\"Top 4\":\"Given Up\",\"Top 5\":\"Nobodys Listening\"},{\"Index\":\"No Roads Left\",\"Top 1\":\"By Myself\",\"Top 2\":\"Lost In The Echo\",\"Top 3\":\"Crawling\",\"Top 4\":\"Until It Breaks\",\"Top 5\":\"Given Up\"}], [{\"field\": \"Index\"}, {\"field\": \"Top 1\"}, {\"field\": \"Top 2\"}, {\"field\": \"Top 3\"}, {\"field\": \"Top 4\"}, {\"field\": \"Top 5\"}]);\n",
       "            grid.initialize_slick_grid({\"autoEdit\": false, \"fullWidthRows\": true, \"rowHeight\": 28, \"enableColumnReorder\": false, \"defaultColumnWidth\": 150, \"editable\": false, \"forceFitColumns\": true, \"enableTextSelectionOnCells\": true, \"syncColumnCellResize\": true});\n",
       "        });\n",
       "    });\n",
       "});\n"
      ]
     },
     "metadata": {},
     "output_type": "display_data"
    }
   ],
   "source": [
    "qgrid.show_grid(df.cos_sim_all, export_mode=True)"
   ]
  },
  {
   "cell_type": "markdown",
   "metadata": {},
   "source": [
    "### Sentiment Analysis\n",
    "\n",
    "The VADER Sentiment Analyzer was used to generate the compound sentiment score for each sentences in the songs. `phrase_sent` was generated with all the phrases sorted by their sentiment scores."
   ]
  },
  {
   "cell_type": "code",
   "execution_count": 12,
   "metadata": {},
   "outputs": [
    {
     "data": {
      "text/html": [
       "<script type=\"text/javascript\">\n",
       "if ($(\"#dg-css\").length == 0){\n",
       "    $(\"head\").append([\n",
       "        \"<link href='https://cdn.rawgit.com/quantopian/qgrid/73eaa7adf1762f66eaf4d30ed9cbf385a7e9d9fa/qgrid/qgridjs//lib/slick.grid.css' rel='stylesheet'>\",\n",
       "        \"<link href='https://cdn.rawgit.com/quantopian/qgrid/73eaa7adf1762f66eaf4d30ed9cbf385a7e9d9fa/qgrid/qgridjs//lib/slick-default-theme.css' rel='stylesheet'>\",\n",
       "        \"<link href='//cdnjs.cloudflare.com/ajax/libs/jqueryui/1.10.4/css/jquery-ui.min.css' rel='stylesheet'>\",\n",
       "        \"<link id='dg-css' href='https://cdn.rawgit.com/quantopian/qgrid/73eaa7adf1762f66eaf4d30ed9cbf385a7e9d9fa/qgrid/qgridjs//qgrid.css' rel='stylesheet'>\"\n",
       "    ]);\n",
       "}\n",
       "</script>\n",
       "<div class='q-grid-container'>\n",
       "<div id='e64ffa62-81c6-4fed-93fb-b9e459b65d53' class='q-grid'></div>\n",
       "</div>\n"
      ]
     },
     "metadata": {},
     "output_type": "display_data"
    },
    {
     "data": {
      "application/javascript": [
       "var path_dictionary = {\n",
       "    jquery_drag: \"https://cdn.rawgit.com/quantopian/qgrid/73eaa7adf1762f66eaf4d30ed9cbf385a7e9d9fa/qgrid/qgridjs//lib/jquery.event.drag-2.2\",\n",
       "    slick_core: \"https://cdn.rawgit.com/quantopian/qgrid/73eaa7adf1762f66eaf4d30ed9cbf385a7e9d9fa/qgrid/qgridjs//lib/slick.core.2.2\",\n",
       "    slick_data_view: \"https://cdn.rawgit.com/quantopian/qgrid/73eaa7adf1762f66eaf4d30ed9cbf385a7e9d9fa/qgrid/qgridjs//lib/slick.dataview.2.2\",\n",
       "    slick_check_box_column: \"https://cdn.rawgit.com/quantopian/qgrid/73eaa7adf1762f66eaf4d30ed9cbf385a7e9d9fa/qgrid/qgridjs//lib/slick.checkboxselectcolumn\",\n",
       "    slick_row_selection_model: \"https://cdn.rawgit.com/quantopian/qgrid/73eaa7adf1762f66eaf4d30ed9cbf385a7e9d9fa/qgrid/qgridjs//lib/slick.rowselectionmodel\",\n",
       "    slick_grid: \"https://cdn.rawgit.com/quantopian/qgrid/73eaa7adf1762f66eaf4d30ed9cbf385a7e9d9fa/qgrid/qgridjs//lib/slick.grid.2.2\",\n",
       "    data_grid: \"https://cdn.rawgit.com/quantopian/qgrid/73eaa7adf1762f66eaf4d30ed9cbf385a7e9d9fa/qgrid/qgridjs//qgrid\",\n",
       "    date_filter: \"https://cdn.rawgit.com/quantopian/qgrid/73eaa7adf1762f66eaf4d30ed9cbf385a7e9d9fa/qgrid/qgridjs//qgrid.datefilter\",\n",
       "    slider_filter: \"https://cdn.rawgit.com/quantopian/qgrid/73eaa7adf1762f66eaf4d30ed9cbf385a7e9d9fa/qgrid/qgridjs//qgrid.sliderfilter\",\n",
       "    text_filter: \"https://cdn.rawgit.com/quantopian/qgrid/73eaa7adf1762f66eaf4d30ed9cbf385a7e9d9fa/qgrid/qgridjs//qgrid.textfilter\",\n",
       "    filter_base:  \"https://cdn.rawgit.com/quantopian/qgrid/73eaa7adf1762f66eaf4d30ed9cbf385a7e9d9fa/qgrid/qgridjs//qgrid.filterbase\",\n",
       "    handlebars: \"https://cdnjs.cloudflare.com/ajax/libs/handlebars.js/2.0.0/handlebars.min\"\n",
       "};\n",
       "\n",
       "var existing_config = require.s.contexts._.config;\n",
       "if (!existing_config.paths['underscore']){\n",
       "    path_dictionary['underscore'] = \"https://cdnjs.cloudflare.com/ajax/libs/underscore.js/1.7.0/underscore-min\";\n",
       "}\n",
       "\n",
       "if (!existing_config.paths['moment']){\n",
       "    path_dictionary['moment'] = \"https://cdnjs.cloudflare.com/ajax/libs/moment.js/2.8.3/moment.min\";\n",
       "}\n",
       "\n",
       "if (!existing_config.paths['jqueryui']){\n",
       "    path_dictionary['jqueryui'] = \"https://ajax.googleapis.com/ajax/libs/jqueryui/1.11.1/jquery-ui.min\";\n",
       "}\n",
       "\n",
       "require.config({\n",
       "    paths: path_dictionary\n",
       "});\n",
       "\n",
       "if (typeof jQuery === 'function') {\n",
       "    define('jquery', function() { return jQuery; });\n",
       "}\n",
       "\n",
       "require([\n",
       "    'jquery',\n",
       "    'jquery_drag',\n",
       "    'slick_core',\n",
       "    'slick_data_view'\n",
       "],\n",
       "function($){\n",
       "    $('#e64ffa62-81c6-4fed-93fb-b9e459b65d53').closest('.rendered_html').removeClass('rendered_html');\n",
       "    require([\n",
       "      'slick_check_box_column',\n",
       "      'slick_row_selection_model',\n",
       "      'slick_grid'\n",
       "    ], function(){\n",
       "        require([\"data_grid\"], function(dgrid){\n",
       "            var grid = new dgrid.QGrid('#e64ffa62-81c6-4fed-93fb-b9e459b65d53', [{\"Index\":0,\"phrase\":\"i be so sick of the tension sick of the hunger\",\"sentiment\":-0.8882},{\"Index\":1,\"phrase\":\"try not to break but i be so tired of this deceit\",\"sentiment\":-0.8782},{\"Index\":2,\"phrase\":\"suffer all alone in your misery\",\"sentiment\":-0.8481},{\"Index\":3,\"phrase\":\"if i be kill by the question like a cancer\",\"sentiment\":-0.8225},{\"Index\":4,\"phrase\":\"but you be lose in the beating of the storm\",\"sentiment\":-0.8201},{\"Index\":5,\"phrase\":\"you be dead wrong\",\"sentiment\":-0.8126},{\"Index\":6,\"phrase\":\"of inject poisonous drug of hate into vein of people normally humane\",\"sentiment\":-0.8126},{\"Index\":7,\"phrase\":\"war destroy you\",\"sentiment\":-0.8126},{\"Index\":8,\"phrase\":\"this be war with no weapon\",\"sentiment\":-0.8074},{\"Index\":9,\"phrase\":\"when the rich wage war it be the poor who die\",\"sentiment\":-0.8074},{\"Index\":10,\"phrase\":\"wonder what i think of you well i protect you out of courtesy\",\"sentiment\":0.7351},{\"Index\":11,\"phrase\":\"that it be over and do hope you have fun\",\"sentiment\":0.7351},{\"Index\":12,\"phrase\":\"so many people like me that put so much trust in all your lie\",\"sentiment\":0.7463},{\"Index\":13,\"phrase\":\"love you like a house of card\",\"sentiment\":0.7717},{\"Index\":14,\"phrase\":\"i come to this magnificent house of worship tonight\",\"sentiment\":0.7798},{\"Index\":15,\"phrase\":\"but i be pretty sure the world be out to get me\",\"sentiment\":0.8047},{\"Index\":16,\"phrase\":\"your love never end and if you need a friend\",\"sentiment\":0.8126},{\"Index\":17,\"phrase\":\"love keep u kind\",\"sentiment\":0.8225},{\"Index\":18,\"phrase\":\"but learn to respect it because you clearly cannot stop it\",\"sentiment\":0.8759},{\"Index\":19,\"phrase\":\"cannot be reconcile with wisdom justice and love\",\"sentiment\":0.9001}], [{\"field\": \"Index\", \"type\": \"Integer\"}, {\"field\": \"phrase\"}, {\"field\": \"sentiment\", \"type\": \"Float\"}]);\n",
       "            grid.initialize_slick_grid({\"autoEdit\": false, \"fullWidthRows\": true, \"rowHeight\": 28, \"enableColumnReorder\": false, \"defaultColumnWidth\": 150, \"editable\": false, \"forceFitColumns\": true, \"enableTextSelectionOnCells\": true, \"syncColumnCellResize\": true});\n",
       "        });\n",
       "    });\n",
       "});\n"
      ]
     },
     "metadata": {},
     "output_type": "display_data"
    }
   ],
   "source": [
    "qgrid.show_grid(df.phrase_sent, export_mode=True)"
   ]
  },
  {
   "cell_type": "code",
   "execution_count": 13,
   "metadata": {
    "scrolled": false
   },
   "outputs": [
    {
     "data": {
      "text/html": [
       "<iframe id=\"igraph\" scrolling=\"no\" style=\"border:none;\" seamless=\"seamless\" src=\"https://plot.ly/~sabbirahm3d/25.embed\" height=\"525px\" width=\"100%\"></iframe>"
      ],
      "text/plain": [
       "<plotly.tools.PlotlyDisplay object>"
      ]
     },
     "execution_count": 13,
     "metadata": {},
     "output_type": "execute_result"
    }
   ],
   "source": [
    "fig = phrase_sent_plot(df.phrase_sent)\n",
    "py.iplot(fig, filename='phrase_sent')"
   ]
  },
  {
   "cell_type": "markdown",
   "metadata": {},
   "source": [
    "### Aggregated Document Sentiment Analysis\n",
    "\n",
    "The sample mean of the sentiment scores were then generated as the aggregated sentiment score of the entire song."
   ]
  },
  {
   "cell_type": "code",
   "execution_count": 14,
   "metadata": {
    "scrolled": false
   },
   "outputs": [
    {
     "data": {
      "text/html": [
       "<script type=\"text/javascript\">\n",
       "if ($(\"#dg-css\").length == 0){\n",
       "    $(\"head\").append([\n",
       "        \"<link href='https://cdn.rawgit.com/quantopian/qgrid/73eaa7adf1762f66eaf4d30ed9cbf385a7e9d9fa/qgrid/qgridjs//lib/slick.grid.css' rel='stylesheet'>\",\n",
       "        \"<link href='https://cdn.rawgit.com/quantopian/qgrid/73eaa7adf1762f66eaf4d30ed9cbf385a7e9d9fa/qgrid/qgridjs//lib/slick-default-theme.css' rel='stylesheet'>\",\n",
       "        \"<link href='//cdnjs.cloudflare.com/ajax/libs/jqueryui/1.10.4/css/jquery-ui.min.css' rel='stylesheet'>\",\n",
       "        \"<link id='dg-css' href='https://cdn.rawgit.com/quantopian/qgrid/73eaa7adf1762f66eaf4d30ed9cbf385a7e9d9fa/qgrid/qgridjs//qgrid.css' rel='stylesheet'>\"\n",
       "    ]);\n",
       "}\n",
       "</script>\n",
       "<div class='q-grid-container'>\n",
       "<div id='14f7a2f1-fcaf-41e2-ac37-1cc03b2c1e10' class='q-grid'></div>\n",
       "</div>\n"
      ]
     },
     "metadata": {},
     "output_type": "display_data"
    },
    {
     "data": {
      "application/javascript": [
       "var path_dictionary = {\n",
       "    jquery_drag: \"https://cdn.rawgit.com/quantopian/qgrid/73eaa7adf1762f66eaf4d30ed9cbf385a7e9d9fa/qgrid/qgridjs//lib/jquery.event.drag-2.2\",\n",
       "    slick_core: \"https://cdn.rawgit.com/quantopian/qgrid/73eaa7adf1762f66eaf4d30ed9cbf385a7e9d9fa/qgrid/qgridjs//lib/slick.core.2.2\",\n",
       "    slick_data_view: \"https://cdn.rawgit.com/quantopian/qgrid/73eaa7adf1762f66eaf4d30ed9cbf385a7e9d9fa/qgrid/qgridjs//lib/slick.dataview.2.2\",\n",
       "    slick_check_box_column: \"https://cdn.rawgit.com/quantopian/qgrid/73eaa7adf1762f66eaf4d30ed9cbf385a7e9d9fa/qgrid/qgridjs//lib/slick.checkboxselectcolumn\",\n",
       "    slick_row_selection_model: \"https://cdn.rawgit.com/quantopian/qgrid/73eaa7adf1762f66eaf4d30ed9cbf385a7e9d9fa/qgrid/qgridjs//lib/slick.rowselectionmodel\",\n",
       "    slick_grid: \"https://cdn.rawgit.com/quantopian/qgrid/73eaa7adf1762f66eaf4d30ed9cbf385a7e9d9fa/qgrid/qgridjs//lib/slick.grid.2.2\",\n",
       "    data_grid: \"https://cdn.rawgit.com/quantopian/qgrid/73eaa7adf1762f66eaf4d30ed9cbf385a7e9d9fa/qgrid/qgridjs//qgrid\",\n",
       "    date_filter: \"https://cdn.rawgit.com/quantopian/qgrid/73eaa7adf1762f66eaf4d30ed9cbf385a7e9d9fa/qgrid/qgridjs//qgrid.datefilter\",\n",
       "    slider_filter: \"https://cdn.rawgit.com/quantopian/qgrid/73eaa7adf1762f66eaf4d30ed9cbf385a7e9d9fa/qgrid/qgridjs//qgrid.sliderfilter\",\n",
       "    text_filter: \"https://cdn.rawgit.com/quantopian/qgrid/73eaa7adf1762f66eaf4d30ed9cbf385a7e9d9fa/qgrid/qgridjs//qgrid.textfilter\",\n",
       "    filter_base:  \"https://cdn.rawgit.com/quantopian/qgrid/73eaa7adf1762f66eaf4d30ed9cbf385a7e9d9fa/qgrid/qgridjs//qgrid.filterbase\",\n",
       "    handlebars: \"https://cdnjs.cloudflare.com/ajax/libs/handlebars.js/2.0.0/handlebars.min\"\n",
       "};\n",
       "\n",
       "var existing_config = require.s.contexts._.config;\n",
       "if (!existing_config.paths['underscore']){\n",
       "    path_dictionary['underscore'] = \"https://cdnjs.cloudflare.com/ajax/libs/underscore.js/1.7.0/underscore-min\";\n",
       "}\n",
       "\n",
       "if (!existing_config.paths['moment']){\n",
       "    path_dictionary['moment'] = \"https://cdnjs.cloudflare.com/ajax/libs/moment.js/2.8.3/moment.min\";\n",
       "}\n",
       "\n",
       "if (!existing_config.paths['jqueryui']){\n",
       "    path_dictionary['jqueryui'] = \"https://ajax.googleapis.com/ajax/libs/jqueryui/1.11.1/jquery-ui.min\";\n",
       "}\n",
       "\n",
       "require.config({\n",
       "    paths: path_dictionary\n",
       "});\n",
       "\n",
       "if (typeof jQuery === 'function') {\n",
       "    define('jquery', function() { return jQuery; });\n",
       "}\n",
       "\n",
       "require([\n",
       "    'jquery',\n",
       "    'jquery_drag',\n",
       "    'slick_core',\n",
       "    'slick_data_view'\n",
       "],\n",
       "function($){\n",
       "    $('#14f7a2f1-fcaf-41e2-ac37-1cc03b2c1e10').closest('.rendered_html').removeClass('rendered_html');\n",
       "    require([\n",
       "      'slick_check_box_column',\n",
       "      'slick_row_selection_model',\n",
       "      'slick_grid'\n",
       "    ], function(){\n",
       "        require([\"data_grid\"], function(dgrid){\n",
       "            var grid = new dgrid.QGrid('#14f7a2f1-fcaf-41e2-ac37-1cc03b2c1e10', [{\"Index\":0,\"title\":\"the-requiem\",\"norm_comp\":-0.48877,\"sentences\":[[\"the sin of our tongue\",-0.5574],[\"the sin of our father\",-0.5574],[\"the sin of our young\",-0.5574],[\"the sin of our tongue\",-0.5574],[\"the sin of our father\",-0.5574],[\"the sin of our young\",-0.5574],[\"inside the fire of a thousand\",-0.34],[\"inside the fire of a thousand\",-0.34],[\"for the sin of hand\",-0.1027],[\"for the sin of hand\",-0.1027],[\"will we burn\",0.0],[\"will we burn\",0.0],[\"god save u everyone\",0.6486],[\"god save u everyone\",0.6486]],\"album\":\"a-thousand-suns\"},{\"Index\":1,\"title\":\"empty-spaces\",\"norm_comp\":-0.14,\"sentences\":[[\"and it seem ugly but it can get bad\",-0.7845],[\"stop talk and start try to catch up motherfucker\",-0.7783],[\"try and catch up motherfucker\",-0.6808],[\"try and catch up motherfucker\",-0.6808],[\"try to catch up motherfucker\",-0.6808],[\"try to catch up motherfucker\",-0.6808],[\"chuck say an uzi weigh a motherfucking tone\",-0.5859],[\"yall well start try to catch up motherfucker\",-0.5423],[\"a weak opposite a slack send them\",-0.4404],[\"opposite of lazy far from a punk\",-0.3612],[\"i be awfully underrated but pay me to correct it\",-0.249],[\"because even a blueprint be a gift and a curse\",-0.1531],[\"the pill that i be on be a tough one to swallow\",-0.128],[\"not a born leader i be a tough act to follow\",-0.128],[\"i will not dance even if the beat funky\",-0.1027],[\"i be not a pattern that we follow\",0.0],[\"or the same person tell you to forfeit the game\",0.0],[\"and find out the underbellys sicker than it seem\",0.0],[\"because once you get a theory of how the thing work\",0.0],[\"and i be not a robot i be not a monkey\",0.0],[\"and all the people say\",0.0],[\"pac say money change situation\",0.0],[\"kane say do not step i be not the one\",0.0],[\"and i be just a student of the game that they teach me\",0.0],[\"rock every stage and every place that they bring me\",0.0],[\"i be the opposite of where i get this\",0.0],[\"a heat send them\",0.0],[\"a crack closest to a peak\",0.0],[\"far from a punk\",0.0],[\"and all the people say\",0.0],[\"but when they come for me\",0.0],[\"come for me i will be go\",0.0],[\"but when they come for me\",0.0],[\"come for me i will be go\",0.0],[\"but when they come for me\",0.0],[\"come for me i will be go\",0.0],[\"and all the people say\",0.0],[\"and all the people say\",0.0],[\"and so it be not mistake i be gonna state it for record\",0.2584],[\"big say it increase the complication\",0.3182],[\"i come in the ring like a dog on a chain\",0.3612],[\"i be not a criminal not a role model\",0.4168],[\"everybody want the next thing to be like the first\",0.4215],[\"i be not the fortune and the fame\",0.4404]],\"album\":\"a-thousand-suns\"},{\"Index\":2,\"title\":\"the-messenger\",\"norm_comp\":0.01839,\"sentences\":[[\"cut off from this cruel world\",-0.765],[\"you be grow desperate from the fight\",-0.5994],[\"when you suffer it all\",-0.5423],[\"back home where life leave u blind\",-0.4404],[\"when life leave u blind\",-0.4404],[\"when life leave u blind\",-0.4404],[\"when you feel you be alone\",-0.25],[\"your instinct tell you to run\",0.0],[\"listen to your heart\",0.0],[\"those angel voice\",0.0],[\"they will see you to you\",0.0],[\"they will be your guide\",0.0],[\"and you always will be\",0.0],[\"this melody will always bring\",0.0],[\"you right back home\",0.0],[\"oh oh\",0.0],[\"oh oh\",0.0],[\"oh oh\",0.0],[\"and your spirit be break\",0.1779],[\"it keep u kind\",0.5267],[\"remember your love\",0.6369],[\"love keep u kind\",0.8225],[\"love keep u kind\",0.8225],[\"love keep u kind\",0.8225]],\"album\":\"a-thousand-suns\"},{\"Index\":3,\"title\":\"the-catalyst\",\"norm_comp\":-0.23557,\"sentences\":[[\"we be a broken people live under load gun\",-0.6705],[\"we be a broken people live under load gun\",-0.6705],[\"we be a broken people live under load gun oh\",-0.6705],[\"we be a broken people live under load gun\",-0.6705],[\"we be a broken people live under load gun\",-0.6705],[\"the sin of our tongue\",-0.5574],[\"the sin of our father\",-0.5574],[\"the sin of our young\",-0.5574],[\"the sin of our tongue\",-0.5574],[\"the sin of our father\",-0.5574],[\"the sin of our young\",-0.5574],[\"to symphony of blind light\",-0.4019],[\"to symphony of blind light\",-0.4019],[\"will we burn inside the fire of a thousand\",-0.34],[\"will we burn inside the fire of a thousand\",-0.34],[\"will we burn inside the fire of a thousand oh\",-0.34],[\"no\",-0.296],[\"no\",-0.296],[\"no\",-0.296],[\"no\",-0.296],[\"no\",-0.296],[\"for the sin of our hand\",-0.1027],[\"for the sin of our hand\",-0.1027],[\"like memory in cold decay\",-0.0516],[\"like memory in cold decay\",-0.0516],[\"like memory in cold decay\",-0.0516],[\"and it cannot be outfought\",0.0],[\"it cannot be outdone\",0.0],[\"it cannot outmatch\",0.0],[\"it cannot be outrun\",0.0],[\"and it cannot be outfought\",0.0],[\"it cannot be outdone\",0.0],[\"it cannot out matched\",0.0],[\"it cannot be outrun\",0.0],[\"and when i close my eye tonight\",0.0],[\"transmission echo away\",0.0],[\"far from the world of you and i\",0.0],[\"where ocean bleed into the sky\",0.0],[\"and when i close my eye tonight\",0.0],[\"transmission echo away\",0.0],[\"far from the world of you and i\",0.0],[\"where ocean bleed into the sky\",0.0],[\"transmission echo away\",0.0],[\"far from the world of you and i\",0.0],[\"where ocean bleed into the sky\",0.0],[\"lift me up\",0.0],[\"let me go\",0.0],[\"lift me up\",0.0],[\"let me go\",0.0],[\"lift me up\",0.0],[\"let me go\",0.0],[\"lift me up\",0.0],[\"let me go\",0.0],[\"lift me up\",0.0],[\"let me go\",0.0],[\"lift me up\",0.0],[\"let me go\",0.0],[\"lift me up\",0.0],[\"let me go\",0.0],[\"lift me up\",0.0],[\"let me go\",0.0],[\"lift me up\",0.0],[\"let me go\",0.0],[\"lift me up\",0.0],[\"let me go\",0.0],[\"and it cannot be outfought\",0.0],[\"it cannot be outdone\",0.0],[\"it cannot out matched\",0.0],[\"it cannot be outrun\",0.0],[\"and it cannot be outfought\",0.0],[\"it cannot be outdone\",0.0],[\"it cannot out matched\",0.0],[\"it cannot be outrun\",0.0],[\"god bless u everyone\",0.5994],[\"god bless u everyone\",0.5994],[\"god bless u everyone\",0.5994],[\"god bless u everyone\",0.5994],[\"god bless u everyone\",0.5994],[\"god save u everyone\",0.6486],[\"god save u everyone\",0.6486],[\"god save u everyone\",0.6486]],\"album\":\"a-thousand-suns\"},{\"Index\":4,\"title\":\"burning-in-the-skies\",\"norm_comp\":-0.28536,\"sentences\":[[\"but you be lose in the beating of the storm\",-0.8201],[\"i use the dead wood to make the fire rise\",-0.7717],[\"i use the dead wood to make the fire rise\",-0.7717],[\"the blame be mine alone\",-0.5267],[\"i be lose what i do not deserve\",-0.4019],[\"i be lose what i do not deserve\",-0.4019],[\"i be lose what i do not deserve\",-0.4019],[\"i be lose what i do not deserve\",-0.4019],[\"i be lose what i do not deserve\",-0.4019],[\"so do not apologize\",-0.143],[\"so do not apologize\",-0.143],[\"so do not apologize\",-0.143],[\"so do not apologize\",-0.143],[\"so do not apologize\",-0.143],[\"i fill my cup with the rising of the sea\",0.0],[\"and pour it out in an ocean of debris\",0.0],[\"ooh i be swim in the smoke\",0.0],[\"of bridge i have burn\",0.0],[\"what i do not deserve\",0.0],[\"we hold our breathe when the cloud begin to form\",0.0],[\"but in the end we be make to be apart\",0.0],[\"in separate chamber of the human heart\",0.0],[\"ooh i be swim in the smoke\",0.0],[\"of bridge i have burn\",0.0],[\"it be in the blackened bone\",0.0],[\"of bridge i have burn\",0.0],[\"what i do not deserve\",0.0],[\"i be swim in the smoke\",0.0],[\"of bridge i have burn\",0.0],[\"for bridge i have burn\",0.0],[\"what i do not deserve\",0.0],[\"what i do not deserve ooh woah\",0.0],[\"what i do not deserve\",0.0],[\"the blood of innocence burning in the sky\",0.3818],[\"the blood of innocence burning in the sky\",0.3818]],\"album\":\"a-thousand-suns\"},{\"Index\":5,\"title\":\"wisdom-justice-and-love\",\"norm_comp\":0.5444,\"sentences\":[[\"of inject poisonous drug of hate into vein of people normally humane\",-0.8126],[\"of send men home from the dark and bloody battlefield\",-0.6705],[\"because my conscience leave me no other choice\",-0.34],[\"this way of settle difference be be not just\",0.0],[\"this business of burn human being with napalm\",0.0],[\"fill our nation home with orphan and widow\",0.0],[\"physically handicap and psychologically derange\",0.0],[\"a true revolution of value will lay hand on the world order and say of war\",0.5423],[\"i come to this magnificent house of worship tonight\",0.7798],[\"cannot be reconcile with wisdom justice and love\",0.9001],[\"cannot be reconcile with wisdom justice and love\",0.9001],[\"cannot be reconcile with wisdom justice and love\",0.9001],[\"cannot be reconcile with wisdom justice and love\",0.9001],[\"cannot be reconcile with wisdom justice and love\",0.9001],[\"cannot be reconcile with wisdom justice and love\",0.9001]],\"album\":\"a-thousand-suns\"},{\"Index\":6,\"title\":\"robot-boy\",\"norm_comp\":0.06015,\"sentences\":[[\"because no one will fight for you\",-0.5859],[\"because no one will fight for you\",-0.5859],[\"and you think there be not enough love\",-0.5216],[\"and no one to give it to\",-0.296],[\"that no one will ever know\",-0.296],[\"and you be sure you have hurt for so long\",-0.2732],[\"and you be sure you have hurt in a way\",-0.2732],[\"you say the weight of the world\",0.0],[\"have keep you from let go\",0.0],[\"and you shall never let it show\",0.0],[\"but someday the weight of the world\",0.0],[\"hold on the weight of the world\",0.0],[\"so hold on the weight of the world\",0.0],[\"so hold on the weight of the world\",0.0],[\"just hold on the weight of the world\",0.0],[\"you say you be not gonna fight\",0.2924],[\"so you say you be not gonna fight\",0.2924],[\"you have get nothing leave to lose\",0.3412],[\"and you think compassion a flaw\",0.4588],[\"will give you the strength to go\",0.4939],[\"will give you the strength to go\",0.4939],[\"will give you the strength to go\",0.4939],[\"will give you the strength to go\",0.4939],[\"will give you the strength to go\",0.4939]],\"album\":\"a-thousand-suns\"},{\"Index\":7,\"title\":\"when-they-come-for-me\",\"norm_comp\":-0.10128,\"sentences\":[[\"and it seem ugly but it can get bad\",-0.7845],[\"stop talk start tryna catch up mother fucker\",-0.7579],[\"yall outta stop talk start tryna catch up mother fucker\",-0.7579],[\"tryin to catch up mother fucker\",-0.6486],[\"try to catch up mother fucker\",-0.6486],[\"try to catch up mother fucker\",-0.6486],[\"try to catch up mother fucker\",-0.6486],[\"chuck say that an uzi weigh a mother fuck ton\",-0.5423],[\"and i find out the underbelly be sick than it seem\",-0.5106],[\"opposite of weak\",-0.4404],[\"opposite of lazy far from a punk yall\",-0.3612],[\"because even the blueprint be a gift and a curse\",-0.1531],[\"be a tough one to swallow\",-0.128],[\"i be a tough act to follow\",-0.128],[\"i will not dance even if the beat funky\",-0.1027],[\"i be not a pattern to be follow\",0.0],[\"the pill that i be on\",0.0],[\"not a role model\",0.0],[\"not a born leader\",0.0],[\"or the same verse i be tell you to forfeit the game\",0.0],[\"because once you have the theory of how the thing work\",0.0],[\"and i be not a robot\",0.0],[\"i be not a monkey\",0.0],[\"and all the people say\",0.0],[\"aah aah aah\",0.0],[\"aah aah aah\",0.0],[\"lauren say money change situation\",0.0],[\"and i be just a student of the game that they teach me\",0.0],[\"rock every stage and every place that they bring me\",0.0],[\"i be awfully underrated\",0.0],[\"but can be correct\",0.0],[\"i be the opposite of whack\",0.0],[\"opposite of slack\",0.0],[\"stand in the heat\",0.0],[\"stand in a crack\",0.0],[\"closest to a beat far from a punk\",0.0],[\"and all the people say\",0.0],[\"aah aah aah\",0.0],[\"aah aah aah\",0.0],[\"oh when they come for me\",0.0],[\"come for me\",0.0],[\"i will be go\",0.0],[\"oh when they come for me\",0.0],[\"come for me\",0.0],[\"i will be go\",0.0],[\"oh when they come for me\",0.0],[\"come for me\",0.0],[\"i will be go\",0.0],[\"and all the people say\",0.0],[\"aah aah aah\",0.0],[\"aah aah aah\",0.0],[\"and all the people say\",0.0],[\"aah aah aah\",0.0],[\"aah aah aah\",0.0],[\"aah aah aah\",0.0],[\"aah aah aah\",0.0],[\"i be not the fortunate and the fame\",0.1265],[\"yeah\",0.296],[\"big say it increase the complication\",0.3182],[\"i come in the ring like a dog on a chain\",0.3612],[\"i be not a criminal\",0.4168],[\"everybody want the next thing to be just like the first\",0.4215],[\"kane say do not stab i be not the one\",0.4717],[\"and so this second i be gonna save it for the record\",0.4939]],\"album\":\"a-thousand-suns\"},{\"Index\":8,\"title\":\"waiting-for-the-end\",\"norm_comp\":-0.06701,\"sentences\":[[\"the pain and the fear\",-0.7579],[\"the pain and the fear\",-0.7579],[\"my mouth keep move and my mind go dead\",-0.6486],[\"i think it felt right but that right be wrong\",-0.631],[\"and the violent rhythm\",-0.5994],[\"and the violent rhythm\",-0.5994],[\"what be leave when that fire be go\",-0.3818],[\"just a voice like a riot\",-0.2732],[\"just a voice like a riot\",-0.2732],[\"until we get forget it\",-0.2263],[\"let it all disappear\",-0.2263],[\"try to forget the past\",-0.2263],[\"until we get it forget it\",-0.2263],[\"let it all disappear\",-0.2263],[\"something empty within em\",-0.2023],[\"sit in an empty room\",-0.2023],[\"something empty within em\",-0.2023],[\"it be hard to let you go\",-0.1027],[\"the hard part of end be start again\",-0.1027],[\"so many thing be leave unsaid\",-0.0516],[\"this be not the end\",0.0],[\"this be not the beginning\",0.0],[\"rock every revision\",0.0],[\"but you listen to the tone\",0.0],[\"and though the word sound steady\",0.0],[\"with fist fly up in the air\",0.0],[\"that be invisible there\",0.0],[\"wait for the end to come\",0.0],[\"this be not what i have plan\",0.0],[\"it be out of my control\",0.0],[\"fly at the speed of light\",0.0],[\"thought we be spin in my head\",0.0],[\"oh i know what it take to move on\",0.0],[\"i know how it feel to lie\",0.0],[\"all i wanna do\",0.0],[\"be trade this life for something new\",0.0],[\"hold on to what i have not get\",0.0],[\"this be never mean to last\",0.0],[\"oh i know what it take to move on\",0.0],[\"i know how it feel to lie\",0.0],[\"all i wanna do\",0.0],[\"be trade this life for something new\",0.0],[\"hold on to what i have not get\",0.0],[\"all catch up in the eye of the storm\",0.0],[\"and i do not even know what kind of thing i have say\",0.0],[\"so pick up the piece now where to begin\",0.0],[\"all i wanna do\",0.0],[\"be trade this life for something new\",0.0],[\"hold on to what i have not get\",0.0],[\"this be not the end\",0.0],[\"this be not the beginning\",0.0],[\"rock every revision\",0.0],[\"but you listen to the tone\",0.0],[\"though the word sound steady\",0.0],[\"hold on to what i have not get\",0.0],[\"with fist fly up in the air\",0.0],[\"that be invisible there\",0.0],[\"hold on to what i have not get\",0.0],[\"we say yeah\",0.296],[\"we say yeah\",0.296],[\"like we be hold onto something\",0.3612],[\"because we be live at the mercy of\",0.3612],[\"and try to figure out what it be like move on\",0.3612],[\"like we be hold onto something\",0.3612],[\"because we be live at the mercy of\",0.3612],[\"i wish it be not so\",0.4019],[\"yeah yeah\",0.5267],[\"wish i have strength to stand\",0.7096]],\"album\":\"a-thousand-suns\"},{\"Index\":9,\"title\":\"blackout\",\"norm_comp\":-0.09855,\"sentences\":[[\"fuck it be you listen\",-0.5423],[\"and swear that i be mistake\",-0.3818],[\"suffocate in the mess you be make\",-0.3612],[\"no you have gotta get it inside\",-0.296],[\"no you shall never get it inside\",-0.296],[\"no you have gotta get it inside\",-0.296],[\"no you shall never get it inside\",-0.296],[\"no you have gotta get it inside\",-0.296],[\"no you shall never get it inside\",-0.296],[\"all the lie how they cut so deeply\",-0.2732],[\"alone with a sinking feeling\",-0.128],[\"i be stick in this bed you make\",0.0],[\"i saw through the word you say\",0.0],[\"to the secret you have be keep\",0.0],[\"it be write upon your face\",0.0],[\"you cannot get enough you take\",0.0],[\"and take and take and never say\",0.0],[\"you push it back down\",0.0],[\"you push it back down\",0.0],[\"push it back down black out blood in your eye\",0.0],[\"you say it be not what it seem\",0.0],[\"no remorse for the trust you be break\",0.0],[\"you run but then back you fall\",0.0],[\"you cannot get enough you take\",0.0],[\"and take and take and take and take\",0.0],[\"you push it back down\",0.0],[\"you push it back down\",0.0],[\"push it back down\",0.0],[\"you push it back down\",0.0],[\"you push it back down\",0.0],[\"you push it back down\",0.0],[\"push it back down\",0.0],[\"black out blood in your eye\",0.0],[\"float down a color fill the light\",0.0],[\"we look up from the ground\",0.0],[\"in field of paper white\",0.0],[\"and float up you pass u in the night\",0.0],[\"a future gaze out a past to overwrite\",0.0],[\"so come down far below\",0.0],[\"we have be wait to collect the thing you know\",0.0],[\"come down far below\",0.0],[\"we have be wait to collect what you have let go\",0.0],[\"come down\",0.0],[\"oh\",0.0],[\"come down\",0.0],[\"oh\",0.0],[\"come down\",0.0],[\"oh\",0.0],[\"come down\",0.0],[\"oh\",0.0],[\"come down\",0.0],[\"oh\",0.0],[\"you say that it be not your fault\",0.3089]],\"album\":\"a-thousand-suns\"},{\"Index\":10,\"title\":\"wretches-kings\",\"norm_comp\":-0.0593,\"sentences\":[[\"make you so sick at heart that you cannot take part\",-0.6418],[\"make you so sick at heart that you cannot take part\",-0.6418],[\"talk a lotta shit and yet you do not know\",-0.5574],[\"still alone fight our blow\",-0.5574],[\"the front of the attack be exactly where i be at\",-0.4767],[\"fire on the wind make you all say whoa\",-0.34],[\"so get with the combat i be lettin them know\",-0.34],[\"do not fight the power nobody get hurt\",-0.2996],[\"and you have get to make it stop\",-0.296],[\"and no one make a move unless my people say so\",-0.296],[\"upon the lever upon all the apparatus and you have get to make it stop\",-0.296],[\"filthy animal beat down low\",-0.2732],[\"feel alone final blow\",-0.25],[\"feel alone final blow\",-0.25],[\"the people up top push the people down low\",-0.0772],[\"the people up top and the people down low\",-0.0772],[\"there be a time when the operation of the machine become so odious\",0.0],[\"and you have get to put your body upon the gear and upon the wheel\",0.0],[\"upon the lever upon all the apparatus\",0.0],[\"talk a lotta game but yet you do not know\",0.0],[\"static on the wind make u all say whoa\",0.0],[\"get down and obey every word\",0.0],[\"steady get in line if you have not yet hear\",0.0],[\"wanna take what i get do not be absurd\",0.0],[\"if you have not hear yet then i be lettin you know\",0.0],[\"get everything outta control now everybody go\",0.0],[\"hey hey hey hey hey hey hey\",0.0],[\"we the animal take control\",0.0],[\"wretch and king we come for you\",0.0],[\"so keep face how slow can you go\",0.0],[\"somewhere in between the kick and the hihat\",0.0],[\"the pen and the contract the pitch and the contact\",0.0],[\"so push the button let the whole thing blow\",0.0],[\"spin everything outta control now everybody go\",0.0],[\"hey hey hey hey hey hey hey\",0.0],[\"we the animal take control\",0.0],[\"wretch and king we come for you\",0.0],[\"steel and bone black and blue\",0.0],[\"from the front to the back and to side to side\",0.0],[\"if you feel what i feel put em up real high\",0.0],[\"front to the back and the side to side\",0.0],[\"if you feel what i feel put em up real high\",0.0],[\"front to the back and the side to side\",0.0],[\"if you feel what i feel put em up real high\",0.0],[\"front to the back and the side to side\",0.0],[\"if you feel what i feel put em up real high\",0.0],[\"front to the back and the side to side\",0.0],[\"if you feel what i feel put em up real high\",0.0],[\"front to the back and the side to side\",0.0],[\"if you feel what i feel put em up real high\",0.0],[\"when the operation of the machine become so odious\",0.0],[\"and you have get to put your body upon the gear and upon the wheel\",0.0],[\"and you have get to indicate to the people run in to the people on it\",0.0],[\"hey hey hey hey hey hey hey\",0.0],[\"hey hey hey hey hey hey hey\",0.0],[\"you cannot even passively take part\",0.1326],[\"you cannot even passively take part\",0.1326],[\"there be not shit we do not run when the gun unload\",0.1341],[\"there be not shit you can say to make me back down no\",0.1838],[\"to save face how low can you go\",0.2732],[\"get down and i be runnin it like that\",0.3612],[\"hear u now clear and tall\",0.3818],[\"hear u now clear and tall\",0.3818],[\"run at the sunshine we come for you\",0.4939],[\"and unless you be free the machine will be prevent from work at all\",0.5267]],\"album\":\"a-thousand-suns\"},{\"Index\":11,\"title\":\"iridescent\",\"norm_comp\":-0.65718,\"sentences\":[[\"remember all the sadness and frustration\",-0.7184],[\"remember all the sadness and frustration\",-0.7184],[\"remember all the sadness and frustration\",-0.7184],[\"remember all the sadness and frustration\",-0.7184],[\"do you feel cold and lose in desperation\",-0.6908],[\"do you feel cold and lose in desperation\",-0.6908],[\"do you feel cold and lose in desperation\",-0.6908],[\"do you feel cold and lose in desperation\",-0.6908],[\"you build up hope but failures all you have know\",-0.4678],[\"you build up hope but failures all you have know\",-0.4678],[\"you build up hope but failures all you have know\",-0.4678],[\"you build up hope but failures all you have know\",-0.4678],[\"when you be stand in the wake of devastation\",-0.4215],[\"and in the burst of light that blind every angel\",-0.4019],[\"no one there to catch you in their arm\",-0.296],[\"you be there impossibly alone\",-0.25],[\"you felt the gravity of temper grace fall into empty space\",-0.2023],[\"when you be wait on the edge of the unknown\",0.0],[\"and let it go let it go\",0.0],[\"and let it go let it go\",0.0],[\"and let it go\",0.0],[\"let it go\",0.0],[\"let it go\",0.0],[\"let it go\",0.0],[\"let it go\",0.0],[\"and let it go let it go\",0.0],[\"and with the cataclysm rain down inside cry save me now\",0.0258],[\"a if the sky have blow the heaven into star\",0.5106]],\"album\":\"a-thousand-suns\"},{\"Index\":12,\"title\":\"invisible\",\"norm_comp\":-0.07699,\"sentences\":[[\"and in spite of all i should have do\",-0.5267],[\"and in spite of all i should have do\",-0.5267],[\"and in spite of all i should have do\",-0.5267],[\"and you just want to know you be be hurt\",-0.4767],[\"i be too scared to say out loud\",-0.4404],[\"i be too scared to say out loud\",-0.4404],[\"i be too scared to say out loud\",-0.4404],[\"i have get an ache head\",-0.3818],[\"only organize confusion\",-0.296],[\"and it be an empty feeling\",-0.0772],[\"echo and buzzing noise\",0.0],[\"i know the word we say\",0.0],[\"this be not black and white\",0.0],[\"i be just try to get it right\",0.0],[\"i be not try to tear you down\",0.0],[\"the word that i could have use\",0.0],[\"if i cannot break your fall\",0.0],[\"i will pick you up right off the ground\",0.0],[\"if you felt invisible i will not let you feel that now\",0.0],[\"invisible\",0.0],[\"invisible\",0.0],[\"invisible\",0.0],[\"invisible\",0.0],[\"you do not get your way\",0.0],[\"you have get a lot to say\",0.0],[\"but this be not black and white\",0.0],[\"i be just try to get it right\",0.0],[\"i be not try to tear you down\",0.0],[\"the word that i could have use\",0.0],[\"if i cannot break your fall\",0.0],[\"i will pick you up right off the ground\",0.0],[\"if you felt invisible i will not let you feel that now\",0.0],[\"invisible\",0.0],[\"invisible\",0.0],[\"invisible\",0.0],[\"invisible\",0.0],[\"this be not black and white\",0.0],[\"i be just try to get it right\",0.0],[\"i be not try to tear you down\",0.0],[\"the word that i could have use\",0.0],[\"if i cannot break your fall\",0.0],[\"i will pick you up right off the ground\",0.0],[\"if you felt invisible i will not let you feel that now\",0.0],[\"invisible\",0.0],[\"invisible\",0.0],[\"invisible\",0.0],[\"invisible\",0.0],[\"invisible\",0.0],[\"invisible\",0.0],[\"invisible\",0.0],[\"invisible\",0.0],[\"i be not mad at you\",0.3875],[\"i be not mad at you\",0.3875],[\"i be not mad at you\",0.3875],[\"there be no clear solution\",0.4019],[\"there be no clear solution\",0.4019],[\"but wish i could have turn our voice down\",0.5499]],\"album\":\"one-more-light\"},{\"Index\":13,\"title\":\"good-goodbye\",\"norm_comp\":0.0985,\"sentences\":[[\"you be dead wrong\",-0.8126],[\"i have be here kill it\",-0.6908],[\"and it make you so mad\",-0.6269],[\"and it make you so mad that you be not the only one\",-0.6269],[\"enemy try to read me\",-0.5423],[\"goodbye to the stereotype\",-0.3182],[\"do not you come back no more\",-0.296],[\"do not you come back no more\",-0.296],[\"do not you come back no more\",-0.296],[\"do not you come back no more\",-0.296],[\"do not you come back no more\",-0.296],[\"do not you come back no more\",-0.296],[\"let me say goodbye to the darkness\",-0.25],[\"pack it up and disappear\",-0.2263],[\"blindly forget if i be in the mix\",-0.2263],[\"pack it up and disappear\",-0.2263],[\"pack it up and disappear\",-0.2263],[\"pack it up and disappear\",-0.2263],[\"long than you have be alive you idiot\",-0.1779],[\"so say goodbye and hit the road\",0.0],[\"because you cannot come back around here\",0.0],[\"live from the rhythm it be\",0.0],[\"something wild venomous\",0.0],[\"you be all look highly illiterate\",0.0],[\"you will not find an equivalent\",0.0],[\"somebody else could be step in front of you\",0.0],[\"there be more than one of you\",0.0],[\"and you cannot understand the fact\",0.0],[\"you have get a lot to discuss on the bus\",0.0],[\"head back where you be from\",0.0],[\"so say goodbye and hit the road\",0.0],[\"because you cannot come back around here\",0.0],[\"do my time with my cellmate\",0.0],[\"maxed out so now we finish\",0.0],[\"take her back to my tinted window\",0.0],[\"showin out she in rare form\",0.0],[\"wing up now i be airborne\",0.0],[\"king push they get a chair for him\",0.0],[\"make way for the new queen\",0.0],[\"consequence when you be not there for him\",0.0],[\"be you there for him\",0.0],[\"so say goodbye and hit the road\",0.0],[\"because you cannot come back around here\",0.0],[\"yo\",0.0],[\"let me say goodbye to my demon\",0.0],[\"let me say goodbye to my past life\",0.0],[\"tell em that i would rather be here in the starlight\",0.0],[\"tell em that i be yours this be our life\",0.0],[\"never see a young black brother in the chart twice\",0.0],[\"you cannot tell my king we cannot\",0.0],[\"mandem we be link ting in park\",0.0],[\"now i get a tune with linkin park\",0.0],[\"goodbye to the cold road\",0.0],[\"young little mike from the gold coast\",0.0],[\"and now i be inside with my bro bros gang\",0.0],[\"so say goodbye and hit the road\",0.0],[\"because you cannot come back around here\",0.0],[\"a period be after every sentence\",0.0772],[\"every night be like a hailstorm\",0.3612],[\"and i still keep raise the bar like\",0.3612],[\"like goodbye to my old hoe\",0.3612],[\"every day be like a hail date\",0.4215],[\"you good have some place to go\",0.4404],[\"good goodbye\",0.4404],[\"you good have some place to go\",0.4404],[\"good goodbye\",0.4404],[\"good goodbye\",0.4404],[\"good goodbye\",0.4404],[\"good goodbye\",0.4404],[\"goodbye good riddance\",0.4404],[\"you good have some place to go\",0.4404],[\"good goodbye\",0.4404],[\"good goodbye\",0.4404],[\"good goodbye\",0.4404],[\"good goodbye\",0.4404],[\"you good have some place to go\",0.4404],[\"good goodbye\",0.4404],[\"good goodbye\",0.4404],[\"good goodbye\",0.4404],[\"good goodbye\",0.4404],[\"i cannot die for my postcode\",0.4847],[\"do you care for him\",0.4939],[\"the old lineup where they cheer for em\",0.5106],[\"tell em that i would rather be here where they love me\",0.6369],[\"that it be over and do hope you have fun\",0.7351]],\"album\":\"one-more-light\"},{\"Index\":14,\"title\":\"talking-to-myself\",\"norm_comp\":0.23006,\"sentences\":[[\"all the way that i keep lose you\",-0.4019],[\"all the way that i keep lose you\",-0.4019],[\"all the way that i keep lose you\",-0.4019],[\"there be no get through to you\",-0.296],[\"but you be not give me a chance\",-0.2755],[\"i admit i make mistake\",-0.1531],[\"when you leave me where do you go where do you go\",-0.0516],[\"tell me what i have gotta do\",0.0],[\"the light be on but nobodys home nobody home\",0.0],[\"you say i cannot understand\",0.0],[\"all the wall that you keep build\",0.0],[\"all this time that i spend chase\",0.0],[\"i can whisper i can yell\",0.0],[\"i be just talk to myself\",0.0],[\"talk to myself\",0.0],[\"talk to myself\",0.0],[\"i be just talk to myself\",0.0],[\"but yours might cost you everything\",0.0],[\"cannot you hear me call you home\",0.0],[\"all the wall that you keep build\",0.0],[\"all this time that i spend chase\",0.0],[\"i can whisper i can yell\",0.0],[\"i be just talk to myself\",0.0],[\"talk to myself\",0.0],[\"talk to myself\",0.0],[\"i be just talk to myself\",0.0],[\"all the wall that you keep build\",0.0],[\"all this time that i spend chase\",0.0],[\"i can whisper i can yell\",0.0],[\"i be just talk to myself\",0.0],[\"talk to myself\",0.0],[\"talk to myself\",0.0],[\"i be talk to myself\",0.0],[\"the truth be you turn into someone else\",0.3182],[\"the truth be you turn into someone else\",0.3182],[\"the truth be you turn into someone else\",0.3182],[\"you keep run like the sky be fall\",0.3612],[\"you keep run like the sky be fall\",0.3612],[\"you keep run like the sky be fall\",0.3612],[\"but i know yeah i know yeah i know\",0.6808],[\"but i know yeah i know yeah i know\",0.6808],[\"but i know yeah i know yeah i know\",0.6808],[\"but i know yeah i know yeah i know\",0.6808],[\"but i know yeah i know yeah i know\",0.6808],[\"but i know yeah i know yeah i know\",0.6808]],\"album\":\"one-more-light\"},{\"Index\":15,\"title\":\"sharp-edges\",\"norm_comp\":0.05204,\"sentences\":[[\"you be gonna hurt someone\",-0.5267],[\"stay along the beaten path never listen when she say\",-0.4215],[\"stay along the beaten path never listen when she say\",-0.4215],[\"stay along the beaten path never listen when she say\",-0.4215],[\"mama always tell me do not you run\",0.0],[\"do not you run with scissors son\",0.0],[\"mama tell me look before you leap\",0.0],[\"sharp edge have consequence\",0.0],[\"i guess that i have to find out for myself\",0.0],[\"sharp edge have consequence\",0.0],[\"now every scar be a story i can tell\",0.0],[\"let it fall apart\",0.0],[\"but all the thing i could not understand\",0.0],[\"never could have plan\",0.0],[\"they make me who i be\",0.0],[\"put your nose on paperback\",0.0],[\"instead of smoke cigarette\",0.0],[\"these year you be never get back\",0.0],[\"sharp edge have consequence\",0.0],[\"i guess that i have to find out for myself\",0.0],[\"sharp edge have consequence\",0.0],[\"now every scar be a story i can tell\",0.0],[\"we all fall down\",0.0],[\"we live somehow\",0.0],[\"we all fall down\",0.0],[\"we live somehow\",0.0],[\"ooh\",0.0],[\"sharp edge have consequence\",0.0],[\"i guess that i have to find out for myself\",0.0],[\"sharp edge have consequence\",0.0],[\"now every scar be a story i can tell\",0.0],[\"we all fall down\",0.0],[\"we live somehow\",0.0],[\"we all fall down\",0.0],[\"we live somehow\",0.0],[\"we learn what do not kill u make u strong\",0.2584],[\"we learn what do not kill u make u strong\",0.2584],[\"we learn what do not kill u make u strong\",0.2584],[\"we learn what do not kill u make u strong ooh\",0.2584],[\"always think before you speak and watch the friend you keep\",0.4939],[\"should have play safer from the start\",0.6369],[\"love you like a house of card\",0.7717]],\"album\":\"one-more-light\"},{\"Index\":16,\"title\":\"battle-symphony\",\"norm_comp\":-0.17479,\"sentences\":[[\"of a lonesome defeat\",-0.6705],[\"to face my enemy\",-0.5423],[\"no surrender no illusion\",-0.5267],[\"put the pain in reverse\",-0.5106],[\"i hear my battle symphony\",-0.3818],[\"battle symphony\",-0.3818],[\"for my battle symphony\",-0.3818],[\"for my battle symphony\",-0.3818],[\"i hear my battle symphony\",-0.3818],[\"battle symphony\",-0.3818],[\"i hear my battle symphony\",-0.3818],[\"battle symphony\",-0.3818],[\"for my battle symphony\",-0.3818],[\"for my battle symphony\",-0.3818],[\"and for good or bad\",-0.1531],[\"i get a long way to go\",0.0],[\"and a long memory\",0.0],[\"i have be search for an answer\",0.0],[\"blood on the floor\",0.0],[\"siren repeat\",0.0],[\"when they turn down the light\",0.0],[\"all the world in front of me\",0.0],[\"if my armor break\",0.0],[\"i will fuse it back together\",0.0],[\"and my eye be wide awake\",0.0],[\"they say that i do not belong\",0.0],[\"that i be to the rhythm\",0.0],[\"but the sound of your voice\",0.0],[\"when they turn down the light\",0.0],[\"all the world in front of me\",0.0],[\"if my armor break\",0.0],[\"i will fuse it back together\",0.0],[\"and my eye be wide awake\",0.0],[\"if i fall get knock down\",0.0],[\"pick myself up off the ground\",0.0],[\"if i fall get knock down\",0.0],[\"pick myself up off the ground\",0.0],[\"when they turn down the light\",0.0],[\"all the world in front of me\",0.0],[\"if my armor break\",0.0],[\"i will fuse it back together\",0.0],[\"and my eye be wide awake\",0.0],[\"always just out of reach\",0.0258],[\"say that i should retreat\",0.2023],[\"please just do not give up on me\",0.3182],[\"please just do not give up on me\",0.3182],[\"please just do not give up on me\",0.3182],[\"i have be search for the courage\",0.4939]],\"album\":\"one-more-light\"},{\"Index\":17,\"title\":\"heavy\",\"norm_comp\":-0.03691,\"sentences\":[[\"to let my mind stay so fucking messy\",-0.4716],[\"stack up problem that be so unnecessary\",-0.4019],[\"and i drive myself crazy\",-0.34],[\"and i drive myself crazy\",-0.34],[\"i wanna let go but there be comfort in the panic\",-0.296],[\"i do not like my mind right now\",-0.2755],[\"it be not like i make the choice\",-0.2755],[\"you say that i be paranoid\",-0.25],[\"i keep drag around what be bring me down\",-0.2263],[\"i keep drag around what be bring me down\",-0.2263],[\"i keep drag around what be bring me down\",-0.2263],[\"because i cannot escape the gravity\",-0.1326],[\"yeah i drive myself crazy\",-0.0516],[\"think everythings about me\",0.0],[\"i be hold on\",0.0],[\"why be everything so heavy\",0.0],[\"hold on\",0.0],[\"so much more than i can carry\",0.0],[\"hold on\",0.0],[\"why be everything so heavy\",0.0],[\"hold hold\",0.0],[\"hold hold\",0.0],[\"hold hold\",0.0],[\"hold hold\",0.0],[\"hold hold\",0.0],[\"hold hold\",0.0],[\"hold hold\",0.0],[\"hold hold\",0.0],[\"i know i be not the center of the universe\",0.0],[\"but you keep spin round me just the same\",0.0],[\"i know i be not the center of the universe\",0.0],[\"but you keep spin round me just the same\",0.0],[\"i be hold on\",0.0],[\"why be everything so heavy\",0.0],[\"hold on\",0.0],[\"so much more than i can carry\",0.0],[\"hold on\",0.0],[\"why be everything so heavy\",0.0],[\"hold hold\",0.0],[\"hold hold\",0.0],[\"hold hold\",0.0],[\"hold hold\",0.0],[\"hold on hold hold\",0.0],[\"hold on hold hold\",0.0],[\"i know i be not the center of the universe\",0.0],[\"but you keep spin round me just the same\",0.0],[\"i know i be not the center of the universe\",0.0],[\"but you keep spin round me just the same\",0.0],[\"think everythings about me\",0.0],[\"hold on\",0.0],[\"why be everything so heavy\",0.0],[\"hold on\",0.0],[\"so much more than i can carry\",0.0],[\"hold on\",0.0],[\"why be everything so heavy\",0.0],[\"why be everything so heavy\",0.0],[\"wish that i could slow thing down\",0.4019],[\"if i just let go i would be set free\",0.5106],[\"if i just let go i would be set free\",0.5106],[\"if i just let go i would be set free\",0.5106],[\"but i be pretty sure the world be out to get me\",0.8047]],\"album\":\"one-more-light\"},{\"Index\":18,\"title\":\"halfway-right\",\"norm_comp\":-0.37176,\"sentences\":[[\"say i would lose you if i lose control\",-0.6597],[\"i scream at myself when there be nobody else to fight\",-0.6486],[\"use to get high with the dead end kid\",-0.6486],[\"i scream at myself when there be nobody else to fight\",-0.6486],[\"i scream at myself when there be nobody else to fight\",-0.6486],[\"i scream at myself when there be nobody else to fight\",-0.6486],[\"i scream at myself when there be nobody else to fight\",-0.6486],[\"i do not lose i do not win if i be wrong then i be halfway right\",-0.6012],[\"i do not lose i do not win if i be wrong then i be halfway right\",-0.6012],[\"i do not lose i do not win if i be wrong then i be halfway right\",-0.6012],[\"i do not lose i do not win if i be wrong then i be halfway right\",-0.6012],[\"i do not lose i do not win if i be wrong then i be halfway right halfway right\",-0.6012],[\"i do not lose i do not win if i be wrong then i be halfway right\",-0.6012],[\"i do not lose i do not win if i be wrong then i be halfway right\",-0.6012],[\"it be bullshit then i guess it make sense now\",-0.5859],[\"abandon house where the shadow live\",-0.4404],[\"here i be stand all alone\",-0.25],[\"i never be high than i be that night\",0.0],[\"i wake up drive my car\",0.0],[\"i could not see then what i see right now\",0.0],[\"could not remember where i have be that night\",0.0],[\"i know that i take it too far\",0.0],[\"all you say to do be slow down\",0.0],[\"i remember now i remember\",0.0],[\"all you say to do be slow down\",0.0],[\"but i be already go\",0.0],[\"tell me kid you be go way too fast\",0.0],[\"i wake up drive my car\",0.0],[\"because i take it too far\",0.0],[\"all you say to do be slow down\",0.0],[\"i remember now i remember\",0.0],[\"all you say to do be slow down\",0.0],[\"but i be already go\",0.0],[\"the road dissolve like an an empty vow\",0.1779],[\"you burn too bright you know you shall never last\",0.4404],[\"i know what i want but it feel like i be paralyze\",0.5267],[\"i know what i want but it feel like i be paralyze\",0.5267],[\"i just laugh because what do they know\",0.5574]],\"album\":\"one-more-light\"},{\"Index\":19,\"title\":\"nobody-can-save-me\",\"norm_comp\":0.14618,\"sentences\":[[\"but nobody prove me wrong\",-0.631],[\"chase up the darkness inside\",-0.25],[\"i be chase up the darkness inside\",-0.25],[\"chase up the darkness inside\",-0.25],[\"for what be be miss right here\",-0.1531],[\"for what be be miss right here\",-0.1531],[\"for what be be miss right here\",-0.1531],[\"i be dance with my demon\",0.0],[\"i be hang off the edge\",0.0],[\"storm cloud gather beneath me\",0.0],[\"wave break above my head\",0.0],[\"at first hallucination\",0.0],[\"i wanna fall wide awake now\",0.0],[\"tonight\",0.0],[\"i be hold up a light\",0.0],[\"stare into this illusion\",0.0],[\"for answer yet to come\",0.0],[\"at first hallucination\",0.0],[\"i wanna fall wide awake\",0.0],[\"watch the ground give way now\",0.0],[\"tonight\",0.0],[\"i be hold up a light\",0.0],[\"be search somewhere out there\",0.0],[\"i have be search somewhere out there\",0.0],[\"i wanna fall wide awake now\",0.0],[\"tonight\",0.0],[\"i be hold up a light\",0.0],[\"and i do not wanna let you down\",0.0],[\"be search somewhere out there\",0.0],[\"you tell me it be alright\",0.25],[\"you tell me it be alright\",0.25],[\"so tell me it be alright\",0.25],[\"i choose a false solution\",0.3182],[\"tell me i be forgiven\",0.3818],[\"tell me i be forgiven\",0.3818],[\"tell me i be forgiven\",0.3818],[\"because nobody can save me\",0.4939],[\"because nobody can save me\",0.4939],[\"if only i can save me now\",0.4939],[\"but nobody can save me now\",0.6486],[\"but nobody can save me now\",0.6486],[\"but only i can save me\",0.6486]],\"album\":\"one-more-light\"},{\"Index\":20,\"title\":\"one-more-light\",\"norm_comp\":0.38665,\"sentences\":[[\"and you be angry and you should be it be not fair\",-0.6442],[\"should have stay be there sign i ignore\",-0.3612],[\"there be thing that we can have but cannot keep\",0.0],[\"if they say\",0.0],[\"in a sky of a million star\",0.0],[\"it flicker flicker\",0.0],[\"if a moment be all we be\",0.0],[\"we be quick quicker\",0.0],[\"the reminder pull the floor from your foot\",0.0],[\"in the kitchen one more chair than you need oh\",0.0],[\"just because you cannot see it do not mean it be not there\",0.0],[\"if they say\",0.0],[\"in a sky of a million star\",0.0],[\"it flicker flicker\",0.0],[\"if a moment be all we be\",0.0],[\"we be quick quicker\",0.0],[\"in a sky of a million star\",0.0],[\"it flicker flicker\",0.0],[\"if a moment be all we be\",0.0],[\"we be quick quicker\",0.0],[\"well i do\",0.2732],[\"well i do\",0.2732],[\"well i do\",0.2732],[\"well i do\",0.2732],[\"who care if one more light go out\",0.4939],[\"who care when someones time run out\",0.4939],[\"who care if one more light go out\",0.4939],[\"who care if one more light go out\",0.4939],[\"who care when someones time run out\",0.4939],[\"who care if one more light go out\",0.4939],[\"who care if one more light go out\",0.4939],[\"who care when someones time run out\",0.4939],[\"who care if one more light go out\",0.4939],[\"we saw brilliance when the world be asleep\",0.5994],[\"can i help you not to hurt anymore\",0.6679]],\"album\":\"one-more-light\"},{\"Index\":21,\"title\":\"sorry-for-now\",\"norm_comp\":-0.09628,\"sentences\":[[\"under the fire of your angry eye\",-0.6908],[\"there with a fire burning in your eye\",-0.34],[\"do not ever have a problem make no mistake\",-0.3274],[\"sometimes thing refuse to go the way we plan\",-0.296],[\"sometimes thing refuse to go the way we plan\",-0.296],[\"watch the wing cut through the cloud\",-0.2732],[\"after a while you forget\",-0.2263],[\"so i will be sorry for now\",-0.144],[\"and i will be sorry for now\",-0.0772],[\"oh i will be sorry for now\",-0.0772],[\"oh i will be sorry for now\",-0.0772],[\"i will be sorry for now\",-0.0772],[\"oh i will be sorry for now\",-0.0772],[\"oh i will be sorry for now\",-0.0772],[\"oh i will be sorry for now\",-0.0772],[\"i never want to say goodbye\",-0.0572],[\"you could not know this when i leave\",-0.0516],[\"watch the raindrop blink red and white\",0.0],[\"think be you back on the ground\",0.0],[\"that i could not be around\",0.0],[\"that i could not be around\",0.0],[\"there will be a day that you will understand\",0.0],[\"you will understand\",0.0],[\"but just in case the memory cross your mind\",0.0],[\"that i could not be around\",0.0],[\"that i could not be around\",0.0],[\"there will be a day that you will understand\",0.0],[\"you will understand\",0.0],[\"yeah stop tell em to pump the bass up\",0.0],[\"try to call home but nobody would wake up\",0.0],[\"switch your time zone cannot pick the bass up\",0.0],[\"i just pass out by the time you wake up\",0.0],[\"and it be time to get pump on any road you take\",0.0],[\"i cannot wait to come back when i be go away\",0.0],[\"that i could not be around\",0.0],[\"there be thing we have to do that we cannot stand\",0.0],[\"that i could not be around\",0.0],[\"there will be a day that you will understand\",0.0],[\"that i could not be around\",0.0],[\"there be thing we have to do that we cannot stand\",0.0],[\"that i could not be around\",0.0],[\"there will be a day that you will understand\",0.0],[\"you will understand\",0.0],[\"you will understand\",0.0],[\"you will understand\",0.0],[\"i only halfway apologize\",0.1027],[\"best thing come to those who wait\",0.6369]],\"album\":\"one-more-light\"},{\"Index\":22,\"title\":\"somewhere-i-belong\",\"norm_comp\":-0.09312,\"sentences\":[[\"i want to let go of the pain i felt so long erase all the pain til it be go\",-0.743],[\"i want to let go of the pain i have hold so longerase all the pain till it be go\",-0.743],[\"i want to let go of the pain i felt so long erase all the pain til it be go\",-0.743],[\"what do i have but negativity\",-0.6652],[\"nothing to gain hollow and alone\",-0.5826],[\"be the only real thing that i get leave to feelnothing to lose\",-0.4404],[\"and i would get lose in the nothingness inside of me\",-0.4019],[\"and the fault be my own\",-0.4019],[\"and the fault be my own\",-0.4019],[\"and the fault be my own\",-0.4019],[\"and the fault be my own\",-0.4019],[\"just stick hollow and alone\",-0.25],[\"i be confuse\",-0.2263],[\"i be confuse\",-0.2263],[\"when this begin\",0.0],[\"i have nothing to say and\",0.0],[\"and i let it all out to findthat i be\",0.0],[\"not the only person with these thing in mind inside of me\",0.0],[\"but all the vacancy the word reveal\",0.0],[\"what i think be never real\",0.0],[\"somewhere i belong\",0.0],[\"and i have get nothing to say\",0.0],[\"i cannot believe i do not fall right down on my face\",0.0],[\"look everywhere only to find that it be\",0.0],[\"not the way i have imagine it all in my mind\",0.0],[\"so what be i\",0.0],[\"because i cannot justify the way everyone be look at me\",0.0],[\"what i think be never real\",0.0],[\"somewhere i belong\",0.0],[\"i will never know\",0.0],[\"myself until i do this on my own\",0.0],[\"and i will never feel\",0.0],[\"anything else until my wound be heal\",0.0],[\"i will never be\",0.0],[\"anything til i break away from me\",0.0],[\"and i will break away\",0.0],[\"and find myself today\",0.0],[\"what i think be never real\",0.0],[\"somewhere i belong\",0.0],[\"somewhere i belong somewhere i belong\",0.0],[\"i want to heal\",0.0772],[\"i want to feel\",0.0772],[\"i want to heal\",0.0772],[\"i want to feel\",0.0772],[\"i want to heal\",0.0772],[\"i want to feel\",0.0772],[\"i want to heal\",0.0772],[\"i want to feel\",0.0772],[\"i want to heal\",0.0772],[\"i want to feel\",0.0772],[\"i want to heal\",0.0772],[\"i want to feel\",0.0772],[\"i want to heal\",0.0772],[\"i want to find something i have want all along\",0.1531],[\"i want to find something i have want all along\",0.1531],[\"i want to find something i have want all along\",0.1531],[\"nothing to lose\",0.3089],[\"like i be close to something real\",0.3612],[\"like i be close to something real\",0.3612],[\"like i be close to something real\",0.3612],[\"i want to feel like i be\",0.4215]],\"album\":\"meteora\"},{\"Index\":23,\"title\":\"dont-stay\",\"norm_comp\":-0.31781,\"sentences\":[[\"take all your faithlessness with you\",-0.4215],[\"take all your faithlessness with you\",-0.4215],[\"i do not need one more day of you waste me away\",-0.4215],[\"i do not need one more day of you waste me away\",-0.4215],[\"take all your faithlessness with you\",-0.4215],[\"i do not need you anymore do not want to be ignore\",-0.4063],[\"i do not need you anymore i do not want to be ignore\",-0.4063],[\"somehow i need to be alone\",-0.25],[\"with no apology\",-0.25],[\"forget our memory\",-0.2263],[\"forget our possibility\",-0.2263],[\"forget our memory\",-0.2263],[\"forget our possibility\",-0.2263],[\"forget our memory\",-0.2263],[\"forget our possibility\",-0.2263],[\"forget our memory\",-0.2263],[\"forget our possibility\",-0.2263],[\"forget our memory\",-0.2263],[\"forget our possibility\",-0.2263],[\"forget our memory\",-0.2263],[\"forget our possibility\",-0.2263],[\"sometimes i just feel like scream at myself\",-0.0516],[\"sometimes i need to remember just to breathe\",0.0],[\"sometimes i need you to stay away from me\",0.0],[\"sometimes i be in disbelief i do not know\",0.0],[\"somehow i need you to go\",0.0],[\"do not stay\",0.0],[\"what you be change me into\",0.0],[\"just give me myself back and\",0.0],[\"do not stay\",0.0],[\"just give me myself back and\",0.0],[\"do not stay\",0.0],[\"sometimes i be in disbelief i do not know\",0.0],[\"do not stay\",0.0],[\"what you be change me into\",0.0],[\"just give me myself back and\",0.0],[\"do not stay\",0.0],[\"just give me myself back and\",0.0],[\"do not stay\",0.0],[\"do not stay\",0.0],[\"what you be change me into\",0.0],[\"just give me myself back and\",0.0],[\"do not stay\",0.0],[\"just give me myself back control\",0.0],[\"do not stay\",0.0],[\"do not stay\",0.0],[\"do not stay\",0.0],[\"sometimes i feel like i trust you too well\",0.7845]],\"album\":\"meteora\"},{\"Index\":24,\"title\":\"faint\",\"norm_comp\":0.00227,\"sentences\":[[\"time will not heal this damage anymore\",-0.5789],[\"time will not heal this damage anymore\",-0.5789],[\"time will not heal this damage anymore\",-0.5789],[\"time will not heal this damage anymore\",-0.5789],[\"time will not heal this damage anymore\",-0.5789],[\"handful of complaint but i cannot help the fact\",-0.5403],[\"i be a little bit of loneliness a little bit of disregard\",-0.5224],[\"i be a little bit insecure a little unconfident\",-0.3657],[\"but it be like no matter what i do i cannot convince you\",-0.1306],[\"face away and pretend i be not\",-0.1027],[\"you face away and pretend i be not\",-0.1027],[\"it be like no matter what i do i cannot convince you for once just to hear me out\",-0.0875],[\"that everyone can see these scar\",0.0],[\"to just believe this be real\",0.0],[\"but i will be here because you be all that i have get\",0.0],[\"i cannot feel the way i do before\",0.0],[\"do not turn your back on me\",0.0],[\"because you do not understand i do what i can\",0.0],[\"but sometimes i do not make sense\",0.0],[\"but i will be here because you be all that i have get\",0.0],[\"i cannot feel the way i do before\",0.0],[\"do not turn your back on me\",0.0],[\"you hear me out now\",0.0],[\"right now hear me out now\",0.0],[\"right now\",0.0],[\"i cannot feel the way i do before\",0.0],[\"do not turn your back on me\",0.0],[\"i cannot feel the way i do before\",0.0],[\"do not turn your back on me\",0.0],[\"i cannot feel the way i do before\",0.0],[\"do not turn your back on me\",0.0],[\"i be what i want you to want what i want you to feel\",0.2263],[\"i will not be ignore\",0.2755],[\"do not turn your back on me i will not be ignore\",0.2755],[\"i will not be ignore\",0.2755],[\"do not turn your back on me i will not be ignore\",0.2755],[\"i will not be ignore\",0.2755],[\"do not turn your back on me i will not be ignore\",0.2755],[\"i will not be ignore\",0.2755],[\"do not turn your back on me i will not be ignore\",0.2755],[\"i will not be ignore\",0.2755],[\"do not turn your back on me i will not be ignore\",0.2755],[\"so i let go watch you turn your back like you always do\",0.3612],[\"so i let go watch you turn your back like you always do\",0.3612],[\"you be gonna listen to me like it or not\",0.3612],[\"you be gonna listen to me like it or not\",0.3612],[\"i be what you never want to say but i have never have a doubt\",0.3724]],\"album\":\"meteora\"},{\"Index\":25,\"title\":\"breaking-the-habit\",\"norm_comp\":-0.12428,\"sentences\":[[\"i hurt much more than any time before\",-0.5267],[\"i do not want to be the one the battle always choose\",-0.4257],[\"i do not want to be the one the battle always choose\",-0.4257],[\"or why i have to scream\",-0.4019],[\"or why i have to scream\",-0.4019],[\"because i be the one at fault\",-0.4019],[\"or why i have to scream\",-0.4019],[\"i have no option leave again\",-0.34],[\"because inside i realize that i be the one confuse\",-0.2263],[\"because inside i realize that i be the one confuse\",-0.2263],[\"i know it be not alright\",-0.1877],[\"i will never be alright\",-0.1877],[\"i will never be alright\",-0.1877],[\"i do not know what be worth fight for\",-0.1779],[\"i do not know what be worth fight for\",-0.1779],[\"i do not know what be worth fight for\",-0.1779],[\"i be pick me apart again\",0.0],[\"you all assume\",0.0],[\"unless i try to start again\",0.0],[\"i do not know why i instigate\",0.0],[\"and say what i do not mean\",0.0],[\"i do not know how i get this way\",0.0],[\"so i be break the habit\",0.0],[\"i be break the habit tonight\",0.0],[\"clutch my cure\",0.0],[\"i tightly lock the door\",0.0],[\"i try to catch my breath again\",0.0],[\"i do not know why i instigate\",0.0],[\"and say what i do not mean\",0.0],[\"i do not know how i get this way\",0.0],[\"so i be break the habit\",0.0],[\"i be break the habit tonight\",0.0],[\"i will paint it on the wall\",0.0],[\"and this be how it end\",0.0],[\"i do not know how i get this way\",0.0],[\"so i be break the habit\",0.0],[\"i be break the habit\",0.0],[\"i be break the habit tonight\",0.0],[\"i will never fight again\",0.2924],[\"memory consume like open the wound\",0.3612],[\"i be safe here in my room\",0.4404],[\"but now i have some clarity to show you what i mean\",0.5499]],\"album\":\"meteora\"},{\"Index\":26,\"title\":\"lying-from-you\",\"norm_comp\":-0.22451,\"sentences\":[[\"i can forget about the criminal i be\",-0.6486],[\"the very bad part of you\",-0.5849],[\"the very bad part of you\",-0.5849],[\"the very bad part of you\",-0.5849],[\"the very bad part of you\",-0.5849],[\"the very bad part of you\",-0.5849],[\"no no turn back now\",-0.5267],[\"no no turn back now\",-0.5267],[\"no no turn back now\",-0.5267],[\"no no turn back now\",-0.5267],[\"no no turn back now\",-0.5267],[\"no no turn back now\",-0.5267],[\"no no turn back now\",-0.5267],[\"no no turn back now\",-0.5267],[\"no turn back now\",-0.296],[\"no turn back now\",-0.296],[\"no turn back now\",-0.296],[\"no turn back now\",-0.296],[\"steal second after second just cause i know i can but\",-0.2732],[\"i would rather be all alone\",-0.25],[\"i would rather be all alone\",-0.25],[\"i would rather be all alone\",-0.25],[\"when i pretend\",-0.1027],[\"when i pretend\",-0.1027],[\"this be not what i want to be\",-0.0572],[\"this be not what i want to be\",-0.0572],[\"this be not what i want to be\",-0.0572],[\"this be not what i want to be\",-0.0572],[\"so i be\",0.0],[\"lie my way from you\",0.0],[\"so let me go\",0.0],[\"let me take back my life\",0.0],[\"anywhere on my own\",0.0],[\"because i can see\",0.0],[\"be me\",0.0],[\"i remember what they teach to me\",0.0],[\"remember condescend talk of who i ought to be\",0.0],[\"remember listening to all of that and this again\",0.0],[\"and now you think this person really be me and i be\",0.0],[\"but the more i push\",0.0],[\"the more i be pull away\",0.0],[\"because i be\",0.0],[\"lie my way from you\",0.0],[\"so let me go\",0.0],[\"let me take back my life\",0.0],[\"anywhere on my own\",0.0],[\"because i can see\",0.0],[\"be me\",0.0],[\"i never think that what i say\",0.0],[\"would have you run from me\",0.0],[\"i never think that what i say\",0.0],[\"would have you run from me\",0.0],[\"i never think that what i say\",0.0],[\"would have you run from me\",0.0],[\"i never think that what i say\",0.0],[\"would have you run from me\",0.0],[\"you\",0.0],[\"so let me go\",0.0],[\"let me take back my life\",0.0],[\"anywhere on my own\",0.0],[\"because i can see\",0.0],[\"be me\",0.0],[\"i cannot pretend this be the way it will stay i be just\",0.0762],[\"everything be what i want it to be\",0.0772],[\"i want to be push aside\",0.0772],[\"i want to be push aside\",0.0772],[\"i want to be push aside\",0.0772],[\"i cannot pretend i be who you want me to be\",0.1521],[\"so i pretend up a person who be fit in\",0.204],[\"try to bend the truth\",0.3182],[\"try to bend the truth\",0.3182],[\"like this\",0.3612],[\"like this\",0.3612],[\"like this\",0.3612],[\"like this\",0.3612],[\"i look exactly like what you have always want to see\",0.4215]],\"album\":\"meteora\"},{\"Index\":27,\"title\":\"figure09\",\"norm_comp\":-0.06339,\"sentences\":[[\"put all pain you give to me on display\",-0.5106],[\"you shall always be my fear\",-0.4939],[\"you shall always be my fear\",-0.4939],[\"you shall always be my fear\",-0.4939],[\"i regret say those thing because now i see that i\",-0.4215],[\"lose inside these thought of you\",-0.4019],[\"nothing ever stop all these thought and the pain attach to them\",-0.3425],[\"i think of how i shoot myself in the back again\",-0.34],[\"sometimes i wonder why this be happenin\",0.0],[\"because from the infinite word i can say i\",0.0],[\"take what i hat and make it a part of me\",0.0],[\"never go away\",0.0],[\"never go away\",0.0],[\"and now\",0.0],[\"you have become a part of me\",0.0],[\"you shall always be right here\",0.0],[\"you have become a part of me\",0.0],[\"i cannot separate\",0.0],[\"myself from what i have do\",0.0],[\"give up a part of me\",0.0],[\"i have let myself become you\",0.0],[\"hear your name the memory come back again\",0.0],[\"i remember when it start happen\",0.0],[\"i see you n every thought i have and then\",0.0],[\"the thought slowly find word attach to them\",0.0],[\"take what i hat and make it a part of me\",0.0],[\"never go away\",0.0],[\"never go away\",0.0],[\"and now\",0.0],[\"you have become a part of me\",0.0],[\"you shall always be right here\",0.0],[\"you have become a part of me\",0.0],[\"i cannot separate\",0.0],[\"myself from what i have do\",0.0],[\"give up a part of me\",0.0],[\"i have let myself become you\",0.0],[\"never go away\",0.0],[\"never go away\",0.0],[\"never go away\",0.0],[\"never go away\",0.0],[\"get away from me\",0.0],[\"give me my space back you gotta just\",0.0],[\"go\",0.0],[\"everything come down the memory of\",0.0],[\"you\",0.0],[\"i keep it in without let you\",0.0],[\"know\",0.0],[\"i let you go so get away from\",0.0],[\"me\",0.0],[\"give me my space back you gotta just\",0.0],[\"go\",0.0],[\"everything come down the memory of\",0.0],[\"you\",0.0],[\"i keep it in without let you\",0.0],[\"know\",0.0],[\"i let you go\",0.0],[\"and then you have become a part of me\",0.0],[\"you shall always be right here\",0.0],[\"you have become a part of me\",0.0],[\"i cannot separate\",0.0],[\"myself from what i have do\",0.0],[\"give up a part of me\",0.0],[\"i have let myself become you\",0.0],[\"i have let myself become you\",0.0],[\"i have let myself become\",0.0],[\"give up a part of me\",0.0],[\"i have let myself become you\",0.0],[\"it be like nothing i can do would distract me when\",0.0772],[\"and i know a they escape away\",0.1779],[\"i be commit myself to em n everyday\",0.296],[\"but do not realize instead of set it free i\",0.6652]],\"album\":\"meteora\"},{\"Index\":28,\"title\":\"hit-the-floor\",\"norm_comp\":0.21398,\"sentences\":[[\"i know i will never trust a single thing you say\",-0.4023],[\"make your heart stop\",-0.296],[\"make your heart stop\",-0.296],[\"make your heart stop\",-0.296],[\"make your heart stop\",-0.296],[\"make your heart stop\",-0.296],[\"make your heart stop\",-0.296],[\"there be just too many time that people have try to look inside of me\",0.0],[\"too many time that i have hold on when i need to push away\",0.0],[\"afraid to say what be on my mind\",0.0],[\"afraid to say what i need to say\",0.0],[\"too many thing that you have say about me when i be not around\",0.0],[\"but i have have too many standoff with you it be about as much a i could stand\",0.0],[\"just before you hit the floor\",0.0],[\"and then it be all go\",0.0],[\"so concerned with what you think to just say what we feel inside\",0.0],[\"there be so many thing you say that make me feel you cross the line\",0.0],[\"cause i have have so many standoff with you it be about as much a i could stand\",0.0],[\"just before you hit the floor\",0.0],[\"and then it be all go\",0.0],[\"and then it be all go\",0.0],[\"and then it be all go\",0.0],[\"and then it be all go\",0.0],[\"now it be all go\",0.0],[\"you realize you divide u but you lie anyway\",0.0],[\"and all the lie have get you float up above u all\",0.0],[\"but what go up have get to fall\",0.0],[\"just before you hit the floor\",0.0],[\"and then it be all go\",0.0],[\"and then it be all go\",0.0],[\"and then it be all go\",0.0],[\"and then it be all go\",0.0],[\"now it be all go\",0.0],[\"the next you be not miss your shot\",0.1139],[\"the next you be not miss your shot\",0.1139],[\"the next you be not miss your shot\",0.1139],[\"one minute you be on top\",0.2023],[\"one minute you be on top\",0.2023],[\"one minute you be on top\",0.2023],[\"one minute you be on top\",0.2023],[\"one minute you be on top\",0.2023],[\"one minute you be on top\",0.2023],[\"the next you be not watch it drop\",0.2057],[\"the next you be not watch it drop\",0.2057],[\"the next you be not watch it drop\",0.2057],[\"so many people like me walk on eggshell all day long\",0.4144],[\"all i know be that all i want be to feel like i be not step on\",0.4215],[\"what go up will surely fall and i be count down the time\",0.4404],[\"you think have the upper hand mean you gotta keep put me down\",0.4939],[\"so i wait till the upper hand be mine\",0.4939],[\"so i wait until the upper hand be mine\",0.4939],[\"you think you have win\",0.5859],[\"you think you have win\",0.5859],[\"you think you have win\",0.5859],[\"wonder what i think of you well i protect you out of courtesy\",0.7351],[\"so many people like me that put so much trust in all your lie\",0.7463]],\"album\":\"meteora\"},{\"Index\":29,\"title\":\"nobodys-listening\",\"norm_comp\":-0.14533,\"sentences\":[[\"heart full of pain head full of stress\",-0.7269],[\"heart full of pain head full of stress\",-0.7269],[\"but hate everyone elses more\",-0.7227],[\"nothing to gain everything to fear\",-0.7163],[\"and get dirty with the people spread the dirt\",-0.6486],[\"handful of anger hold in my chest\",-0.5719],[\"i hate my rhyme\",-0.5719],[\"handful of anger hold in my chest\",-0.5719],[\"the pain give me something\",-0.5106],[\"because all of this stress\",-0.5023],[\"we drop right back in the cut\",-0.4939],[\"the fear and trash talk\",-0.4939],[\"and everythings leave be a waste of time\",-0.4588],[\"it get to a point feeling gotta get hurt\",-0.4404],[\"but everyone ignores me\",-0.3919],[\"but everyone ignores me\",-0.3919],[\"how could you ignore it\",-0.3612],[\"i be rid on the back of this pressure\",-0.3612],[\"the uphill struggle over the year\",-0.3182],[\"uphill struggle blood sweat and tear\",-0.3182],[\"try to give you warn\",-0.1027],[\"try to give you warn\",-0.1027],[\"but you do not want to hear me\",-0.0857],[\"but you do not want to hear me\",-0.0857],[\"come come come come at you\",0.0],[\"come come at you\",0.0],[\"come come at you\",0.0],[\"peep the style and the kid check for it\",0.0],[\"over basement track\",0.0],[\"we be just roll with the rhythm\",0.0],[\"rise from the ash of stylistic division\",0.0],[\"with these nonstop lyric of life living\",0.0],[\"but still unforgiven\",0.0],[\"talk this and that so i suppose\",0.0],[\"but nobodys listening\",0.0],[\"but nobodys listening\",0.0],[\"i get a\",0.0],[\"i cannot keep myself together\",0.0],[\"give me something to write on\",0.0],[\"i could set my sight on\",0.0],[\"and the people it be to\",0.0],[\"and the people that start it\",0.0],[\"but nobodys listening\",0.0],[\"but nobodys listening\",0.0],[\"i get a\",0.0],[\"scratch\",0.0],[\"come at you at every style\",0.0],[\"the number one question be\",0.0772],[\"but in the meantime there be those who want to\",0.1154],[\"not to forget\",0.1695],[\"you never forget the blood sweat and tear\",0.1695],[\"guess that it be well\",0.2732],[\"with rap that get you back this up like rewind that\",0.3612],[\"just like you\",0.3612],[\"tell you everything loud and clear\",0.3818],[\"tell you everything loud and clear\",0.3818],[\"tell you everything loud and clear\",0.3818],[\"tell you everything loud and clear\",0.3818],[\"call to you so clearly\",0.541],[\"call to you so clearly\",0.541]],\"album\":\"meteora\"},{\"Index\":30,\"title\":\"numb\",\"norm_comp\":-0.30374,\"sentences\":[[\"feel so faithless lose under the surface\",-0.6453],[\"and i know i end up fail too\",-0.5423],[\"become so tired so much more aware\",-0.4927],[\"become so tired so much more aware\",-0.4927],[\"become so tired so much more aware\",-0.4927],[\"i have become so numb i cannot feel you there\",-0.4795],[\"i have become so numb i cannot feel you there\",-0.4795],[\"i have become so numb i cannot feel you there\",-0.4795],[\"i have become so numb i cannot feel you there\",-0.4795],[\"i have become so numb i cannot feel you there\",-0.4795],[\"cannot you see that you be smother me\",-0.4215],[\"and every second i waste be more than i can take\",-0.4215],[\"hold too tightly afraid to lose control\",-0.4019],[\"every step that i take be another mistake to you\",-0.34],[\"every step that i take be another mistake to you\",-0.34],[\"put under the pressure of walk in your shoe\",-0.296],[\"but i know you be just like me with someone disappoint in you\",-0.0772],[\"i do not know what you be expect of me\",0.0],[\"caught in the undertow just catch in the undertow\",0.0],[\"caught in the undertow just catch in the undertow\",0.0],[\"because everything that you think i would be\",0.0],[\"have fall apart right in front of you\",0.0],[\"caught in the undertow just catch in the undertow\",0.0],[\"caught in the undertow just catch in the undertow\",0.0],[\"i be tire of be what you want me to be\",0.0772],[\"by become this all i want to do\",0.0772],[\"by become this all i want to do\",0.0772],[\"by become this all i want to do\",0.0772],[\"i be tire of be what you want me to be\",0.0772],[\"i be tire of be what you want me to be\",0.0772],[\"be be more like me and be less like you\",0.6794],[\"be be more like me and be less like you\",0.6794],[\"be be more like me and be less like you\",0.6794]],\"album\":\"meteora\"},{\"Index\":31,\"title\":\"easier-to-run\",\"norm_comp\":-0.35218,\"sentences\":[[\"than face all this pain here all alone\",-0.7073],[\"than face all this pain here all alone\",-0.7073],[\"than face all this pain here all alone\",-0.7073],[\"replace this pain with something numb\",-0.6908],[\"if i could take all the shame to the grave i would\",-0.6908],[\"if i could take all the shame to the grave\",-0.6908],[\"replace this pain with something numb\",-0.6908],[\"if i could take all the shame to the grave i would\",-0.6908],[\"if i could take all the shame to the grave\",-0.6908],[\"replace this pain with something numb\",-0.6908],[\"i would take all the shame to the grave\",-0.6908],[\"take back the pain i would\",-0.5106],[\"take back the pain i would\",-0.5106],[\"take back the pain i would\",-0.5106],[\"take back the pain i would\",-0.5106],[\"take back the pain i would\",-0.5106],[\"take back the pain i would\",-0.5106],[\"retrace every wrong move that i make i would\",-0.4767],[\"retrace every wrong move that i make i would\",-0.4767],[\"retrace every wrong move that i make i would\",-0.4767],[\"retrace every wrong move that i make i would\",-0.4767],[\"all of the helplessness inside\",-0.4767],[\"retrace every wrong move that i make\",-0.4767],[\"retrace every wrong move that i make i would\",-0.4767],[\"stand up and take the blame i would\",-0.34],[\"stand up and take the blame i would\",-0.34],[\"stand up and take the blame i would\",-0.34],[\"stand up and take the blame i would\",-0.34],[\"if i could stand up and take the blame i would\",-0.34],[\"no one can ever see\",-0.296],[\"the darkness of my past\",-0.25],[\"pretend i do not feel misplace\",-0.1027],[\"something have be take from deep inside of me\",0.0],[\"a secret i have keep lock away\",0.0],[\"wound so deep they never show\",0.0],[\"they never go away\",0.0],[\"if i could change i would\",0.0],[\"if i could\",0.0],[\"if i could change i would\",0.0],[\"if i could\",0.0],[\"sometimes i remember\",0.0],[\"bring back these memory\",0.0],[\"sometimes i think of let go\",0.0],[\"and never look back\",0.0],[\"and never move forward so\",0.0],[\"there would never be a past\",0.0],[\"if i could change i would\",0.0],[\"if i could\",0.0],[\"if i could change i would\",0.0],[\"if i could\",0.0],[\"just wash it aside\",0.0],[\"be so much simple than change\",0.0],[\"if i could change i would\",0.0],[\"if i could change i would\",0.0],[\"for year and year they have play\",0.34],[\"like move picture in my head\",0.3612],[\"i wish i do not have\",0.4019],[\"it be easy to run\",0.4404],[\"it be easy to run\",0.4404],[\"it be easy to run\",0.4404],[\"it be easy to run\",0.4404],[\"it be easy to go\",0.4404],[\"it be so much easy to go\",0.4902],[\"it be so much easy to go\",0.4902],[\"it be so much easy to go\",0.4902]],\"album\":\"meteora\"},{\"Index\":32,\"title\":\"from-the-inside\",\"norm_comp\":-0.06934,\"sentences\":[[\"try not to break but i be so tired of this deceit\",-0.8782],[\"try not to break but i be so tired of this deceit\",-0.8782],[\"because i swear for the last time i will not trust myself with you\",-0.4408],[\"because i swear for the last time i will not trust myself with you\",-0.4408],[\"because i swear for the last time i will not trust myself with you\",-0.4408],[\"because i swear for the last time i will not trust myself with you\",-0.4408],[\"waste myself on you\",-0.4215],[\"tension be build inside steadily\",-0.3182],[\"everyone feel so far away from me\",0.0],[\"every time i try to make myself get back up on my foot\",0.0],[\"all i ever think about be this\",0.0],[\"all the tire time between\",0.0],[\"take everything from the inside and throw it all away\",0.0],[\"everyone feel so far away from me\",0.0],[\"every time i try to make myself get back up on my foot\",0.0],[\"all i ever think about be this\",0.0],[\"all the tire time between\",0.0],[\"take everything from the inside and throw it all away\",0.0],[\"you\",0.0],[\"you\",0.0],[\"you\",0.0],[\"you\",0.0],[\"i will take everything from the inside and throw it all away\",0.0],[\"everything from the inside and just throw it all away\",0.0],[\"you\",0.0],[\"you\",0.0],[\"i will not waste myself on you\",0.3252],[\"and how try to put my trust in you just take so much out of me\",0.5106],[\"and how try to put my trust in you just take so much out of me\",0.5106],[\"happy thought sift through dust and the lie\",0.5719],[\"happy thought force their way out of me\",0.5719],[\"i do not know who to trust your surprise\",0.6597]],\"album\":\"meteora\"},{\"Index\":33,\"title\":\"mark-the-graves\",\"norm_comp\":-0.1619,\"sentences\":[[\"than the pain i put you through\",-0.5106],[\"there be so much more to lose\",-0.4549],[\"and my carelessness leave you in the dark\",-0.3818],[\"only memories we think we could deny\",-0.34],[\"if the ghost of yesterday\",-0.3182],[\"no trace of what remain\",-0.296],[\"no stone to mark the graf\",-0.296],[\"if we cannot let go whenever say goodbye\",0.0],[\"and the blood wash away\",0.0],[\"but the sky will never fade\",0.0],[\"at least i know somehow i make a mark\",0.0],[\"in the dark in the light\",0.0],[\"in the dark in the light\",0.0],[\"in the dark in the light\",0.0],[\"in the dark in the light\",0.0],[\"nothing leave nothing right\",0.0382],[\"nothing leave nothing right\",0.0382],[\"nothing leave nothing right\",0.0382],[\"nothing leave nothing right\",0.0382],[\"there be a fragile game you play\",0.34]],\"album\":\"the-hunting-party\"},{\"Index\":34,\"title\":\"keys-to-the-kingdom\",\"norm_comp\":-0.32753,\"sentences\":[[\"all you fuck lame go\",-0.743],[\"but i still can bring the pain so\",-0.6652],[\"it be our final war\",-0.5994],[\"i fuck up everything i see\",-0.5423],[\"i fuck up everything i see\",-0.5423],[\"i fuck up everything i see\",-0.5423],[\"i be my own casualty\",-0.5267],[\"i be my own casualty\",-0.5267],[\"i be my own casualty\",-0.5267],[\"i be my own casualty\",-0.5267],[\"fight in futility\",-0.3818],[\"fight in futility\",-0.3818],[\"fight in futility\",-0.3818],[\"no control\",-0.296],[\"no control\",-0.296],[\"no control\",-0.296],[\"no control\",-0.296],[\"careful what you shoot cause you might hit what you come for\",-0.2023],[\"careful what you shoot cause you might hit what you come for\",-0.2023],[\"tell me what be worth fight for\",-0.1779],[\"no surprise\",-0.0258],[\"no surprise\",-0.0258],[\"no surprise\",-0.0258],[\"no surprise\",-0.0258],[\"throw the key to the kingdom down there\",0.0],[\"down in my eye\",0.0],[\"when we know there be nothing more\",0.0],[\"just to sell ourselves for this\",0.0],[\"the path we least resist\",0.0],[\"throw the key to the kingdom down there\",0.0],[\"down in my eye\",0.0],[\"uh i give you what you come for\",0.0],[\"this be not the same though\",0.0],[\"get a different method\",0.0],[\"not all give the same though\",0.0],[\"i get daddys same flow\",0.0],[\"i be sock in catch you never really in my range though\",0.0],[\"on primetime i ama let that bass bang though\",0.0],[\"yell out the name though\",0.0],[\"throw the key to the kingdom down there\",0.0],[\"down in my eye\",0.0],[\"throw the key to the kingdom down there\",0.0],[\"down in my eye\",0.0],[\"yes i be half anglo half huapango\",0.4019],[\"take the hand or fist\",0.4939]],\"album\":\"the-hunting-party\"},{\"Index\":35,\"title\":\"line-in-the-sand\",\"norm_comp\":0.04319,\"sentences\":[[\"and we be blind by greed\",-0.6597],[\"you can try intimidation\",-0.4215],[\"your greed lead the call my flag have to fall\",-0.4019],[\"and i be lose in the flood\",-0.4019],[\"we pay them no mind\",-0.3818],[\"we pay them no mind\",-0.3818],[\"and you can try to ignore\",-0.3612],[\"when you run from the fire\",-0.34],[\"you be gonna pay for what you have pay for what you have do\",-0.2023],[\"you be gonna pay for what you have pay for what you have do\",-0.2023],[\"you be gonna pay for what you have pay for what you have do\",-0.2023],[\"today we stand on the wall\",0.0],[\"and when they\",0.0],[\"they tell u to go\",0.0],[\"but little do we know\",0.0],[\"today i look for a sign\",0.0],[\"a line in the sand\",0.0],[\"between yours and mine\",0.0],[\"but little do you know\",0.0],[\"you shall tell them give me back what be mine\",0.0],[\"give me back what be mine\",0.0],[\"i have never see blood\",0.0],[\"you have sell me an ocean\",0.0],[\"we be count on a leader\",0.0],[\"we be drive by need\",0.0],[\"but could not take temptation\",0.0],[\"you be steady a a sniper\",0.0],[\"we be wait on a wire\",0.0],[\"so we never saw it come\",0.0],[\"but when the time come call\",0.0],[\"you shall tell them give me back what be mine\",0.0],[\"give me back what be mine\",0.0],[\"you shall get what be yours you be out of time\",0.0],[\"and you will give me back what be mine\",0.0],[\"give me back what be mine\",0.0],[\"give me give me back what be mine\",0.0],[\"what be mine\",0.0],[\"give me give me back what be mine\",0.0],[\"what be mine what be mine\",0.0],[\"give me back what be mine\",0.0],[\"today we stand on the wall\",0.0],[\"and when they\",0.0],[\"they tell u to go\",0.0],[\"but little do we know\",0.0],[\"and it come like fire from below\",0.0258],[\"we laugh at the gun\",0.296],[\"yeah you be gonna get yours\",0.296],[\"we laugh at the gun\",0.296],[\"another day your truth will come\",0.3182],[\"another day your truth will come\",0.3182],[\"i have never be a coward\",0.357],[\"like every other time\",0.3612],[\"like every other time\",0.3612],[\"and so today your truth have come\",0.3744],[\"with flame in my hand\",0.4939],[\"we laugh at the\",0.5574],[\"we laugh at it all\",0.5574],[\"we laugh at the\",0.5574],[\"we laugh at it all\",0.5574]],\"album\":\"the-hunting-party\"},{\"Index\":36,\"title\":\"until-its-gone\",\"norm_comp\":-0.09114,\"sentences\":[[\"it be your battle to be fight\",-0.6369],[\"that i be wrong\",-0.4767],[\"a fire need a space to burn\",-0.34],[\"no you do not know what you have get\",-0.296],[\"no you do not know what you have get\",-0.296],[\"no you do not know what you have get\",-0.296],[\"mean find it alone\",-0.25],[\"a breath to build a glow\",0.0],[\"i have hear it say a thousand time\",0.0],[\"but now i know\",0.0],[\"that you do not know what you have get\",0.0],[\"oh you do not know what you have get\",0.0],[\"until it be go\",0.0],[\"until it be go\",0.0],[\"until it be go\",0.0],[\"but something make me realize\",0.0],[\"because find what you get sometimes\",0.0],[\"and i can finally see your light\",0.0],[\"when i let go\",0.0],[\"because you do not know what you have get\",0.0],[\"until it be go\",0.0],[\"until it be go\",0.0],[\"until it be go\",0.0],[\"until it be go\",0.0],[\"until it be go\",0.0],[\"until it be go\",0.0],[\"until it be go\",0.0],[\"until it be go\",0.0],[\"because you do not know what you have get\",0.0],[\"oh you do not know what you have get\",0.0],[\"til it be go\",0.0],[\"til it be go\",0.0],[\"til it be go\",0.0],[\"i think i keep you safe and sound\",0.4404],[\"i think i make you strong\",0.5106]],\"album\":\"the-hunting-party\"},{\"Index\":37,\"title\":\"guilty-all-the-same\",\"norm_comp\":-0.33757,\"sentences\":[[\"too sick to be ashamed\",-0.7506],[\"too sick to be ashamed\",-0.7506],[\"too sick to be ashamed\",-0.7506],[\"too sick to be ashamed\",-0.7506],[\"too sick to be ashamed\",-0.7506],[\"too sick to be ashamed\",-0.7506],[\"but there be no one else to blame\",-0.7096],[\"but there be no one else to blame\",-0.7096],[\"but there be no one else to blame\",-0.7096],[\"but there be no one else to blame\",-0.7096],[\"but there be no one else to blame\",-0.7096],[\"but there be no one else to blame\",-0.7096],[\"you record company kill me\",-0.6908],[\"you feel me you will see the greed will be to blame\",-0.6249],[\"there be no one else to blame\",-0.5574],[\"you be guilty all the same\",-0.4215],[\"you be guilty all the same\",-0.4215],[\"you be guilty all the same\",-0.4215],[\"you be guilty all the same\",-0.4215],[\"you be guilty all the same\",-0.4215],[\"guilty all the same\",-0.4215],[\"guilty all the same\",-0.4215],[\"you be guilty all the same\",-0.4215],[\"no regret and guilt free you claim that be not the way that he build me\",-0.4215],[\"you be guilty\",-0.4215],[\"you be guilty all the same\",-0.4215],[\"you be guilty all the same\",-0.4215],[\"guilty all the same\",-0.4215],[\"guilty all the same\",-0.4215],[\"guilty all the same\",-0.4215],[\"nonsense the same he do not call for this he be filthy\",-0.4019],[\"anybodys expense no shame with a clear conscience\",-0.4019],[\"smoke scream we be go in flame\",-0.4019],[\"because we cannot be save\",-0.3875],[\"try to force me to strain it no way\",-0.34],[\"how there be no other way\",-0.296],[\"now there be no other way\",-0.296],[\"until no more remains but i be still me\",-0.1531],[\"dirty money scheme a clean split\",-0.0516],[\"tell u all again\",0.0],[\"what you think we should be\",0.0],[\"what the answer be\",0.0],[\"what it be we cannot see\",0.0],[\"tell u all again\",0.0],[\"how to do what you say\",0.0],[\"how to fall in line\",0.0],[\"but oh we all know\",0.0],[\"show u all again\",0.0],[\"that we be unprepared\",0.0],[\"that you have what we need\",0.0],[\"show u all again\",0.0],[\"cause the end be near\",0.0],[\"and oh you will know\",0.0],[\"can you all explain what kind of land be this\",0.0],[\"talk team they take the paper route\",0.0],[\"know as soon a they be do what the deal be\",0.0],[\"say it be time for thing to change\",0.0],[\"we arrange that dope product we build cheap\",0.0],[\"they get the gall to say yo how real can real be\",0.0],[\"medium the game to me your all the same\",0.0],[\"you want to point your finger\",0.0772],[\"you want to point your finger\",0.0772],[\"you want to point your finger\",0.0772],[\"you want to point your finger\",0.0772],[\"you want to point your finger\",0.0772],[\"you want to point your finger\",0.0772],[\"greedy for the fame tv or a name\",0.1531],[\"yeah you already know what it be\",0.296],[\"if he fall off his plan he be wealthy\",0.3612],[\"all they think about be bank account asset and realty\",0.3612],[\"like authentic hiphop and rock to pop and radio\",0.3612],[\"that our hand be unclean\",0.4939],[\"dream manipulate like artist it be real deep\",0.5423],[\"when a man have plan of be rich\",0.5574],[\"anything if it be more to gain\",0.5688]],\"album\":\"the-hunting-party\"},{\"Index\":38,\"title\":\"the-wastelands\",\"norm_comp\":-0.08558,\"sentences\":[[\"this be war with no weapon\",-0.8074],[\"murder with no killin\",-0.7845],[\"to act a a delayed attack\",-0.6124],[\"you all can hate and wait and see\",-0.5719],[\"to see these sucker hold a blade to me\",-0.5267],[\"so no i be not afraid\",-0.3597],[\"where tomorrow disappears\",-0.34],[\"when tomorrow disappears\",-0.34],[\"when tomorrow disappears\",-0.34],[\"marchin with no steppin\",-0.296],[\"first no sequel\",-0.296],[\"do the math no equal\",-0.296],[\"john with no yoko\",-0.296],[\"and no i be not afraid of that\",-0.296],[\"and your hope turn into fear\",-0.0772],[\"and your hope turn into fear\",-0.0772],[\"and your hope turn into fear\",-0.0772],[\"to slay and leave em lay on the pavement\",-0.0516],[\"illin every direction\",0.0],[\"more power less people\",0.0],[\"print it in your paperback\",0.0],[\"every rap be make in fact\",0.0],[\"every phrase a razor blade\",0.0],[\"bang fade to black\",0.0],[\"in the wasteland of today\",0.0],[\"and and there be nothing more to take\",0.0],[\"but you force yourself to choose\",0.0],[\"in the wasteland of today\",0.0],[\"while the future slip away\",0.0],[\"in the wasteland of today\",0.0],[\"the show be do\",0.0],[\"they be talk for just talk\",0.0],[\"but mean they get none\",0.0],[\"none of em come proper\",0.0],[\"not one\",0.0],[\"i build before you come to be\",0.0],[\"take it how you take it\",0.0],[\"i be the opposite of vacancy\",0.0],[\"and this be not negotiation\",0.0],[\"in the wasteland of today\",0.0],[\"and and there be nothing more to take\",0.0],[\"but you force yourself to choose\",0.0],[\"in the wasteland of today\",0.0],[\"when the future slip away\",0.0],[\"in the wasteland of today\",0.0],[\"in the wasteland of today\",0.0],[\"and and there be nothing more to take\",0.0],[\"but you force yourself to choose\",0.0],[\"in the wasteland of today\",0.0],[\"when the future slip away\",0.0],[\"in the wasteland of today\",0.0],[\"be not no way to shake the ground\",0.0485],[\"when there be nothing leave to lose\",0.3412],[\"when there be nothing leave to lose\",0.3412],[\"when there be nothing leave to lose\",0.3412],[\"they talk like a shotgun\",0.3612],[\"roll credit you get it\",0.3818],[\"but how many get breed with integrity\",0.5267],[\"that be save until they play it back\",0.6808]],\"album\":\"the-hunting-party\"},{\"Index\":39,\"title\":\"war\",\"norm_comp\":-0.31434,\"sentences\":[[\"war destroy you\",-0.8126],[\"war destroy you\",-0.8126],[\"there be no pain\",-0.6705],[\"only war\",-0.5994],[\"war\",-0.5994],[\"war\",-0.5994],[\"victory decides who have wrong or right\",-0.4767],[\"and word you lose\",-0.4019],[\"in your despair\",-0.3182],[\"it need no sign to justify\",-0.296],[\"and it will not apologize\",-0.0762],[\"and it will not apologize\",-0.0762],[\"it will not cease\",0.0],[\"only grow\",0.0],[\"for lay down your life\",0.0],[\"it be there\",0.0],[\"and it have become your only right\",0.0],[\"forever black each on your life\",0.0],[\"for lay down your life\",0.0],[\"lay down your life\",0.0],[\"you good be prepare to fight\",0.0772],[\"there be no peace\",0.3182]],\"album\":\"the-hunting-party\"},{\"Index\":40,\"title\":\"rebellion\",\"norm_comp\":0.0722,\"sentences\":[[\"right in the face of the damage do\",-0.4939],[\"i cannot resolve this empty story\",-0.4912],[\"i have see the broken\",-0.4767],[\"imitation of rebellion rebellion rebellion rebellion\",-0.4588],[\"we lose before the start\",-0.4019],[\"imitation of rebellion rebellion rebellion\",-0.3612],[\"the lost and the sight unseen\",-0.3182],[\"rebellion rebellion\",-0.25],[\"rebellion rebellion\",-0.25],[\"pretending we be here alone\",-0.1531],[\"imitation of rebellion\",-0.128],[\"i have see the blood\",0.0],[\"we act it out\",0.0],[\"we wear the color\",0.0],[\"define by the thing we own\",0.0],[\"we be not without\",0.0],[\"and far away they burn their building\",0.0],[\"one by one we fall apart\",0.0],[\"we fell apart we fell apart we fell apart\",0.0],[\"imitation of imitation of\",0.0],[\"i want a flood\",0.0772],[\"i want an ocean\",0.0772],[\"to wash my confusion clean\",0.128],[\"who have never face oppression gun\",0.2584],[\"who have never face oppression gun\",0.2584],[\"who have never face oppression gun\",0.2584],[\"who have never face oppression gun\",0.2584],[\"we be like each other\",0.3612],[\"i cannot repair the damage do\",0.3875],[\"we be the fortunate one\",0.4404],[\"we be the fortunate one\",0.4404],[\"we be the fortunate one\",0.4404],[\"we be the fortunate one\",0.4404],[\"we be the fortunate one\",0.4404],[\"we be the fortunate one\",0.4404],[\"we be the fortunate one\",0.4404],[\"we be the fortunate one\",0.4404]],\"album\":\"the-hunting-party\"},{\"Index\":41,\"title\":\"all-for-nothing\",\"norm_comp\":-0.0842,\"sentences\":[[\"so let me break this fucker down for ya\",-0.729],[\"i will have no debt to pay you say\",-0.6249],[\"i will have no debt to pay you say\",-0.6249],[\"what it can take to instigate a war\",-0.5994],[\"i be disgust by what can make you tuck your tail below ya\",-0.5994],[\"your battle not mine\",-0.3818],[\"my debt repaid\",-0.3612],[\"my debt repaid\",-0.3612],[\"no more obey\",-0.296],[\"come back there be no other way to say it\",-0.296],[\"and no i be not your soldier\",-0.296],[\"no more obey\",-0.296],[\"where to put your paranoia\",-0.25],[\"our trust betrayed\",-0.1779],[\"our trust betrayed\",-0.1779],[\"and if i do what you demand you say\",-0.128],[\"and if i do what you demand you say\",-0.128],[\"and if i do what you demand\",-0.128],[\"so whatcha wait for\",0.0],[\"anticipate more\",0.0],[\"while you debate\",0.0],[\"time i be not hat for\",0.0],[\"they do not say before\",0.0],[\"you could never see it\",0.0],[\"but this be take a shot time\",0.0],[\"you wait for a purpose\",0.0],[\"i already get mine\",0.0],[\"one two three four\",0.0],[\"you shall let me understand you say\",0.0],[\"you be gonna hold me to your word\",0.0],[\"and if i sell myself away you say\",0.0],[\"i be gonna get what i deserve\",0.0],[\"all for nothing all for nothing\",0.0],[\"i really do not know ya\",0.0],[\"you talk but let me show ya\",0.0],[\"i be not take any order\",0.0],[\"i be a fivestar general infantry controller\",0.0],[\"need a lesson let me show ya\",0.0],[\"have you check your composure\",0.0],[\"one two three four\",0.0],[\"you shall let me understand you say\",0.0],[\"you be gonna hold me to your word\",0.0],[\"and if i sell myself away you say\",0.0],[\"i be gonna get what i deserve\",0.0],[\"you shall let me understand\",0.0],[\"all for nothing all for nothing\",0.0],[\"yeah uh\",0.296],[\"yeah i have be hat more than\",0.296],[\"while you tell me step to it like\",0.3612],[\"while i make you step to it like\",0.3612],[\"there be nothing they can fuck say\",0.431],[\"you joke and i do not half a half a sucker bone to throw ya\",0.6093],[\"wanna skate and play it safe\",0.6486]],\"album\":\"the-hunting-party\"},{\"Index\":42,\"title\":\"final-masquerade\",\"norm_comp\":0.07167,\"sentences\":[[\"because i cannot see forgiveness\",-0.2057],[\"for what we leave behind\",-0.0516],[\"tear me apart\",0.0],[\"with word you would not say\",0.0],[\"suddenly tomorrow\",0.0],[\"moment wash away\",0.0],[\"because i do not have a reason\",0.0],[\"and you do not have the time\",0.0],[\"we both keep on wait\",0.0],[\"for something we will not find\",0.0],[\"the light on the horizon\",0.0],[\"shadow float over\",0.0],[\"sky begin to fade\",0.0],[\"you say it be forever\",0.0],[\"but then it slip away\",0.0],[\"stand at the end of\",0.0],[\"the final masquerade\",0.0],[\"secret that you keep\",0.0],[\"and we both keep on wait\",0.0],[\"the light on the horizon\",0.0],[\"shadow float over\",0.0],[\"sky begin to fade\",0.0],[\"you say it be forever\",0.0],[\"but then it slip away\",0.0],[\"stand at the end of\",0.0],[\"the final masquerade\",0.0],[\"final masquerade\",0.0],[\"stand at the end of the final masquerade\",0.0],[\"the light on the horizon\",0.0],[\"shadow float over\",0.0],[\"sky begin to fade\",0.0],[\"you say it be forever\",0.0],[\"but then it slip away\",0.0],[\"stand at the end of\",0.0],[\"the final masquerade\",0.0],[\"stand at the end of\",0.0],[\"the final masquerade\",0.0],[\"stand at the end of\",0.0],[\"the final masquerade\",0.0],[\"all i ever want\",0.0772],[\"all you ever want\",0.0772],[\"the truth i could not speak\",0.3182],[\"be brighter yesterday\",0.3818],[\"be brighter yesterday\",0.3818],[\"be brighter yesterday\",0.3818],[\"and you cannot see the crime\",0.431]],\"album\":\"the-hunting-party\"},{\"Index\":43,\"title\":\"in-my-remains\",\"norm_comp\":0.09182,\"sentences\":[[\"in the fear and pain break down and wait\",-0.7579],[\"to wash away the bad of me\",-0.5423],[\"to wash away the bad of me\",-0.5423],[\"to wash away the bad of me\",-0.5423],[\"of every broken heart dig through the wreckage\",-0.4767],[\"of your disregard sink down and wait\",-0.2732],[\"separate sifting through the wreckage\",0.0],[\"i cannot concentrate searching for a message\",0.0],[\"now in my remains\",0.0],[\"except this silent rain\",0.0],[\"come apart fall in the crack\",0.0],[\"now in my remains\",0.0],[\"except this silent rain\",0.0],[\"one by one by one\",0.0],[\"one by one by one\",0.0],[\"one by one by one\",0.0],[\"one by one by one\",0.0],[\"now in my remains\",0.0],[\"except this silent rain\",0.0],[\"one by one by one\",0.0],[\"one by one by one\",0.0],[\"our promise that never come\",0.3182],[\"our promise that never come\",0.3182],[\"our promise that never come\",0.3182],[\"like an army fall\",0.3612],[\"like an army fall\",0.3612],[\"like an army fall\",0.3612],[\"like an army fall\",0.3612],[\"like an army fall\",0.3612],[\"like an army fall\",0.3612],[\"for the chance to feel alive\",0.5574],[\"for the chance to feel alive\",0.5574]],\"album\":\"living-things\"},{\"Index\":44,\"title\":\"victimized\",\"norm_comp\":-0.41365,\"sentences\":[[\"no regret for the confidence betray\",-0.7096],[\"victimize victimize never again victimized\",-0.6876],[\"victimize victimize never again victimized\",-0.6876],[\"victimize victimize never again victimized\",-0.6876],[\"victimize victimize never again victimized\",-0.6876],[\"a the sound come high on this violent rhythm\",-0.6833],[\"they be act like they want a riot it be a riot i will give them\",-0.6597],[\"no more hiding in shadow\",-0.5709],[\"because i will not wait for the debt to be repay\",-0.3612],[\"wanna talk about a victim i ama put you there with em\",-0.2732],[\"keep em wait in the shadow there think they hide\",-0.1779],[\"time have come for you\",0.0],[\"these snake in the grass supply the venom\",0.0],[\"go on already hit em yeah you gotta be kiddin\",0.296],[\"but the truth be you do not have the stomach to get em\",0.4497],[\"i be not scar of your teeth i admire what be in em\",0.4767]],\"album\":\"living-things\"},{\"Index\":45,\"title\":\"powerless\",\"norm_comp\":-0.6679,\"sentences\":[[\"you wake the devil that i think you have leave behind\",-0.6808],[\"and you hold it all but you be careless to let it fall\",-0.5023],[\"and you hold it all but you be careless to let it fall\",-0.5023],[\"and you hold it all but you be careless to let it fall\",-0.5023],[\"you hold it all and i be by your side powerless\",-0.4939],[\"you hold it all and i be by your side powerless\",-0.4939],[\"you hold it all and i be by your side powerless\",-0.4939],[\"powerless\",-0.4939],[\"powerless\",-0.4939],[\"powerless\",-0.4939],[\"i be leave with emptiness that word can not defend\",-0.4767],[\"you hide your skeleton when i have show you mine\",-0.1779],[\"ten thousand promise ten thousand way to lose\",-0.1027],[\"ten thousand promise ten thousand way to lose\",-0.1027],[\"i saw the evidence the crimson soak through\",0.0],[\"i watch you fall apart and chase you to the end\",0.0],[\"you shall never know what i become because of you\",0.0]],\"album\":\"living-things\"},{\"Index\":46,\"title\":\"lies-greed-misery\",\"norm_comp\":-0.56477,\"sentences\":[[\"suffer all alone in your misery\",-0.8481],[\"suffer all alone in your misery\",-0.8481],[\"suffer all alone in your misery\",-0.8481],[\"suffer all alone in your misery\",-0.8481],[\"suffer all alone in your misery\",-0.8481],[\"suffer all alone in your misery\",-0.8481],[\"suffer all alone in your misery\",-0.8481],[\"suffer all alone in your misery\",-0.8481],[\"but you cannot make the right kinda threat to\",-0.6322],[\"i wanna see you choke on your lie\",-0.5423],[\"choke on your lie\",-0.5423],[\"i wanna see you choke on your lie\",-0.5423],[\"choke on your lie\",-0.5423],[\"i wanna see you choke on your lie\",-0.5423],[\"choke on your lie\",-0.5423],[\"i wanna see you choke on your lie\",-0.5423],[\"choke on your lie\",-0.5423],[\"and look at how you lose your composure\",-0.4019],[\"swallow up your greed\",-0.4019],[\"swallow up your greed\",-0.4019],[\"swallow up your greed\",-0.4019],[\"swallow up your greed\",-0.4019],[\"swallow up your greed\",-0.4019],[\"swallow up your greed\",-0.4019],[\"swallow up your greed\",-0.4019],[\"swallow up your greed\",-0.4019],[\"talk slick to me no\",-0.296],[\"no you cannot intimidate me\",-0.1551],[\"i ama be that nail in your coffin\",0.0],[\"sayin that i soften\",0.0],[\"i be duckin down to reload\",0.0],[\"i do not have the patience\",0.0],[\"before you even say it i know\",0.0],[\"that be not the way i get down\",0.0],[\"now let me show ya exactly how the breaking point sound\",0.0],[\"i would rather live and let be\",0.0],[\"push me to let you\",0.0],[\"that be not the way it go down\",0.0],[\"you do it to yourself and it be over\",0.0],[\"now let me show ya exactly how the breaking point sound\",0.0],[\"you do it to yourself\",0.0],[\"you do it to yourself\",0.0],[\"you do it to yourself\",0.0],[\"you do it to yourself\",0.0],[\"you do it to yourself\",0.0],[\"you do it to yourself\",0.0],[\"you do it to yourself\",0.0],[\"you do it to yourself\",0.0],[\"you disrespect me so clearly\",0.0498],[\"what be it you want me to tell ya\",0.0772],[\"you let your pride and your ego\",0.34],[\"so you can save your petty explanation\",0.3947],[\"i be not the failure\",0.4023],[\"now you good hear me\",0.4404]],\"album\":\"living-things\"},{\"Index\":47,\"title\":\"roads-untraveled\",\"norm_comp\":-0.21239,\"sentences\":[[\"it be the bad kind of pain i have know\",-0.7783],[\"weep not for path leave lone\",-0.686],[\"weep not for road untraveled\",-0.5719],[\"weep not for road untraveled\",-0.5719],[\"weep not for sight unseen\",-0.5719],[\"give up your heart leave broken\",-0.5106],[\"and let that mistake pas on\",-0.34],[\"because beyond every bend be a long blinding end\",0.0],[\"whoa whoa whoa whoa\",0.0],[\"whoa whoa\",0.0],[\"there be a seat here alongside me\",0.0],[\"whoa whoa whoa whoa\",0.0],[\"whoa whoa\",0.0],[\"because the love that you lose be not worth what it cost\",0.2105],[\"and in time you shall be glad it be go\",0.4588],[\"your love never end and if you need a friend\",0.8126]],\"album\":\"living-things\"},{\"Index\":48,\"title\":\"until-it-breaks\",\"norm_comp\":-0.01876,\"sentences\":[[\"seperate the weak from the obsolete\",-0.6249],[\"and no mistake now i be come to get you\",-0.5574],[\"it really do not matter if you be wrong or if you be right\",-0.5327],[\"and when the last bell ring the poor men sing\",-0.4767],[\"quit trip i do not have time for your cry\",-0.4767],[\"so shake shake down money heres the break down\",-0.4563],[\"this be something for your people on the block to\",-0.4404],[\"i get ill or i deliver while you quiver in your parent\",-0.4215],[\"that crash against the shore\",-0.4019],[\"it be a pretty small weapon i can shoot it i can drop it\",-0.3612],[\"be you in the firing squad or be you in the lineup\",-0.34],[\"with the big gun only get you slay\",-0.34],[\"so i do not run the track no i make the track run\",-0.296],[\"the early morning sing no more\",-0.296],[\"and sings again no more\",-0.296],[\"the early morning sing no more\",-0.296],[\"i be not play i be just say\",-0.2584],[\"i grind tough sucka make your mind up\",-0.128],[\"you be meek i creep hard on impostor\",-0.1027],[\"it go a one two three\",0.0],[\"i do not need to sweat it when the competition come\",0.0],[\"my momma teach me word my daddy build rocket\",0.0],[\"i hold em both together now tell me what i get\",0.0],[\"it be not over because the shark on the left side the snake on the right\",0.0],[\"and anything you do they wanna get a little bite\",0.0],[\"but steady little soldier i be not stand next to you\",0.0],[\"i can lay it on the ground before you be even in my view\",0.0],[\"bring me to kingdom come\",0.0],[\"blackout and rock to give you what you need\",0.0],[\"and switch style on the dime quickwitted you all\",0.0],[\"i be just a banksy you be a brainwash get the picture\",0.0],[\"we swim against the rise wave\",0.0],[\"the body bend until it break\",0.0],[\"so rest your head\",0.0],[\"it be time to sleep\",0.0],[\"the body bend until it break\",0.0],[\"because time have tear the flesh away\",0.0],[\"like papa who shoot ya\",0.0258],[\"bang bang little monkey man playing\",0.1372],[\"you be not get a sliver of a chance\",0.25],[\"and dream of what be in store\",0.25],[\"with the hunger of a lion the strength of a\",0.296],[\"give me the truth of the word unsung\",0.3182],[\"because once they get their teeth in nothing really fight\",0.3401],[\"like that\",0.3612],[\"and you can run your mouth like you could try to fill my shoe\",0.3612],[\"like that\",0.3612],[\"it be like that\",0.3612],[\"give me the strength of the rise\",0.4939],[\"and razzle me i do it like i get nothing to lose\",0.5801],[\"original style like an eight of eight drum\",0.5859],[\"you can play the bank i ama play the bank take down\",0.5859],[\"but learn to respect it because you clearly cannot stop it\",0.8759]],\"album\":\"living-things\"},{\"Index\":49,\"title\":\"lost-in-the-echo\",\"norm_comp\":-0.07189,\"sentences\":[[\"forget the rest let them know my hell\",-0.7579],[\"i do not care where the enemy be\",-0.7293],[\"so hollow so vicious\",-0.553],[\"then sorrow then sickness\",-0.5267],[\"i have see that frustration\",-0.4767],[\"each word get lose in the echo\",-0.4019],[\"each word get lose in the echo\",-0.4019],[\"each word get lose in the echo\",-0.4019],[\"then the shock when you flip it on me\",-0.3818],[\"never gonna be another one no\",-0.296],[\"back up no i will hold myself\",-0.296],[\"deep feeble\",-0.296],[\"deep feeble\",-0.296],[\"no you can tell em all now\",-0.296],[\"deep feeble\",-0.296],[\"big cross they be lose but do not know\",-0.2144],[\"damn i be back yep my soul be not sell\",-0.128],[\"you be that foundation\",0.0],[\"i follow so take\",0.0],[\"so conditioned i could never let go\",0.0],[\"so afraid i could not let myself see\",0.0],[\"that i could never be hold\",0.0],[\"let the rest be to tell they tale\",0.0],[\"that i be there say\",0.0],[\"so one last lie i can see through\",0.0],[\"this time i finally let you\",0.0],[\"go go go\",0.0],[\"test my will test my heart\",0.0],[\"let me tell you how the odds gonna stack up\",0.0],[\"how be it work out for you all in the back huh\",0.0],[\"and i have come back unshaken\",0.0],[\"let down i have live and let go\",0.0],[\"so you can let it be know\",0.0],[\"i do not hold back i hold my own\",0.0],[\"i cannot sing flat it be not my tone\",0.0],[\"i cannot fall back i come too far\",0.0],[\"let the bell ring wherever they be\",0.0],[\"because i be there say\",0.0],[\"so one last lie i can see through\",0.0],[\"this time i finally let you\",0.0],[\"go go go\",0.0],[\"i do not back up i do not back down\",0.0],[\"i do not fold up and i do not bow\",0.0],[\"i do not roll over do not know how\",0.0],[\"and every time say\",0.0],[\"so one last lie i can see through\",0.0],[\"this time i finally let you\",0.0],[\"go go go\",0.0],[\"cannot be stop all i know go hard\",0.125],[\"i cannot be mad i cannot be calm\",0.1695],[\"will not forget how i get this far\",0.1695],[\"yeah yo\",0.296],[\"check the rep yep you know my rail\",0.296],[\"and these promise break\",0.3182],[\"you all go hard i go smart\",0.3182],[\"and these promise break\",0.3182],[\"and these promise break\",0.3182],[\"kept respect up the vet stay their\",0.4767],[\"hold myself up and love my scar\",0.6369]],\"album\":\"living-things\"},{\"Index\":50,\"title\":\"burn-it-down\",\"norm_comp\":0.06939,\"sentences\":[[\"you lose that right to hold that crown\",-0.4019],[\"the color conflict\",-0.3182],[\"the cycle repeat\",0.0],[\"a explosion break in the sky\",0.0],[\"all that i need\",0.0],[\"be the one thing i could not find\",0.0],[\"and you be there at the turn\",0.0],[\"wait to let me know\",0.0],[\"we be build it up\",0.0],[\"to break it back down\",0.0],[\"we be build it up\",0.0],[\"to burn it down\",0.0],[\"we cannot wait\",0.0],[\"to burn it to the ground\",0.0],[\"a the flame climb into the cloud\",0.0],[\"and you be there at the turn\",0.0],[\"caught in the burning glow\",0.0],[\"and i be there at the turn\",0.0],[\"wait to let you know\",0.0],[\"we be build it up\",0.0],[\"to break it back down\",0.0],[\"we be build it up\",0.0],[\"to burn it down\",0.0],[\"we cannot wait\",0.0],[\"to burn it to the ground\",0.0],[\"you hold me high\",0.0],[\"and i believe when you tell that lie\",0.0],[\"i build you up but you let me down\",0.0],[\"so when you fall i will take my turn\",0.0],[\"a your blaze burn\",0.0],[\"and you be there at the turn\",0.0],[\"wait to let me know\",0.0],[\"we be build it up\",0.0],[\"to break it back down\",0.0],[\"we be build it up\",0.0],[\"to burn it down\",0.0],[\"we cannot wait\",0.0],[\"to burn it to the ground\",0.0],[\"when you fall i will take my turn\",0.0],[\"a your blaze burn\",0.0],[\"we cannot wait\",0.0],[\"to burn it to the ground\",0.0],[\"when you fall i will take my turn\",0.0],[\"a your blaze burn\",0.0],[\"we cannot wait\",0.0],[\"to burn it to the ground\",0.0],[\"i want to fix this\",0.0772],[\"and strike me down when i kiss that ring\",0.3182],[\"and fan the flame\",0.3182],[\"and fan the flame\",0.3182],[\"and fan the flame\",0.3182],[\"but could not stop from tear it down\",0.3252],[\"you tell me yes\",0.4019],[\"i play soldier you play king\",0.5859]],\"album\":\"living-things\"},{\"Index\":51,\"title\":\"castle-of-glass\",\"norm_comp\":-0.07145,\"sentences\":[[\"wash the poison from off my skin\",-0.5423],[\"wash the sorrow from off my skin\",-0.5267],[\"take me down to the fight end\",-0.3818],[\"and drop me down to the dream below\",-0.0258],[\"take me down to the river bend\",0.0],[\"show me how to be whole again\",0.0],[\"fly me up on a silver wing\",0.0],[\"past the black where the siren sing\",0.0],[\"because i be only a crack in this castle of glass\",0.0],[\"hardly anything there for you to see\",0.0],[\"for you to see\",0.0],[\"through the secret that i have see\",0.0],[\"show me how to be whole again\",0.0],[\"because i be only a crack in this castle of glass\",0.0],[\"hardly anything there for you to see\",0.0],[\"for you to see\",0.0],[\"because i be only a crack in this castle of glass\",0.0],[\"hardly anything else i need to be\",0.0],[\"because i be only a crack in this castle of glass\",0.0],[\"hardly anything there for you to see\",0.0],[\"for you to see\",0.0],[\"for you to see\",0.0],[\"warm me up in a nova glow\",0.2263],[\"bring me home in a blinding dream\",0.25]],\"album\":\"living-things\"},{\"Index\":52,\"title\":\"ill-be-gone\",\"norm_comp\":-0.04253,\"sentences\":[[\"no deceiving now it be time you let me know\",-0.5574],[\"and tell them i could not help myself\",-0.3089],[\"and tell them i be alone\",-0.25],[\"you be forget now it be time you let me go let me go\",-0.2263],[\"and i be try not to think what i be leave now\",-0.0516],[\"star be slip down glisten\",0.0],[\"let me know\",0.0],[\"when the light go out and we open our eye\",0.0],[\"out there in the silence i will be go i will be go\",0.0],[\"let the fade out and another one rise\",0.0],[\"climb through tomorrow i will be go i will be go\",0.0],[\"this in between u be get thinner now\",0.0],[\"across that horizon this be set down\",0.0],[\"when the light go out and we open our eye\",0.0],[\"out there in the silence i will be go i will be go\",0.0],[\"let the fade out and another one rise\",0.0],[\"climb through tomorrow i will be go i will be go\",0.0],[\"oh tell me i be the only one\",0.0],[\"when the light go out and we open our eye\",0.0],[\"out there in the silence i will be go i will be go\",0.0],[\"let the fade out and another one rise\",0.0],[\"climb through tomorrow i will be go i will be go\",0.0],[\"i will be go i will be go\",0.0],[\"into winter now bitter sweet\",0.0516],[\"and there be nothing leave to stop me\",0.2584],[\"like shin oil this night be drip down\",0.3612]],\"album\":\"living-things\"},{\"Index\":53,\"title\":\"skin-to-bone\",\"norm_comp\":-0.03318,\"sentences\":[[\"your deception my disgust\",-0.7783],[\"with the promise betray\",-0.4404],[\"right to leave and leave to right\",-0.1027],[\"right to leave left to right\",-0.0516],[\"skin to bone steel to rust\",0.0],[\"ash to ash dust to dust\",0.0],[\"let tomorrow have it be way\",0.0],[\"skin to bone steel to rust\",0.0],[\"ash to ash dust to dust\",0.0],[\"when your name be finally draw\",0.0],[\"ash to ash dust to dust\",0.0],[\"ash to ash dust to dust\",0.0],[\"skin to bone and steel to rust\",0.0],[\"night to day and day to night\",0.0],[\"i will be far away\",0.0],[\"ash to ash dust to dust\",0.0],[\"skin to bone and steel to rust\",0.0],[\"let tomorrow have it be way\",0.0],[\"skin to bone and steel to rust\",0.0],[\"skin to bone and steel to rust\",0.0],[\"skin to bone and steel to rust\",0.0],[\"a the starlight fade to grey\",0.0516],[\"with the promise we make\",0.3182],[\"i will be happy that you be go\",0.5719]],\"album\":\"living-things\"},{\"Index\":54,\"title\":\"forgotten\",\"norm_comp\":0.05715,\"sentences\":[[\"then with the eye shut look think the rust and rotten dust\",-0.5106],[\"sky cock back and shock that which cannot defend\",-0.4939],[\"when the paper crumple up it cannot be perfect again\",-0.4585],[\"screaming of the ups and down\",-0.3818],[\"the darkness hold me tightly\",-0.25],[\"the darkness hold me tightly\",-0.25],[\"the darkness hold me tightly\",-0.25],[\"the darkness hold me tightly\",-0.25],[\"at the core i have forget\",-0.2263],[\"at the core i have forget\",-0.2263],[\"at the core i have forget\",-0.2263],[\"at the core i have forget\",-0.2263],[\"at the core i have forget\",-0.2263],[\"the memory will not escape me\",-0.1326],[\"the memory will not escape me\",-0.1326],[\"the memory will not escape me\",-0.1326],[\"the memory will not escape me\",-0.1326],[\"the memory will not escape me\",-0.1326],[\"bottom to top i stop\",-0.1027],[\"bottom to top i stop\",-0.1027],[\"and pours over the rusted world of pretend\",-0.1027],[\"bottom to top i stop\",-0.1027],[\"bottom to top i stop\",-0.1027],[\"bottom to top i stop\",-0.1027],[\"in the middle of my thought\",0.0],[\"the picture be there\",0.0],[\"in the middle of my thought\",0.0],[\"the picture be there\",0.0],[\"there be a place so dark you cannot see the end\",0.0],[\"the rain then send drip acidic question\",0.0],[\"forcefully the power of suggestion\",0.0],[\"a spot of light flood the floor\",0.0],[\"in the middle of my thought\",0.0],[\"the picture be there\",0.0],[\"in the memory you shall find me\",0.0],[\"eye burn up\",0.0],[\"until the rise up\",0.0],[\"move all around\",0.0],[\"pollution manifest in perpetual sound\",0.0],[\"the wheel go round and the sunset creep past the\",0.0],[\"street lamp chainlink and concrete\",0.0],[\"a little piece of paper with a picture drawn\",0.0],[\"float on down the street til the wind be go\",0.0],[\"in the middle of my thought\",0.0],[\"the picture be there\",0.0],[\"in the middle of my thought\",0.0],[\"the picture be there\",0.0],[\"in the memory you shall find me\",0.0],[\"eye burn up\",0.0],[\"until the rise up\",0.0],[\"now you get me caught in the act\",0.0],[\"you bring the thought back\",0.0],[\"i be tell you that\",0.0],[\"i see it right through you\",0.0],[\"now you get me caught in the act\",0.0],[\"you bring the thought back\",0.0],[\"i be tell you that\",0.0],[\"i see it right through you\",0.0],[\"now you get me caught in the act\",0.0],[\"you bring the thought back\",0.0],[\"i be tell you that\",0.0],[\"i see it right through you\",0.0],[\"now you get me caught in the act\",0.0],[\"you bring the thought back\",0.0],[\"i be tell you that\",0.0],[\"i see it right through you\",0.0],[\"now you get me caught in the act\",0.0],[\"you bring the thought back\",0.0],[\"i be tell you that\",0.0],[\"i see it right through you\",0.0],[\"now you get me caught in the act\",0.0],[\"you bring the thought back\",0.0],[\"i be tell you that\",0.0],[\"i see it right through you\",0.0],[\"now you get me caught in the act\",0.0],[\"you bring the thought back\",0.0],[\"i be tell you that\",0.0],[\"i see it right through you\",0.0],[\"in the memory you shall find me\",0.0],[\"eye burn up\",0.0],[\"until the rise up\",0.0],[\"in the memory you shall find me\",0.0],[\"eye burn up\",0.0],[\"until the rise up\",0.0],[\"from the top to the bottom\",0.2023],[\"from the top to the bottom\",0.2023],[\"from the top to the bottom\",0.2023],[\"from the top to the bottom\",0.2023],[\"from the top to the bottom\",0.2023],[\"and the eye ease open and it dark again\",0.3612],[\"the memory now be like the picture be then\",0.3612],[\"take far from my safety\",0.4215],[\"take far from my safety\",0.4215],[\"take far from my safety\",0.4215],[\"take far from my safety\",0.4215],[\"take far from my safety\",0.4215],[\"but why should i care\",0.6486],[\"but why should i care\",0.6486],[\"but why should i care\",0.6486],[\"but why should i care\",0.6486],[\"but why should i care\",0.6486]],\"album\":\"hybrid-theory\"},{\"Index\":55,\"title\":\"papercut\",\"norm_comp\":0.21771,\"sentences\":[[\"i feel the light betray me\",-0.6369],[\"i feel the light betray me\",-0.6369],[\"your paranoia probably worse\",-0.6249],[\"why be i so uptight today\",-0.5214],[\"point out all my mistake to me\",-0.34],[\"paranoia all i get leave\",-0.296],[\"or how the pressure be feed\",-0.296],[\"something in the air not right today\",0.0],[\"to have a voice in the back of my head\",0.0],[\"a face that awake when i close my eye\",0.0],[\"a face watch every time i lie\",0.0],[\"it watch everything\",0.0],[\"so i know now when it be time to sink or swim\",0.0],[\"that the face inside be hear me\",0.0],[\"right beneath my skin\",0.0],[\"i know i have get a face in me\",0.0],[\"you have get a face on the inside too\",0.0],[\"i do not know what set me off first but i know what i cannot stand\",0.0],[\"i cannot add up to what you can but\",0.0],[\"everybody have a face that they hold inside\",0.0],[\"a face that awake when i close my eye\",0.0],[\"a face that watch every time they lie\",0.0],[\"it watch everything\",0.0],[\"so you know that when it be time to sink or swim\",0.0],[\"that the face inside be watch you too\",0.0],[\"right inside your skin\",0.0],[\"the face inside be right beneath your skin\",0.0],[\"the face inside be right beneath your skin\",0.0],[\"the face inside be right beneath your skin\",0.0],[\"the go down\",0.0],[\"the go down\",0.0],[\"it be like i be paranoid lookin over my back\",0.128],[\"it be like i be paranoid lookin over my back\",0.128],[\"it be like i be paranoid lookin over my back\",0.128],[\"it be like i be paranoid lookin over my back\",0.128],[\"it be like i be paranoid lookin over my back\",0.128],[\"i do not know what stress me first\",0.3252],[\"why do it feel like night today\",0.3612],[\"like a face that i hold inside\",0.3612],[\"it be like a whirlwind inside of my head\",0.3612],[\"it be like the face inside be right beneath my skin\",0.3612],[\"it be like a whirlwind inside of my head\",0.3612],[\"it be like the face inside be right beneath my skin\",0.3612],[\"it be like a whirlwind inside of my head\",0.3612],[\"it be like the face inside be right beneath my skin\",0.3612],[\"it be like a whirlwind inside of my head\",0.3612],[\"it be like the face inside be right beneath my skin\",0.3612],[\"it be like a whirlwind inside of my head\",0.3612],[\"it be like the face inside be right beneath my skin\",0.3612],[\"everybody act like the fact of the matter be\",0.3818],[\"but i know just what it feel like\",0.5023],[\"it be like i cannot stop what i be hear within\",0.5248],[\"it be like i cannot stop what i be hear within\",0.5248],[\"it be like i cannot stop what i be hear within\",0.5248],[\"it be like i cannot stop what i be hear within\",0.5248],[\"it be like i cannot stop what i be hear within\",0.5248],[\"it be like i cannot stop what i be hear within\",0.5248],[\"it be like i cannot stop what i be hear within\",0.5248],[\"a face that laugh every time i fall\",0.5574],[\"a face that laugh every time they fall\",0.5574]],\"album\":\"hybrid-theory\"},{\"Index\":56,\"title\":\"in-the-end\",\"norm_comp\":-0.04292,\"sentences\":[[\"in spite of the way you be mock me\",-0.7351],[\"i waste it all just to watch you go\",-0.4215],[\"to lose it all\",-0.4019],[\"to lose it all\",-0.4019],[\"to lose it all\",-0.4019],[\"remember all the time you fight with me\",-0.3818],[\"i try so hard\",-0.1761],[\"i try so hard\",-0.1761],[\"i try so hard\",-0.1761],[\"i try so hard\",-0.1761],[\"it do not even matter how hard you try\",-0.1215],[\"it do not even matter how hard you try\",-0.1215],[\"it do not even matter\",-0.0191],[\"it do not even matter\",-0.0191],[\"it do not even matter\",-0.0191],[\"it do not even matter\",-0.0191],[\"it do not even matter\",-0.0191],[\"it do not even matter\",-0.0191],[\"it start with one thing\",0.0],[\"i do not know why\",0.0],[\"keep that in mind i design this rhyme\",0.0],[\"to explain in due time\",0.0],[\"all i know\",0.0],[\"watch it fly by a the pendulum swing\",0.0],[\"watch it count down to the end of the day\",0.0],[\"the clock tick life away\",0.0],[\"it be so unreal\",0.0],[\"do not look out below\",0.0],[\"watch the time go right out the window\",0.0],[\"try to hold on but you do not even know\",0.0],[\"i keep everything inside\",0.0],[\"and even though i try it all fell apart\",0.0],[\"what it mean to me\",0.0],[\"will eventually be a memory of a time when\",0.0],[\"and get so far\",0.0],[\"but in the end\",0.0],[\"i have to fall\",0.0],[\"but in the end\",0.0],[\"one thing i do not know why\",0.0],[\"keep that in mind i design this rhyme\",0.0],[\"to remind myself of a time when\",0.0],[\"thing be not the way they be before\",0.0],[\"you would not even recognize me anymore\",0.0],[\"not that you know me back then\",0.0],[\"but it all come back to me in the end\",0.0],[\"i keep everything inside\",0.0],[\"and even though i try it all fell apart\",0.0],[\"what it mean to me will eventually be a memory of a time when\",0.0],[\"and get so far\",0.0],[\"but in the end\",0.0],[\"i have to fall\",0.0],[\"but in the end\",0.0],[\"push as far a i can go\",0.0],[\"for all this\",0.0],[\"there be only one thing you should know\",0.0],[\"push as far a i can go\",0.0],[\"for all this\",0.0],[\"there be only one thing you should know\",0.0],[\"and get so far\",0.0],[\"but in the end\",0.0],[\"i have to fall\",0.0],[\"but in the end\",0.0],[\"i be surprise it get so\",0.2732],[\"act like i be part of your property\",0.3612],[\"time be a valuable thing\",0.4767],[\"i have put my trust in you\",0.5106],[\"i have put my trust in you\",0.5106]],\"album\":\"hybrid-theory\"},{\"Index\":57,\"title\":\"by-myself\",\"norm_comp\":-0.0979,\"sentences\":[[\"if i be kill by the question like a cancer\",-0.8225],[\"i make the right move but i be lose within\",-0.5499],[\"i just end up get hurt again\",-0.5267],[\"with thought of failure sinking in\",-0.5106],[\"with thought of failure sinking in\",-0.5106],[\"and give in to sad thought that be madden\",-0.4767],[\"i have lose so much\",-0.4019],[\"what do i do to ignore them behind me\",-0.3612],[\"if i turn my back i be defenseless\",-0.34],[\"no matter what i do\",-0.2732],[\"no matter what i do\",-0.2732],[\"do i hide my pride from these bad dream\",-0.2023],[\"i cannot seem to convince myself\",-0.1877],[\"i cannot seem to convince myself\",-0.1877],[\"how hard i\",-0.1027],[\"how hard i\",-0.1027],[\"do i follow my instinct blindly\",0.0],[\"do i sit here and try to stand it\",0.0],[\"or do i try to catch them redhanded\",0.0],[\"because i cannot hold on when i be stretch so thin\",0.0],[\"i put on my daily facade but then\",0.0],[\"by myself myself\",0.0],[\"i ask why but in my mind\",0.0],[\"i find i cannot rely on myself myself\",0.0],[\"i ask why but in my mind\",0.0],[\"i find i cannot rely on myself\",0.0],[\"i cannot hold on\",0.0],[\"it be all too much to take in\",0.0],[\"i cannot hold on\",0.0],[\"to end thing watch everything spin\",0.0],[\"and to go blindly seem senseless\",0.0],[\"then they will take from me till everything be go\",0.0],[\"if i let them go i will be outdone\",0.0],[\"but if i try to catch them i will be outrun\",0.0],[\"then i will be bury in the silence of the answer\",0.0],[\"by myself myself\",0.0],[\"i ask why but in my mind\",0.0],[\"i find i cannot rely on myself myself\",0.0],[\"i ask why but in my mind\",0.0],[\"i find i cannot rely on myself\",0.0],[\"i cannot hold on\",0.0],[\"it be all too much to take in\",0.0],[\"i cannot hold on\",0.0],[\"to end thing watch everything spin\",0.0],[\"how do you think\",0.0],[\"i be so afraid\",0.0],[\"i be out of touch\",0.0],[\"how do you expect\",0.0],[\"i will know what to do\",0.0],[\"when all i know\",0.0],[\"be what you tell me to\",0.0],[\"do not you\",0.0],[\"i cannot tell you how to make it\",0.0],[\"i be stick on the outside\",0.0],[\"do not you\",0.0],[\"i cannot tell you how to make it\",0.0],[\"i be stick on the outside\",0.0],[\"i cannot hold on\",0.0],[\"it be all too much to take in\",0.0],[\"i cannot hold on\",0.0],[\"to anything watch everything spin\",0.0],[\"i cannot hold on\",0.0],[\"it be all too much to take in\",0.0],[\"i cannot hold on\",0.0],[\"to anything watch everything spin\",0.0],[\"to what i want when i be stretch so thin\",0.0772],[\"to what i want when i be stretch so thin\",0.0772],[\"to what i want when i be stretch so thin\",0.0772],[\"to what i want when i be stretch so thin\",0.0772],[\"do i trust some and get fool by phoniness\",0.1027],[\"or do i trust nobody and live in loneliness\",0.128],[\"if i hide my pride and let it all go on\",0.1779],[\"without some failure sinking\",0.4023],[\"without some failure sinking\",0.4023]],\"album\":\"hybrid-theory\"},{\"Index\":58,\"title\":\"with-you\",\"norm_comp\":-0.02144,\"sentences\":[[\"when thing go wrong i pretend that the past be not real\",-0.5423],[\"no no matter how far we have come\",-0.5106],[\"and i be leave in the wake of the mistake slow to react\",-0.3818],[\"and i be leave in the wake of the mistake slow to react\",-0.3818],[\"now i be trap in this memory\",-0.3182],[\"no matter how far we have come\",-0.2732],[\"remember i be pretend to be where i be not anymore\",-0.1027],[\"to the cold of the static and put my cold foot on the floor\",0.0],[\"forgot all about yesterday\",0.0],[\"a little taste of hypocrisy\",0.0],[\"even though you be so close to me\",0.0],[\"you be still so distant and i cannot bring you back\",0.0],[\"the way i feel\",0.0],[\"the sound of your voice\",0.0],[\"paint on my memory\",0.0],[\"even if you be not with me\",0.0],[\"i be with you\",0.0],[\"you now i see\",0.0],[\"keep everything inside with you\",0.0],[\"you now i see\",0.0],[\"even when i close my eye\",0.0],[\"i hit you and you hit me back\",0.0],[\"we fall to the floor the rest of the day stand still\",0.0],[\"so even though you be close to me\",0.0],[\"you be still so distant and i cannot bring you back\",0.0],[\"the way i feel\",0.0],[\"the sound of your voice\",0.0],[\"paint on my memory\",0.0],[\"even if you be not with me\",0.0],[\"i be with you\",0.0],[\"you now i see\",0.0],[\"keep everything inside with you\",0.0],[\"you now i see\",0.0],[\"even when i close my eye\",0.0],[\"i be with you\",0.0],[\"you now i see\",0.0],[\"keep everything inside with you\",0.0],[\"you now i see\",0.0],[\"even when i close my eye\",0.0],[\"i cannot wait to see tomorrow\",0.0],[\"i cannot wait to see tomorrow\",0.0],[\"with you\",0.0],[\"you now i see\",0.0],[\"keep everything inside with you\",0.0],[\"you now i see\",0.0],[\"even when i close my eye\",0.0],[\"with you\",0.0],[\"you now i see\",0.0],[\"keep everything inside with you\",0.0],[\"you now i see\",0.0],[\"even when i close my eye\",0.0],[\"fine line between this and that\",0.2023],[\"i wake up in a dream today\",0.25],[\"be promise by your face\",0.3182],[\"be promise by your face\",0.3182],[\"it be true\",0.4215],[\"it be true\",0.4215]],\"album\":\"hybrid-theory\"},{\"Index\":59,\"title\":\"runaway\",\"norm_comp\":-0.08299,\"sentences\":[[\"paper bag and angry voice\",-0.5106],[\"guilty by association\",-0.4215],[\"guilty by association\",-0.4215],[\"i learn be never true\",-0.3252],[\"these word be never true\",-0.3252],[\"a constant wave of tension\",-0.3182],[\"another wave of tension\",-0.3182],[\"no more lie\",-0.296],[\"no more lie\",-0.296],[\"no more lie\",-0.296],[\"graffiti decoration\",0.0],[\"under the sky of dust\",0.0],[\"the lesson that you teach me\",0.0],[\"now i find myself in question\",0.0],[\"they point the finger at me again\",0.0],[\"you point the finger at me again\",0.0],[\"i wanna run away\",0.0],[\"never say goodbye\",0.0],[\"instead of wonder why\",0.0],[\"i wanna know the answer\",0.0],[\"i wanna shut the door\",0.0],[\"and open up my mind\",0.0],[\"under a sky of dust\",0.0],[\"have more than fill me up\",0.0],[\"all my talk of take action\",0.0],[\"now i find myself in question\",0.0],[\"they point the finger at me again\",0.0],[\"you point the finger at me again\",0.0],[\"i wanna run away\",0.0],[\"never say goodbye\",0.0],[\"instead of wonder why\",0.0],[\"i wanna know the answer\",0.0],[\"i wanna shut the door\",0.0],[\"and open up my mind\",0.0],[\"i be gonna run away and never say goodbye\",0.0],[\"gonna run away gonna run away\",0.0],[\"gonna run away gonna run away\",0.0],[\"i be gonna run away and never wonder why\",0.0],[\"gonna run away gonna run away\",0.0],[\"gonna run away gonna run away\",0.0],[\"i be gonna run away and open up my mind\",0.0],[\"gonna run away gonna run away\",0.0],[\"gonna run away gonna run away\",0.0],[\"gonna run away gonna run away\",0.0],[\"gonna run away gonna run away\",0.0],[\"i wanna run away\",0.0],[\"never say goodbye\",0.0],[\"instead of wonder why\",0.0],[\"i wanna know the answer\",0.0],[\"i wanna shut the door\",0.0],[\"and open up my mind\",0.0],[\"i wanna run away and open up my mind\",0.0],[\"i wanna run away and open up my mind\",0.0],[\"i wanna run away and open up my mind\",0.0],[\"i wanna run away and open up my mind\",0.0],[\"on top of broken trust\",0.25],[\"i wanna know the truth\",0.3182],[\"i wanna know the truth\",0.3182],[\"i wanna know the truth\",0.3182]],\"album\":\"hybrid-theory\"},{\"Index\":60,\"title\":\"one-step-closer\",\"norm_comp\":0.02698,\"sentences\":[[\"i find the answer be not so clear\",-0.412],[\"all these word they make no sense\",-0.296],[\"all these thought they make no sense\",-0.296],[\"i cannot take this anymore\",0.0],[\"i be say everything i have say before\",0.0],[\"less i hear the less you shall say\",0.0],[\"but you shall find that out anyway\",0.0],[\"everything you say to me\",0.0],[\"take me one step closer to the edge\",0.0],[\"and i be about to break\",0.0],[\"i need a little room to breathe\",0.0],[\"because i be one step closer to the edge\",0.0],[\"and i be about to break\",0.0],[\"nothing seem to go away\",0.0],[\"over and over again\",0.0],[\"everything you say to me\",0.0],[\"take me one step closer to the edge\",0.0],[\"and i be about to break\",0.0],[\"i need a little room to breathe\",0.0],[\"because i be one step closer to the edge\",0.0],[\"and i be about to break\",0.0],[\"everything you say to me\",0.0],[\"take me one step closer to the edge\",0.0],[\"and i be about to break\",0.0],[\"i need a little room to breathe\",0.0],[\"because i be one step closer to the edge\",0.0],[\"and i be about to break\",0.0],[\"shut up when i be talk to you\",0.0],[\"shut up shut up shut up\",0.0],[\"shut up when i be talk to you\",0.0],[\"shut up shut up shut up\",0.0],[\"shut up i be about to break\",0.0],[\"everything you say to me\",0.0],[\"take me one step closer to the edge\",0.0],[\"and i be about to break\",0.0],[\"i need a little room to breathe\",0.0],[\"because i be one step closer to the edge\",0.0],[\"and i be about to break\",0.0],[\"everything you say to me\",0.0],[\"take me one step closer to the edge\",0.0],[\"and i be about to break\",0.0],[\"i need a little room to breathe\",0.0],[\"because i be one step closer to the edge\",0.0],[\"and i be about to break\",0.0],[\"wish i could find a way to disappear\",0.2023],[\"i find bliss in ignorance\",0.296],[\"i find bliss in ignorance\",0.296],[\"just like before\",0.3612],[\"just like before\",0.3612]],\"album\":\"hybrid-theory\"},{\"Index\":61,\"title\":\"points-of-authority\",\"norm_comp\":0.24645,\"sentences\":[[\"the way i will hurt myself again just to get back at you\",-0.5267],[\"and put your name to shame\",-0.4767],[\"and put your name to shame\",-0.4767],[\"and put your name to shame\",-0.4767],[\"you want someone to hurt like you\",-0.1531],[\"you want someone to hurt like you\",-0.1531],[\"you want someone to hurt like you\",-0.1531],[\"you want someone to hurt like you\",-0.1531],[\"forfeit the game\",0.0],[\"before somebody else\",0.0],[\"take you out of the frame\",0.0],[\"cover up your face\",0.0],[\"you cannot run the race\",0.0],[\"the pace be too fast\",0.0],[\"you just will not last\",0.0],[\"you take away if i give in\",0.0],[\"you live what you have learn\",0.0],[\"you live what you have learn\",0.0],[\"you live what you have learn\",0.0],[\"you live what you have learn\",0.0],[\"you take away when i give in\",0.0],[\"you live what you have learn\",0.0],[\"you live what you have learn\",0.0],[\"you live what you have learn\",0.0],[\"you live what you have learn\",0.0],[\"forfeit the game\",0.0],[\"before somebody else\",0.0],[\"take you out of the frame\",0.0],[\"cover up your face\",0.0],[\"you cannot run the race\",0.0],[\"the pace be too fast\",0.0],[\"you just will not last\",0.0],[\"forfeit the game\",0.0],[\"before somebody else\",0.0],[\"take you out of the frame\",0.0],[\"cover up your face\",0.0],[\"you cannot run the race\",0.0],[\"the pace be too fast\",0.0],[\"you just will not last\",0.0],[\"you live what you have learn\",0.0],[\"you live what you have learn\",0.0],[\"you live what you have learn\",0.0],[\"you live what you have learn\",0.0],[\"forfeit the game you live what you have learn\",0.0],[\"forfeit the game you live what you have learn\",0.0],[\"forfeit the game you live what you have learn\",0.0],[\"you live what you have learn\",0.0],[\"while take pleasure in the awful thing you put me through\",0.1779],[\"my life my pride be break\",0.34],[\"my life my pride be break\",0.34],[\"you have to act like you be someone\",0.3612],[\"you want to share what you have be through\",0.3612],[\"you have to act like you be someone\",0.3612],[\"you want to share what you have be through\",0.3612],[\"you have to act like you be someone\",0.3612],[\"you want to share what you have be through\",0.3612],[\"you have to act like you be someone\",0.3612],[\"you want to share what you have be through\",0.3612],[\"you like to think you be never wrong\",0.6192],[\"you like to think you be never wrong\",0.6192],[\"you like to think you be never wrong\",0.6192],[\"you like to think you be never wrong\",0.6192],[\"you love the way i look at you\",0.6369],[\"you love the thing i say i will do\",0.6369]],\"album\":\"hybrid-theory\"},{\"Index\":62,\"title\":\"pushing-me-away\",\"norm_comp\":0.05732,\"sentences\":[[\"that i will fake for the sake of be with you\",-0.4767],[\"i will take the blame for the sake of be with you\",-0.34],[\"the sacrifice of hiding in a lie\",-0.296],[\"the sacrifice of hiding in a lie\",-0.296],[\"the sacrifice of hiding in a lie\",-0.296],[\"you shall soon find we be out of time leave to watch it all unwind\",-0.0516],[\"you shall soon find we be out of time leave to watch it all unwind\",-0.0516],[\"i have lie to you\",0.0],[\"the same way that i always do\",0.0],[\"everything fall apart\",0.0],[\"even the people who never frown eventually break down\",0.0],[\"everything have to end\",0.0],[\"the sacrifice be never know\",0.0],[\"why i never walk away\",0.0],[\"now i see your test me push me away\",0.0],[\"why i never walk away\",0.0],[\"now i see your test me push me away\",0.0],[\"this be the last time\",0.0],[\"everything fall apart\",0.0],[\"even the people who never frown eventually break down\",0.0],[\"everything have to end\",0.0],[\"the sacrifice be never know\",0.0],[\"why i never walk away\",0.0],[\"now i see your test me push me away\",0.0],[\"why i never walk away\",0.0],[\"now i see your test me push me away\",0.0],[\"we be all out of time this be how we find how it all unwinds\",0.0],[\"we be all out of time this be how we find how it all unwinds\",0.0],[\"the sacrifice be never know\",0.0],[\"why i never walk away\",0.0],[\"now i see your test me push me away\",0.0],[\"why i never walk away\",0.0],[\"now i see your test me push me away\",0.0],[\"push me away\",0.0],[\"to do everything you want too\",0.0772],[\"why i play myself this way\",0.34],[\"why i play myself this way\",0.34],[\"why i play myself this way\",0.34],[\"why i play myself this way\",0.34],[\"why i play myself this way\",0.34],[\"why i play myself this way\",0.34],[\"this be the last smile\",0.3612],[\"i have try like you\",0.3612]],\"album\":\"hybrid-theory\"},{\"Index\":63,\"title\":\"crawling\",\"norm_comp\":-0.38641,\"sentences\":[[\"this lack of self control i fear be never end\",-0.6705],[\"this lack of self control i fear be never end\",-0.6705],[\"fear be how i fall\",-0.4939],[\"fear be how i fall\",-0.4939],[\"fear be how i fall\",-0.4939],[\"fear be how i fall\",-0.4939],[\"so insecure\",-0.4754],[\"so insecure\",-0.4754],[\"discomfort endlessly have pull itself upon me\",-0.4215],[\"confuse confuse what be real\",-0.4215],[\"it be haunt how i cannot seem\",-0.4019],[\"that there be just too much pressure to take\",-0.296],[\"distract react\",-0.296],[\"that there be just too much pressure to take\",-0.296],[\"confuse what be real\",-0.2263],[\"consume confuse\",-0.2263],[\"confuse what be real\",-0.2263],[\"confuse what be real\",-0.2263],[\"consume confuse what be real\",-0.2263],[\"control confuse what be real\",-0.2263],[\"without a sense of confidence i be convince\",-0.1783],[\"without a sense of confidence i be convince\",-0.1783],[\"crawl in my skin\",0.0],[\"these wound they will not heal\",0.0],[\"there be something inside me that pull beneath the surface\",0.0],[\"control\",0.0],[\"i cannot seem\",0.0],[\"to find myself again\",0.0],[\"my wall be close in\",0.0],[\"i have felt this way before\",0.0],[\"crawl in my skin\",0.0],[\"these wound they will not heal\",0.0],[\"against my will i stand beside my own reflection\",0.0],[\"to find myself again\",0.0],[\"my wall be close in\",0.0],[\"i have felt this way before\",0.0],[\"crawl in my skin\",0.0],[\"these wound they will not heal\",0.0],[\"crawl in my skin\",0.0],[\"these wound they will not heal\",0.0],[\"there be something inside me that pull beneath the surface\",0.0]],\"album\":\"hybrid-theory\"},{\"Index\":64,\"title\":\"a-place-for-my-head\",\"norm_comp\":0.01476,\"sentences\":[[\"i be so sick of the tension sick of the hunger\",-0.8882],[\"i be so sick of the tension sick of the hunger\",-0.8882],[\"i be sick of the tension sick of the hunger\",-0.872],[\"sick of the tension sick of the hunger\",-0.872],[\"sick of the tension sick of the hunger\",-0.872],[\"i hate when you say you do not understand\",-0.5719],[\"i hate when you say you do not understand\",-0.5719],[\"i hate when you say you do not understand\",-0.5719],[\"find another place to fee your greed\",-0.4019],[\"find another place to fee your greed\",-0.4019],[\"find another place to fee your greed\",-0.4019],[\"find another place to fee your greed\",-0.4019],[\"find another place to fee your greed\",-0.4019],[\"how quiet it be all alone\",-0.25],[\"sick of you act like i owe you this\",-0.2023],[\"sick of you act like i owe you this\",-0.2023],[\"sick of you act like i owe you this\",-0.2023],[\"sick of you act like i owe you this\",-0.2023],[\"sick of you act like i owe you this\",-0.2023],[\"i watch how the\",0.0],[\"moon sits in the sky in the dark night\",0.0],[\"shin with the light from the\",0.0],[\"and the do not give light to the moon assume\",0.0],[\"the moon go to owe it one\",0.0],[\"it make me think of how you act to me\",0.0],[\"you do\",0.0],[\"you just\",0.0],[\"turn around and start ask me about\",0.0],[\"while i find a place to rest\",0.0],[\"you shall see it be not mean to be\",0.0],[\"a place for my head\",0.0],[\"run away the people i think i know\",0.0],[\"i remember back then who you be\",0.0],[\"that you have\",0.0],[\"i be so\",0.0],[\"while i find a place to rest\",0.0],[\"i be so\",0.0],[\"while i find a place to rest\",0.0],[\"you shall see it be not mean to be\",0.0],[\"a place for my head\",0.0],[\"go away\",0.0],[\"go away\",0.0],[\"go away\",0.0],[\"go away\",0.0],[\"go away\",0.0],[\"go away\",0.0],[\"go away\",0.0],[\"go away\",0.0],[\"you shall see it be not mean to be\",0.0],[\"a place for my head\",0.0],[\"shut up\",0.0],[\"while i find a place to rest\",0.0],[\"while i find a place to rest\",0.0],[\"thing you want back from me\",0.0772],[\"i want to be in another place\",0.0772],[\"i want to be in another place\",0.0772],[\"i want to be in another place\",0.0772],[\"use to be generous but you should have know\",0.2846],[\"maybe someday i will be just like you and\",0.3612],[\"step on people like you do and\",0.3612],[\"favor and then rapidly\",0.4019],[\"wear out your welcome now you see\",0.4588],[\"you try to take the best of me\",0.6369],[\"you try to take the best of me\",0.6369],[\"you try to take the best of me\",0.6369],[\"you try to take the best of me\",0.6369],[\"you try to take the best of me\",0.6369],[\"you try to take the best of me\",0.6369],[\"you try to take the best of me\",0.6369],[\"you try to take the best of me\",0.6369],[\"i want to be in the energy not with the enemy\",0.6428],[\"i want to be in the energy not with the enemy\",0.6428],[\"i want to be in the energy not with the enemy\",0.6428],[\"you use to be calm use to be strong\",0.6808]],\"album\":\"hybrid-theory\"},{\"Index\":65,\"title\":\"what-ive-done\",\"norm_comp\":0.04223,\"sentences\":[[\"there be no blood there be no alibi\",-0.5267],[\"and whatever pain come\",-0.5106],[\"because i have draw regret\",-0.4215],[\"in this farewell\",0.0],[\"what i have do\",0.0],[\"i will face myself to cross out what i have become\",0.0],[\"erase myself\",0.0],[\"and let go of what i have do\",0.0],[\"put to rest what you think of me\",0.0],[\"what i have do\",0.0],[\"i will face myself to cross out what i have become\",0.0],[\"erase myself\",0.0],[\"and let go of what i have do\",0.0],[\"for what i have do\",0.0],[\"i start again\",0.0],[\"today this end\",0.0],[\"i will face myself to cross out what i have become\",0.0],[\"erase myself\",0.0],[\"and let go of what i have do\",0.0],[\"na na na na na na na na na na na na\",0.0],[\"what i have do\",0.0],[\"na na na na na na na na na na na na\",0.0],[\"na na na na na na na na na na na na na na na\",0.0],[\"na na na na\",0.0],[\"with the hand of uncertainty\",0.2023],[\"i be forgive what i have do\",0.2732],[\"forgive what i have do\",0.2732],[\"from the truth of a thousand lie\",0.3182],[\"while i clean this slate\",0.4019],[\"so let mercy come and wash away\",0.4173],[\"so let mercy come and wash away\",0.4173]],\"album\":\"minutes-to-midnight\"},{\"Index\":66,\"title\":\"hands-held-high\",\"norm_comp\":-0.0363,\"sentences\":[[\"when the rich wage war it be the poor who die\",-0.8074],[\"and an abandon the poor\",-0.7184],[\"but a bomb blow the mosque up yesterday\",-0.6486],[\"a different brand of war\",-0.5994],[\"but i be not laugh\",-0.5975],[\"they panic and start run\",-0.5106],[\"sick of the dark way\",-0.5106],[\"both scar and angry\",-0.5106],[\"fuck that i want to\",-0.4939],[\"there be bomb in the bus bike road\",-0.4939],[\"my dad he be get a lot of fear i know\",-0.4939],[\"they might attack you for\",-0.4767],[\"a little red cover with a broken spine\",-0.4767],[\"for a leader so nervous\",-0.4101],[\"heal the blind\",-0.4019],[\"i summon the rhyme i be dump\",-0.3818],[\"like this war be really just\",-0.34],[\"because when it get tense\",-0.34],[\"word on loose leaf\",-0.3182],[\"stuttering and mumbling\",-0.3182],[\"stuttering and mumbling\",-0.3182],[\"risk something\",-0.2732],[\"like it be stupid stand for\",-0.2263],[\"these fucker be laugh their way\",-0.1779],[\"because i be sick of be treat\",-0.1531],[\"it be ironic\",-0.128],[\"like it do not cater the rich\",-0.1088],[\"turn my mic up louder\",0.0],[\"i get to say something\",0.0],[\"lightweight step aside\",0.0],[\"when we come in\",0.0],[\"feel it in your chest\",0.0],[\"the syllable get pump\",0.0],[\"people on the street\",0.0],[\"sheet complete come\",0.0],[\"i jump on my mind\",0.0],[\"we to the drumming\",0.0],[\"jump when they tell u\",0.0],[\"see some fist pump\",0.0],[\"take back what be yours\",0.0],[\"say something that you know\",0.0],[\"what i be stand for\",0.0],[\"in the back of the jet\",0.0],[\"when you cannot put gas in your tank\",0.0],[\"to the bank and cash their check\",0.0],[\"in an obvious way\",0.0],[\"for nightly news to replay\",0.0],[\"and the rest of the world\",0.0],[\"watch at the end of the day\",0.0],[\"amen amen amen amen amen\",0.0],[\"in my living room watch\",0.0],[\"i know what might happen\",0.0],[\"the world be cold\",0.0],[\"have to react\",0.0],[\"or get blow into fraction\",0.0],[\"ten year old be something to see\",0.0],[\"another kid my age drug under a jeep\",0.0],[\"take and bind and find later under a tree\",0.0],[\"i wonder if he think the next one could be me\",0.0],[\"do you see\",0.0],[\"the soldier they be out today\",0.0],[\"that brush the dust from bulletproof vest away\",0.0],[\"inside your market your shop your clothes\",0.0],[\"meanwhile the leader just talk away\",0.0],[\"for nightly news to replay\",0.0],[\"and the rest of the world\",0.0],[\"watch at the end of the day\",0.0],[\"amen amen amen amen amen\",0.0],[\"into a sky so blue\",0.0],[\"a the ocean open up\",0.0],[\"to swallow you\",0.0],[\"into a sky so blue\",0.0],[\"the ocean open up\",0.0],[\"to swallow you\",0.0],[\"into a sky so blue\",0.0],[\"the ocean open up\",0.0],[\"to swallow you\",0.0],[\"into a sky so blue\",0.0],[\"the ocean open up\",0.0],[\"to swallow you\",0.0],[\"into a sky so blue\",0.0],[\"the ocean open up\",0.0],[\"to swallow you\",0.0],[\"into a sky so blue\",0.0],[\"the ocean open up\",0.0],[\"to swallow you\",0.0],[\"they want to see jumping\",0.0772],[\"i promise to let the in\",0.3182],[\"my brother have a book he would hold with pride\",0.34],[\"like i have before\",0.3612],[\"like they understand you\",0.3612],[\"like what do he say\",0.3612],[\"like what do he say\",0.3612],[\"the bold men take action\",0.3818],[\"but enough pride inside not to let that show\",0.4767],[\"in the back he hand write a quote inside\",0.4939],[\"with hand hold high\",0.4939],[\"with hand hold high\",0.4939],[\"with hand hold high\",0.4939],[\"with hand hold high\",0.4939],[\"with hand hold high\",0.4939],[\"with hand hold high\",0.4939],[\"in the living room laugh\",0.5574],[\"at time like this you pray\",0.5859],[\"ask you to have compassion and to have some respect\",0.7269]],\"album\":\"minutes-to-midnight\"},{\"Index\":67,\"title\":\"no-more-sorrow\",\"norm_comp\":-0.42751,\"sentences\":[[\"no no more sorrow\",-0.796],[\"no no more sorrow\",-0.796],[\"no no more sorrow\",-0.796],[\"i see liar and thief\",-0.7717],[\"abused power with greed\",-0.7184],[\"no more sorrow\",-0.7089],[\"but i be begin to think that i have be deceive\",-0.5499],[\"thief and hypocrite\",-0.5267],[\"thief and hypocrite\",-0.5267],[\"thief and hypocrite\",-0.5267],[\"i see pain\",-0.5106],[\"i have pay for your mistake\",-0.4215],[\"i have pay for your mistake\",-0.4215],[\"i have pay for your mistake\",-0.4215],[\"i have pay for your mistake\",-0.4215],[\"be you lose\",-0.4019],[\"your crusade a disguise\",-0.25],[\"you will pay for what you have do\",-0.1027],[\"in your lie\",0.0],[\"do you tell yourself i do not realize\",0.0],[\"you trade money for life\",0.0],[\"i be aware of what you have do\",0.0],[\"your time be borrow\",0.0],[\"your time have come to be replace\",0.0],[\"i see need\",0.0],[\"i believe\",0.0],[\"your time be borrow\",0.0],[\"your time have come to be replace\",0.0],[\"your time be borrow\",0.0],[\"your time have come to be replace\",0.0],[\"your time be borrow\",0.0],[\"your time have come to be replace\",0.0],[\"your time have come to be replace\",0.0],[\"your time have come to be erase\",0.0],[\"replace freedom with fear\",0.25],[\"i have hope\",0.4404]],\"album\":\"minutes-to-midnight\"},{\"Index\":68,\"title\":\"shadow-of-the-day\",\"norm_comp\":0.1683,\"sentences\":[[\"i close both blind and turn away\",-0.4019],[\"i close both lock below the window\",0.0],[\"sometimes goodbyes the only way oh\",0.0],[\"and the will set for you\",0.0],[\"the will set for you\",0.0],[\"and the shadow of the day\",0.0],[\"and the will set for you\",0.0],[\"in card and flower on your window\",0.0],[\"sometimes beginning be not so simple\",0.0],[\"sometimes goodbyes the only way oh\",0.0],[\"and the will set for you\",0.0],[\"the will set for you\",0.0],[\"and the shadow of the day\",0.0],[\"and the will set for you\",0.0],[\"and the shadow of the day\",0.0],[\"and the will set for you\",0.0],[\"and the shadow of the day\",0.0],[\"and the will set for you\",0.0],[\"sometimes solution be not so simple\",0.3182],[\"will embrace the world in gray\",0.3182],[\"will embrace the world in gray\",0.3182],[\"will embrace the world in gray\",0.3182],[\"will embrace the world in gray\",0.3182],[\"your friend all plead for you to stay\",0.4939]],\"album\":\"minutes-to-midnight\"},{\"Index\":69,\"title\":\"in-pieces\",\"norm_comp\":-0.04231,\"sentences\":[[\"your eye say that you hate\",-0.5719],[\"what you build you lay to waste\",-0.4215],[\"and regret\",-0.4215],[\"and regret\",-0.4215],[\"and regret\",-0.4215],[\"and you you will be alone\",-0.25],[\"alone with all your secret\",-0.25],[\"and you you will be alone\",-0.25],[\"alone with all your secret\",-0.25],[\"and you you will be alone\",-0.25],[\"alone with all your secret\",-0.25],[\"be the one to leave this\",-0.0516],[\"be the one to leave this\",-0.0516],[\"be the one to leave this\",-0.0516],[\"tell me to go\",0.0],[\"all i have gots what you do not take\",0.0],[\"so i i will not be the one\",0.0],[\"in piece\",0.0],[\"do not lie\",0.0],[\"you wrap me in your arm\",0.0],[\"and chill me to the bone\",0.0],[\"all i have gots what you do not take\",0.0],[\"so i i will not be the one\",0.0],[\"in piece\",0.0],[\"do not lie\",0.0],[\"so i i will not be the one\",0.0],[\"in piece\",0.0],[\"do not lie\",0.0],[\"doubt in your faith\",0.0772],[\"doubt in your faith\",0.0772],[\"doubt in your faith\",0.0772],[\"there be truth in your lie\",0.3182],[\"there be truth in your lie\",0.3182],[\"you promise me the sky\",0.3182],[\"there be truth in your lie\",0.3182],[\"then toss me like a stone\",0.3612],[\"your lip say that you love\",0.6369],[\"but hand beg me to stay\",0.6486]],\"album\":\"minutes-to-midnight\"},{\"Index\":70,\"title\":\"bleed-it-out\",\"norm_comp\":-0.0575,\"sentences\":[[\"fuck this hurt i will not lie\",-0.7845],[\"death be roll in every verse\",-0.5994],[\"make it a dirty dance floor again\",-0.4404],[\"so why try ignore him\",-0.4144],[\"and i know that i will not be satisfy\",-0.357],[\"make it a dirt dance floor again\",-0.34],[\"go stop the show\",-0.296],[\"filthy mouth no excuse\",-0.2263],[\"mama help me i have be curse\",-0.2023],[\"cock it back and then watch it go\",-0.1531],[\"throw em up and let something shine\",0.0],[\"go out of my fucking mind\",0.0],[\"find a new place to hang this noose\",0.0],[\"string me up from atop these roof\",0.0],[\"dig a trench out lay down there\",0.0],[\"say your prayer and stomp it out\",0.0],[\"when they bring that chorus in\",0.0],[\"i bleed it out\",0.0],[\"dig deeper just to throw it away\",0.0],[\"i bleed it out\",0.0],[\"dig deeper just to throw it away\",0.0],[\"i bleed it out\",0.0],[\"dig deeper just to throw it away\",0.0],[\"just to throw it away\",0.0],[\"just to throw it away\",0.0],[\"i bleed it out\",0.0],[\"choppy word in a sloppy flow\",0.0],[\"shotgun opera lock and load\",0.0],[\"candy paint on his brand new hearse\",0.0],[\"cannot contain him\",0.0],[\"he know he work\",0.0],[\"half the word do not mean a thing\",0.0],[\"say your prayer and stomp it out\",0.0],[\"when they bring that chorus in\",0.0],[\"i bleed it out\",0.0],[\"dig deeper just to throw it away\",0.0],[\"i bleed it out\",0.0],[\"dig deeper just to throw it away\",0.0],[\"i bleed it out\",0.0],[\"dig deeper just to throw it away\",0.0],[\"just to throw it away\",0.0],[\"just to throw it away\",0.0],[\"i bleed it out\",0.0],[\"i have open up these scar\",0.0],[\"i will make you face this\",0.0],[\"i have pull myself apart\",0.0],[\"i will make you face this now\",0.0],[\"i bleed it out\",0.0],[\"dig deeper just to throw it away\",0.0],[\"i bleed it out\",0.0],[\"dig deeper just to throw it away\",0.0],[\"i bleed it out\",0.0],[\"dig deeper just to throw it away\",0.0],[\"just to throw it away\",0.0],[\"just to throw it away\",0.0],[\"i bleed it out\",0.0],[\"dig deeper just to throw it away\",0.0],[\"i bleed it out\",0.0],[\"dig deeper just to throw it away\",0.0],[\"i bleed it out\",0.0],[\"dig deeper just to throw it away\",0.0],[\"just to throw it away\",0.0],[\"just to throw it away\",0.0],[\"i bleed it out\",0.0],[\"i bleed it out\",0.0],[\"i bleed it out\",0.0],[\"truth be you can stop and stare\",0.0258],[\"with a shovel up out of reach somewhere\",0.0258],[\"do not matter how hard i try\",0.0572],[\"knot it tight so i will not get loose\",0.2411],[\"bleed myself out and no one care\",0.25],[\"yeah here we go for the hundredth time\",0.296],[\"yeah someone pour it in\",0.296],[\"hand grenade pin in every line\",0.4939]],\"album\":\"minutes-to-midnight\"},{\"Index\":71,\"title\":\"valentines-day\",\"norm_comp\":-0.26243,\"sentences\":[[\"but the heartless wind keep blow blowing\",-0.6486],[\"but the heartless wind keep blow blowing\",-0.6486],[\"and blow away a i collapse so cold\",-0.4939],[\"so now you be go and i be wrong\",-0.4767],[\"look so dissatisfied\",-0.4391],[\"look so dissatisfied\",-0.4391],[\"cause my path have lose direction somehow\",-0.4019],[\"on a valentine day because my mind have lose direction\",-0.4019],[\"on a valentine day because my mind have lose direction\",-0.4019],[\"and now the darkness over day that night\",-0.25],[\"and now the darkness over day that night\",-0.25],[\"my inside all turn to ash so slow\",0.0],[\"a black wind take them away from sight\",0.0],[\"and the cloud above move closer\",0.0],[\"i use to be my own protection but not now\",0.0],[\"a black wind take you away from sight\",0.0],[\"and the cloud above move closer\",0.0],[\"and the ground below grow colder\",0.0],[\"a they put you down inside\",0.0],[\"on a valentine day on a valentine day\",0.0],[\"on a valentine day on a valentine day\",0.0],[\"on a valentines day i use to be my own protection\",0.0],[\"on a valentines day but not now\",0.0],[\"on a valentine day somehow\",0.0],[\"on a valentines day i use to be my own protection\",0.0],[\"on a valentines day but not now\",0.0],[\"on a valentine day somehow\",0.0],[\"i never know what it be like to be alone\",0.128]],\"album\":\"minutes-to-midnight\"},{\"Index\":72,\"title\":\"no-roads-left\",\"norm_comp\":-0.21003,\"sentences\":[[\"but there be no regret\",-0.7579],[\"stand alone with no direction\",-0.4939],[\"in my fear and flaw\",-0.4939],[\"in my fear and flaw\",-0.4939],[\"in my fear and flaw i run\",-0.4939],[\"in my fear and flaw\",-0.4939],[\"when do i lose my sense of purpose\",-0.4019],[\"can i regain what be lose inside\",-0.4019],[\"and no road leave to run\",-0.34],[\"til i have no breath\",-0.296],[\"til i have no breath\",-0.296],[\"and no road leave but one\",-0.1779],[\"and no road leave but one\",-0.1779],[\"no road leave but one\",-0.1779],[\"how do i fall so far behind\",0.0],[\"know it be something i will not find\",0.0],[\"i let myself down again\",0.0],[\"all because i run\",0.0],[\"til the silence split me open i run\",0.0],[\"til it put me underground\",0.0],[\"i let myself down again\",0.0],[\"all because i let myself down\",0.0],[\"til the silence split me open i run\",0.0],[\"til it put me underground\",0.0],[\"i let myself down again\",0.0],[\"all because i run\",0.0],[\"and the silence split me open i run\",0.0],[\"and it put me underground\",0.0],[\"why do my pain look like my pride\",0.1531],[\"why do i feel like i deserve this\",0.3612],[\"why be i search for perfection\",0.5719]],\"album\":\"minutes-to-midnight\"},{\"Index\":73,\"title\":\"the-little-things-give-you-away\",\"norm_comp\":0.17038,\"sentences\":[[\"but there will be no mistakin\",-0.4215],[\"and now there will be no mistakin\",-0.296],[\"generation disappear\",-0.2263],[\"do not wanna reach for me do you\",-0.0191],[\"do not wanna reach for me do you\",-0.0191],[\"water gray\",0.0],[\"through the window up the stair\",0.0],[\"chill rain\",0.0],[\"i mean nothin to you\",0.0],[\"the little thing give you away\",0.0],[\"the levee be breakin\",0.0],[\"and six foot under water\",0.0],[\"i do\",0.0],[\"wash away\",0.0],[\"a a nation simply stare\",0.0],[\"i mean nothin to you\",0.0],[\"the little thing give you away\",0.0],[\"the levee be breakin\",0.0],[\"and six foot under water\",0.0],[\"i do\",0.0],[\"and six foot under ground now\",0.0],[\"now i\",0.0],[\"now i do\",0.0],[\"oh oh oh oh oh oh\",0.0],[\"little thing give you away\",0.0],[\"little thing give you away\",0.0],[\"little thing give you away\",0.0],[\"little thing give you away\",0.0],[\"hope decay\",0.0516],[\"all you have ever want\",0.0772],[\"all you have ever want\",0.0772],[\"all you have ever want\",0.0772],[\"all you have ever want little thing give you away\",0.0772],[\"all you have ever want little thing give you away\",0.0772],[\"all you have ever want little thing give you away\",0.0772],[\"all you have ever want little thing give you away\",0.0772],[\"all you have ever want little thing give you away\",0.0772],[\"all you have ever want little thing give you away\",0.0772],[\"like an ocean everywhere\",0.3612],[\"be someone to truly look up to you\",0.4404],[\"be someone to truly look up to you\",0.4404],[\"be someone to truly look up to you\",0.4404],[\"be someone to truly look up to you little thing give you away\",0.4404],[\"be someone to truly look up to you little thing give you away\",0.4404],[\"be someone to truly look up to you little thing give you away\",0.4404],[\"be someone to truly look up to you little thing give you away\",0.4404],[\"be someone to truly look up to you little thing give you away\",0.4404],[\"be someone to truly look up to you little thing give you away\",0.4404]],\"album\":\"minutes-to-midnight\"},{\"Index\":74,\"title\":\"in-between\",\"norm_comp\":-0.05665,\"sentences\":[[\"the only thing that be bad than one be none\",-0.5423],[\"the only thing that be bad than one be none\",-0.5423],[\"the only thing that be bad than one be none\",-0.5423],[\"the only thing that be bad than one be\",-0.5423],[\"the only thing that be bad than one be none\",-0.5423],[\"the only thing that be bad than one be none\",-0.5423],[\"the only thing that be bad than one be none\",-0.5423],[\"fear be not afraid of you\",-0.4939],[\"the thing i want to say to you get lose before they come\",-0.34],[\"the thing i want to say to you get lose before they come\",-0.34],[\"the thing i want to say to you get lose before they come\",-0.34],[\"the thing i want to say to you get lose before they come\",-0.34],[\"guilt a language you can understand\",-0.2732],[\"but try to be genuine be hard than it seem\",-0.1531],[\"but try to be someone else be hard than it seem\",-0.1531],[\"and somehow i get catch up in between\",0.0],[\"and somehow i get catch up in between\",0.0],[\"and somehow i get catch up in between\",0.0],[\"and i cannot explain to you\",0.0],[\"in anything i say or do or plan\",0.0],[\"i cannot explain to you in anything i say or do\",0.0],[\"let me apologize to begin with\",0.1027],[\"let me apologize for what i be about to say\",0.1027],[\"let me apologize to begin with\",0.1027],[\"let me apologize for what i be about to say\",0.1027],[\"let me apologize to begin with\",0.1027],[\"let me apologize for what i be about to say\",0.1027],[\"between my lie and how the truth get in the way\",0.3182],[\"between my lie and how the truth get in the way\",0.3182],[\"for my lie and how the truth get in the way\",0.3182],[\"between my lie and how the truth get in the way\",0.3182],[\"i hope the action speak the word they can\",0.4404],[\"between my pride and my promise\",0.5719],[\"between my pride and my promise\",0.5719],[\"for my pride and my promise\",0.5719],[\"for my pride and my promise\",0.5719],[\"but try to regain your trust be hard than it seem\",0.5927]],\"album\":\"minutes-to-midnight\"},{\"Index\":75,\"title\":\"given-up\",\"norm_comp\":-0.3201,\"sentences\":[[\"i be my own bad enemy\",-0.7906],[\"i be my own bad enemy\",-0.7906],[\"tell me what the fuck be wrong with me\",-0.765],[\"tell me what the fuck be wrong with me\",-0.765],[\"tell me what the fuck be wrong with me\",-0.765],[\"put me out of my fucking misery\",-0.6115],[\"put me out of my misery\",-0.5719],[\"put me out of my misery\",-0.5719],[\"in my disgrace\",-0.4939],[\"another day be lay to waste\",-0.4215],[\"i be sick of feeling\",-0.4215],[\"i be sick of feeling\",-0.4215],[\"i be sick of feeling\",-0.4215],[\"stuck in my head again\",-0.25],[\"i be not prepared\",-0.1695],[\"there be no escape\",-0.128],[\"wake in a sweat again\",0.0],[\"i have give up\",0.0],[\"be there nothing you can say\",0.0],[\"take this all away\",0.0],[\"i be suffocate\",0.0],[\"i do not know what to take\",0.0],[\"thought i be focus but i be scar\",0.0],[\"i hyperventilate\",0.0],[\"i have give up\",0.0],[\"be there nothing you can say\",0.0],[\"take this all away\",0.0],[\"i be suffocate\",0.0],[\"put me out of my\",0.0],[\"i have give up\",0.0],[\"be there nothing you can say\",0.0],[\"take this all away\",0.0],[\"i be suffocate\",0.0],[\"and no one care\",0.25],[\"god\",0.2732],[\"feel like i will never leave this place\",0.3915],[\"look for help somehow somewhere\",0.4019]],\"album\":\"minutes-to-midnight\"},{\"Index\":76,\"title\":\"leave-out-all-the-rest\",\"norm_comp\":-0.12009,\"sentences\":[[\"forget the wrong that i have do\",-0.6124],[\"forget the wrong that i have do\",-0.6124],[\"forget the wrong that i have do\",-0.6124],[\"i wake with this fear\",-0.5789],[\"you be so scared\",-0.5777],[\"i have take my beating\",-0.4588],[\"i have never be perfect\",-0.4585],[\"but no one would listen\",-0.4215],[\"all the hurt inside you have learn to hide so well\",-0.331],[\"all the hurt inside you have learn to hide so well\",-0.331],[\"forget\",-0.2263],[\"forget\",-0.2263],[\"and when you be feel empty\",-0.2023],[\"and when you be feel empty\",-0.2023],[\"and when you be feel empty\",-0.2023],[\"pretend\",-0.1027],[\"pretend\",-0.1027],[\"what be i leave\",-0.0516],[\"leave out all the rest\",-0.0516],[\"leave out all the rest\",-0.0516],[\"leave out all the rest\",-0.0516],[\"leave out all the rest\",-0.0516],[\"leave out all the rest\",-0.0516],[\"leave out all the rest\",-0.0516],[\"after my dreaming\",0.0],[\"when i be do here\",0.0],[\"when my time come\",0.0],[\"keep me in your memory\",0.0],[\"do not be afraid\",0.0],[\"not all the way through\",0.0],[\"but neither have you\",0.0],[\"when my time come\",0.0],[\"keep me in your memory\",0.0],[\"i cannot be who you be\",0.0],[\"when my time come\",0.0],[\"keep me in your memory\",0.0],[\"i cannot be who you be\",0.0],[\"i cannot be who you be\",0.0],[\"so if you be ask me i want you to know\",0.0772],[\"so if you be ask me i want you to know\",0.0772],[\"i dream i be miss\",0.1027],[\"and do not resent me\",0.1326],[\"and do not resent me\",0.1326],[\"and do not resent me\",0.1326],[\"help me leave behind some reason to be miss\",0.2263],[\"help me leave behind some reason to be miss\",0.2263],[\"help me leave behind some reason to be miss\",0.2263],[\"cause no one else care\",0.25],[\"i have share what i have make\",0.296],[\"someone else can come and save me from myself\",0.4939],[\"someone else can come and save me from myself\",0.4939],[\"i be strong on the surface\",0.5106]],\"album\":\"minutes-to-midnight\"}], [{\"field\": \"Index\", \"type\": \"Integer\"}, {\"field\": \"title\"}, {\"field\": \"norm_comp\", \"type\": \"Float\"}, {\"field\": \"sentences\"}, {\"field\": \"album\"}]);\n",
       "            grid.initialize_slick_grid({\"autoEdit\": false, \"fullWidthRows\": true, \"rowHeight\": 28, \"enableColumnReorder\": false, \"defaultColumnWidth\": 150, \"editable\": false, \"forceFitColumns\": true, \"enableTextSelectionOnCells\": true, \"syncColumnCellResize\": true});\n",
       "        });\n",
       "    });\n",
       "});\n"
      ]
     },
     "metadata": {},
     "output_type": "display_data"
    }
   ],
   "source": [
    "qgrid.show_grid(df.doc_sent, export_mode=True)"
   ]
  },
  {
   "cell_type": "code",
   "execution_count": 15,
   "metadata": {
    "scrolled": false
   },
   "outputs": [
    {
     "data": {
      "text/html": [
       "<iframe id=\"igraph\" scrolling=\"no\" style=\"border:none;\" seamless=\"seamless\" src=\"https://plot.ly/~sabbirahm3d/27.embed\" height=\"525px\" width=\"100%\"></iframe>"
      ],
      "text/plain": [
       "<plotly.tools.PlotlyDisplay object>"
      ]
     },
     "execution_count": 15,
     "metadata": {},
     "output_type": "execute_result"
    }
   ],
   "source": [
    "fig = doc_sent_plot(df.doc_sent)\n",
    "py.iplot(fig, filename='doc_sent')"
   ]
  },
  {
   "cell_type": "code",
   "execution_count": null,
   "metadata": {
    "collapsed": true
   },
   "outputs": [],
   "source": []
  }
 ],
 "metadata": {
  "kernelspec": {
   "display_name": "Python 2",
   "language": "python",
   "name": "python2"
  },
  "language_info": {
   "codemirror_mode": {
    "name": "ipython",
    "version": 2
   },
   "file_extension": ".py",
   "mimetype": "text/x-python",
   "name": "python",
   "nbconvert_exporter": "python",
   "pygments_lexer": "ipython2",
   "version": "2.7.12"
  },
  "widgets": {
   "application/vnd.jupyter.widget-state+json": {
    "state": {
     "94a380443eb24e30b081a9155d36b4f1": {
      "model_module": "jupyter-js-widgets",
      "model_module_version": "~2.1.4",
      "model_name": "LayoutModel",
      "state": {
       "_model_module_version": "~2.1.4",
       "_view_module_version": "~2.1.4"
      }
     },
     "a8ad5ba2508040e588fe0c4ba5cf8fa7": {
      "model_module": "jupyter-js-widgets",
      "model_module_version": "~2.1.4",
      "model_name": "VBoxModel",
      "state": {
       "_dom_classes": [
        "widget-interact"
       ],
       "_model_module_version": "~2.1.4",
       "_view_module_version": "~2.1.4",
       "children": [
        "IPY_MODEL_ef570657d19d44d8ab7028b64da957cf",
        "IPY_MODEL_ba9d237e679a4e2f863803c8348f8a0f"
       ],
       "layout": "IPY_MODEL_d1ca2b55a9d449d3ad474d625797ee83"
      }
     },
     "ba9d237e679a4e2f863803c8348f8a0f": {
      "model_module": "jupyter-js-widgets",
      "model_module_version": "~2.1.4",
      "model_name": "OutputModel",
      "state": {
       "_dom_classes": [],
       "_model_module": "jupyter-js-widgets",
       "_model_module_version": "~2.1.4",
       "_view_module": "jupyter-js-widgets",
       "_view_module_version": "~2.1.4",
       "layout": "IPY_MODEL_94a380443eb24e30b081a9155d36b4f1",
       "msg_throttle": 1
      }
     },
     "d1ca2b55a9d449d3ad474d625797ee83": {
      "model_module": "jupyter-js-widgets",
      "model_module_version": "~2.1.4",
      "model_name": "LayoutModel",
      "state": {
       "_model_module_version": "~2.1.4",
       "_view_module_version": "~2.1.4"
      }
     },
     "ef570657d19d44d8ab7028b64da957cf": {
      "model_module": "jupyter-js-widgets",
      "model_module_version": "~2.1.4",
      "model_name": "SelectModel",
      "state": {
       "_model_module_version": "~2.1.4",
       "_options_labels": [
        "All",
        "a-place-for-my-head",
        "all-for-nothing",
        "battle-symphony",
        "blackout",
        "bleed-it-out",
        "breaking-the-habit",
        "burn-it-down",
        "burning-in-the-skies",
        "by-myself",
        "castle-of-glass",
        "crawling",
        "dont-stay",
        "easier-to-run",
        "empty-spaces",
        "faint",
        "figure09",
        "final-masquerade",
        "forgotten",
        "from-the-inside",
        "given-up",
        "good-goodbye",
        "guilty-all-the-same",
        "halfway-right",
        "hands-held-high",
        "heavy",
        "hit-the-floor",
        "ill-be-gone",
        "in-between",
        "in-my-remains",
        "in-pieces",
        "in-the-end",
        "invisible",
        "iridescent",
        "keys-to-the-kingdom",
        "leave-out-all-the-rest",
        "lies-greed-misery",
        "line-in-the-sand",
        "lost-in-the-echo",
        "lying-from-you",
        "mark-the-graves",
        "no-more-sorrow",
        "no-roads-left",
        "nobody-can-save-me",
        "nobodys-listening",
        "numb",
        "one-more-light",
        "one-step-closer",
        "papercut",
        "points-of-authority",
        "powerless",
        "pushing-me-away",
        "rebellion",
        "roads-untraveled",
        "robot-boy",
        "runaway",
        "shadow-of-the-day",
        "sharp-edges",
        "skin-to-bone",
        "somewhere-i-belong",
        "sorry-for-now",
        "talking-to-myself",
        "the-catalyst",
        "the-little-things-give-you-away",
        "the-messenger",
        "the-requiem",
        "the-wastelands",
        "until-it-breaks",
        "until-its-gone",
        "valentines-day",
        "victimized",
        "waiting-for-the-end",
        "war",
        "what-ive-done",
        "when-they-come-for-me",
        "wisdom-justice-and-love",
        "with-you",
        "wretches-kings"
       ],
       "_view_module_version": "~2.1.4",
       "description": "song",
       "layout": "IPY_MODEL_fa0cc0f164834e7987e30388c0b6670d",
       "value": "burn-it-down"
      }
     },
     "fa0cc0f164834e7987e30388c0b6670d": {
      "model_module": "jupyter-js-widgets",
      "model_module_version": "~2.1.4",
      "model_name": "LayoutModel",
      "state": {
       "_model_module_version": "~2.1.4",
       "_view_module_version": "~2.1.4"
      }
     }
    },
    "version_major": 1,
    "version_minor": 0
   }
  }
 },
 "nbformat": 4,
 "nbformat_minor": 2
}
